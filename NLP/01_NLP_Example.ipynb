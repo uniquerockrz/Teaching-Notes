{
 "cells": [
  {
   "cell_type": "markdown",
   "id": "60187fe0-676b-4fc6-ab99-6935e2c64c71",
   "metadata": {},
   "source": [
    "### Load the required libraries"
   ]
  },
  {
   "cell_type": "code",
   "execution_count": 1,
   "id": "bc006361-b137-4af9-9d8d-dd2f334825a7",
   "metadata": {},
   "outputs": [
    {
     "name": "stderr",
     "output_type": "stream",
     "text": [
      "/Users/srvmdk/Work/SKF/nlp-03/.venv/lib/python3.11/site-packages/tqdm/auto.py:21: TqdmWarning: IProgress not found. Please update jupyter and ipywidgets. See https://ipywidgets.readthedocs.io/en/stable/user_install.html\n",
      "  from .autonotebook import tqdm as notebook_tqdm\n"
     ]
    }
   ],
   "source": [
    "import pandas as pd\n",
    "import numpy as np\n",
    "from datasets import load_dataset\n",
    "from sklearn.feature_extraction.text import CountVectorizer\n",
    "from sklearn.ensemble import RandomForestClassifier\n",
    "from sklearn.naive_bayes import MultinomialNB\n",
    "from sklearn.preprocessing import OneHotEncoder\n",
    "from nltk.tokenize import word_tokenize, WhitespaceTokenizer\n",
    "from nltk.corpus import wordnet\n",
    "import nltk"
   ]
  },
  {
   "cell_type": "markdown",
   "id": "7b3f9667-90ed-4b09-9892-6ad1b4b717e0",
   "metadata": {},
   "source": [
    "### Load the dataset, you need to login to your huggingface account for this"
   ]
  },
  {
   "cell_type": "code",
   "execution_count": 2,
   "id": "9f877de2-865f-42ce-a2aa-ad79c945fb6f",
   "metadata": {},
   "outputs": [],
   "source": [
    "dataset = load_dataset('datadrivenscience/movie-genre-prediction')"
   ]
  },
  {
   "cell_type": "code",
   "execution_count": 3,
   "id": "585f68e9-f528-4ffc-aafd-1b7d199252e6",
   "metadata": {},
   "outputs": [
    {
     "data": {
      "text/plain": [
       "DatasetDict({\n",
       "    train: Dataset({\n",
       "        features: ['id', 'movie_name', 'synopsis', 'genre'],\n",
       "        num_rows: 54000\n",
       "    })\n",
       "    test: Dataset({\n",
       "        features: ['id', 'movie_name', 'synopsis', 'genre'],\n",
       "        num_rows: 36000\n",
       "    })\n",
       "})"
      ]
     },
     "execution_count": 3,
     "metadata": {},
     "output_type": "execute_result"
    }
   ],
   "source": [
    "dataset"
   ]
  },
  {
   "cell_type": "code",
   "execution_count": 4,
   "id": "d927f4de-eaf0-4c1c-9050-4d63bf8a6132",
   "metadata": {},
   "outputs": [
    {
     "data": {
      "text/plain": [
       "Dataset({\n",
       "    features: ['id', 'movie_name', 'synopsis', 'genre'],\n",
       "    num_rows: 54000\n",
       "})"
      ]
     },
     "execution_count": 4,
     "metadata": {},
     "output_type": "execute_result"
    }
   ],
   "source": [
    "dataset['train']"
   ]
  },
  {
   "cell_type": "markdown",
   "id": "1b2c20a1-71d3-4e2d-ad2c-53313187c933",
   "metadata": {},
   "source": [
    "### Convert To Dataframe"
   ]
  },
  {
   "cell_type": "code",
   "execution_count": 5,
   "id": "5e8b4ef1-c6ee-4ebc-a58d-6f81400ac57e",
   "metadata": {},
   "outputs": [],
   "source": [
    "df_train_all = pd.DataFrame(dataset['train'])"
   ]
  },
  {
   "cell_type": "code",
   "execution_count": 6,
   "id": "6d1c4579-d344-478b-8e80-e7d7f1375a38",
   "metadata": {},
   "outputs": [
    {
     "data": {
      "text/html": [
       "<div>\n",
       "<style scoped>\n",
       "    .dataframe tbody tr th:only-of-type {\n",
       "        vertical-align: middle;\n",
       "    }\n",
       "\n",
       "    .dataframe tbody tr th {\n",
       "        vertical-align: top;\n",
       "    }\n",
       "\n",
       "    .dataframe thead th {\n",
       "        text-align: right;\n",
       "    }\n",
       "</style>\n",
       "<table border=\"1\" class=\"dataframe\">\n",
       "  <thead>\n",
       "    <tr style=\"text-align: right;\">\n",
       "      <th></th>\n",
       "      <th>id</th>\n",
       "      <th>movie_name</th>\n",
       "      <th>synopsis</th>\n",
       "      <th>genre</th>\n",
       "    </tr>\n",
       "  </thead>\n",
       "  <tbody>\n",
       "    <tr>\n",
       "      <th>0</th>\n",
       "      <td>44978</td>\n",
       "      <td>Super Me</td>\n",
       "      <td>A young scriptwriter starts bringing valuable ...</td>\n",
       "      <td>fantasy</td>\n",
       "    </tr>\n",
       "    <tr>\n",
       "      <th>1</th>\n",
       "      <td>50185</td>\n",
       "      <td>Entity Project</td>\n",
       "      <td>A director and her friends renting a haunted h...</td>\n",
       "      <td>horror</td>\n",
       "    </tr>\n",
       "    <tr>\n",
       "      <th>2</th>\n",
       "      <td>34131</td>\n",
       "      <td>Behavioral Family Therapy for Serious Psychiat...</td>\n",
       "      <td>This is an educational video for families and ...</td>\n",
       "      <td>family</td>\n",
       "    </tr>\n",
       "    <tr>\n",
       "      <th>3</th>\n",
       "      <td>78522</td>\n",
       "      <td>Blood Glacier</td>\n",
       "      <td>Scientists working in the Austrian Alps discov...</td>\n",
       "      <td>scifi</td>\n",
       "    </tr>\n",
       "    <tr>\n",
       "      <th>4</th>\n",
       "      <td>2206</td>\n",
       "      <td>Apat na anino</td>\n",
       "      <td>Buy Day - Four Men Widely - Apart in Life - By...</td>\n",
       "      <td>action</td>\n",
       "    </tr>\n",
       "    <tr>\n",
       "      <th>5</th>\n",
       "      <td>46636</td>\n",
       "      <td>Le démon dans l'île</td>\n",
       "      <td>On an island, things start going crazy as the ...</td>\n",
       "      <td>horror</td>\n",
       "    </tr>\n",
       "    <tr>\n",
       "      <th>6</th>\n",
       "      <td>53777</td>\n",
       "      <td>Candid</td>\n",
       "      <td>A video voyeur stalks women in the city with a...</td>\n",
       "      <td>horror</td>\n",
       "    </tr>\n",
       "    <tr>\n",
       "      <th>7</th>\n",
       "      <td>24872</td>\n",
       "      <td>Hired</td>\n",
       "      <td>Twin brothers separated at birth and worlds ap...</td>\n",
       "      <td>crime</td>\n",
       "    </tr>\n",
       "    <tr>\n",
       "      <th>8</th>\n",
       "      <td>17224</td>\n",
       "      <td>Miruthan</td>\n",
       "      <td>A traffic police officer teams up with his fri...</td>\n",
       "      <td>adventure</td>\n",
       "    </tr>\n",
       "    <tr>\n",
       "      <th>9</th>\n",
       "      <td>54900</td>\n",
       "      <td>Until You See Me</td>\n",
       "      <td>A legendary tale unravels.</td>\n",
       "      <td>mystery</td>\n",
       "    </tr>\n",
       "  </tbody>\n",
       "</table>\n",
       "</div>"
      ],
      "text/plain": [
       "      id                                         movie_name  \\\n",
       "0  44978                                           Super Me   \n",
       "1  50185                                     Entity Project   \n",
       "2  34131  Behavioral Family Therapy for Serious Psychiat...   \n",
       "3  78522                                      Blood Glacier   \n",
       "4   2206                                      Apat na anino   \n",
       "5  46636                                Le démon dans l'île   \n",
       "6  53777                                             Candid   \n",
       "7  24872                                              Hired   \n",
       "8  17224                                           Miruthan   \n",
       "9  54900                                   Until You See Me   \n",
       "\n",
       "                                            synopsis      genre  \n",
       "0  A young scriptwriter starts bringing valuable ...    fantasy  \n",
       "1  A director and her friends renting a haunted h...     horror  \n",
       "2  This is an educational video for families and ...     family  \n",
       "3  Scientists working in the Austrian Alps discov...      scifi  \n",
       "4  Buy Day - Four Men Widely - Apart in Life - By...     action  \n",
       "5  On an island, things start going crazy as the ...     horror  \n",
       "6  A video voyeur stalks women in the city with a...     horror  \n",
       "7  Twin brothers separated at birth and worlds ap...      crime  \n",
       "8  A traffic police officer teams up with his fri...  adventure  \n",
       "9                         A legendary tale unravels.    mystery  "
      ]
     },
     "execution_count": 6,
     "metadata": {},
     "output_type": "execute_result"
    }
   ],
   "source": [
    "df_train_all.head(10)"
   ]
  },
  {
   "cell_type": "code",
   "execution_count": 7,
   "id": "eeea5a24-6292-4893-91b1-0c51d2708ade",
   "metadata": {},
   "outputs": [
    {
     "data": {
      "text/plain": [
       "54000"
      ]
     },
     "execution_count": 7,
     "metadata": {},
     "output_type": "execute_result"
    }
   ],
   "source": [
    "len(df_train_all)"
   ]
  },
  {
   "cell_type": "code",
   "execution_count": 8,
   "id": "bd262dca-2c46-4546-b062-53d94a5490d2",
   "metadata": {},
   "outputs": [],
   "source": [
    "df_test_all = pd.DataFrame(dataset['test'])"
   ]
  },
  {
   "cell_type": "code",
   "execution_count": 9,
   "id": "e5792905-8f41-415e-af28-ce90c1f16740",
   "metadata": {},
   "outputs": [
    {
     "data": {
      "text/html": [
       "<div>\n",
       "<style scoped>\n",
       "    .dataframe tbody tr th:only-of-type {\n",
       "        vertical-align: middle;\n",
       "    }\n",
       "\n",
       "    .dataframe tbody tr th {\n",
       "        vertical-align: top;\n",
       "    }\n",
       "\n",
       "    .dataframe thead th {\n",
       "        text-align: right;\n",
       "    }\n",
       "</style>\n",
       "<table border=\"1\" class=\"dataframe\">\n",
       "  <thead>\n",
       "    <tr style=\"text-align: right;\">\n",
       "      <th></th>\n",
       "      <th>id</th>\n",
       "      <th>movie_name</th>\n",
       "      <th>synopsis</th>\n",
       "      <th>genre</th>\n",
       "    </tr>\n",
       "  </thead>\n",
       "  <tbody>\n",
       "    <tr>\n",
       "      <th>0</th>\n",
       "      <td>16863</td>\n",
       "      <td>A Death Sentence</td>\n",
       "      <td>12 y.o. Ida's dad'll die without a DKK1,500,00...</td>\n",
       "      <td>action</td>\n",
       "    </tr>\n",
       "    <tr>\n",
       "      <th>1</th>\n",
       "      <td>48456</td>\n",
       "      <td>Intermedio</td>\n",
       "      <td>A group of four teenage friends become trapped...</td>\n",
       "      <td>action</td>\n",
       "    </tr>\n",
       "    <tr>\n",
       "      <th>2</th>\n",
       "      <td>41383</td>\n",
       "      <td>30 Chua Phai Tet</td>\n",
       "      <td>A guy left his home for 12 years till he came ...</td>\n",
       "      <td>action</td>\n",
       "    </tr>\n",
       "    <tr>\n",
       "      <th>3</th>\n",
       "      <td>84007</td>\n",
       "      <td>Paranoiac</td>\n",
       "      <td>A man long believed dead returns to the family...</td>\n",
       "      <td>action</td>\n",
       "    </tr>\n",
       "    <tr>\n",
       "      <th>4</th>\n",
       "      <td>40269</td>\n",
       "      <td>Ordinary Happiness</td>\n",
       "      <td>After a deadly accident, Paolo comes back on E...</td>\n",
       "      <td>action</td>\n",
       "    </tr>\n",
       "    <tr>\n",
       "      <th>5</th>\n",
       "      <td>16524</td>\n",
       "      <td>The Syndicate</td>\n",
       "      <td>An alcoholic, his wife, a down and out America...</td>\n",
       "      <td>action</td>\n",
       "    </tr>\n",
       "    <tr>\n",
       "      <th>6</th>\n",
       "      <td>21245</td>\n",
       "      <td>12 Depths</td>\n",
       "      <td>\"Struck by amnesia and framed for murder, a ma...</td>\n",
       "      <td>action</td>\n",
       "    </tr>\n",
       "    <tr>\n",
       "      <th>7</th>\n",
       "      <td>84681</td>\n",
       "      <td>The Feud</td>\n",
       "      <td>A mysterious man returns to his home in Iowa f...</td>\n",
       "      <td>action</td>\n",
       "    </tr>\n",
       "    <tr>\n",
       "      <th>8</th>\n",
       "      <td>73352</td>\n",
       "      <td>Cabin Fever: Patient Zero</td>\n",
       "      <td>When a group of friends enjoying a bachelor cr...</td>\n",
       "      <td>action</td>\n",
       "    </tr>\n",
       "    <tr>\n",
       "      <th>9</th>\n",
       "      <td>37966</td>\n",
       "      <td>Peregrina</td>\n",
       "      <td>After a near death experience, a young woman b...</td>\n",
       "      <td>action</td>\n",
       "    </tr>\n",
       "  </tbody>\n",
       "</table>\n",
       "</div>"
      ],
      "text/plain": [
       "      id                 movie_name  \\\n",
       "0  16863           A Death Sentence   \n",
       "1  48456                 Intermedio   \n",
       "2  41383           30 Chua Phai Tet   \n",
       "3  84007                  Paranoiac   \n",
       "4  40269         Ordinary Happiness   \n",
       "5  16524              The Syndicate   \n",
       "6  21245                  12 Depths   \n",
       "7  84681                   The Feud   \n",
       "8  73352  Cabin Fever: Patient Zero   \n",
       "9  37966                  Peregrina   \n",
       "\n",
       "                                            synopsis   genre  \n",
       "0  12 y.o. Ida's dad'll die without a DKK1,500,00...  action  \n",
       "1  A group of four teenage friends become trapped...  action  \n",
       "2  A guy left his home for 12 years till he came ...  action  \n",
       "3  A man long believed dead returns to the family...  action  \n",
       "4  After a deadly accident, Paolo comes back on E...  action  \n",
       "5  An alcoholic, his wife, a down and out America...  action  \n",
       "6  \"Struck by amnesia and framed for murder, a ma...  action  \n",
       "7  A mysterious man returns to his home in Iowa f...  action  \n",
       "8  When a group of friends enjoying a bachelor cr...  action  \n",
       "9  After a near death experience, a young woman b...  action  "
      ]
     },
     "execution_count": 9,
     "metadata": {},
     "output_type": "execute_result"
    }
   ],
   "source": [
    "df_test_all.head(10)"
   ]
  },
  {
   "cell_type": "code",
   "execution_count": 10,
   "id": "a3d612ba-e65e-4996-acc5-ed9719c13b95",
   "metadata": {},
   "outputs": [
    {
     "data": {
      "text/plain": [
       "36000"
      ]
     },
     "execution_count": 10,
     "metadata": {},
     "output_type": "execute_result"
    }
   ],
   "source": [
    "len(df_test_all)"
   ]
  },
  {
   "cell_type": "markdown",
   "id": "597250d6-c96e-4c6b-98a0-8274a4221589",
   "metadata": {},
   "source": [
    "### Create The Samples"
   ]
  },
  {
   "cell_type": "code",
   "execution_count": 11,
   "id": "afb541c6-8509-49a7-95ec-8fafd43c53fb",
   "metadata": {},
   "outputs": [],
   "source": [
    "df_train = df_train_all.sample(n=1000)"
   ]
  },
  {
   "cell_type": "code",
   "execution_count": 12,
   "id": "40e8804e-8e4a-437f-848b-730c8e69fe73",
   "metadata": {},
   "outputs": [
    {
     "data": {
      "text/html": [
       "<div>\n",
       "<style scoped>\n",
       "    .dataframe tbody tr th:only-of-type {\n",
       "        vertical-align: middle;\n",
       "    }\n",
       "\n",
       "    .dataframe tbody tr th {\n",
       "        vertical-align: top;\n",
       "    }\n",
       "\n",
       "    .dataframe thead th {\n",
       "        text-align: right;\n",
       "    }\n",
       "</style>\n",
       "<table border=\"1\" class=\"dataframe\">\n",
       "  <thead>\n",
       "    <tr style=\"text-align: right;\">\n",
       "      <th></th>\n",
       "      <th>id</th>\n",
       "      <th>movie_name</th>\n",
       "      <th>synopsis</th>\n",
       "      <th>genre</th>\n",
       "    </tr>\n",
       "  </thead>\n",
       "  <tbody>\n",
       "    <tr>\n",
       "      <th>6555</th>\n",
       "      <td>9757</td>\n",
       "      <td>Who Framed Roger Rabbit 2</td>\n",
       "      <td>A sequel to Who Framed Roger Rabbit (1988).</td>\n",
       "      <td>adventure</td>\n",
       "    </tr>\n",
       "    <tr>\n",
       "      <th>46679</th>\n",
       "      <td>38702</td>\n",
       "      <td>Ru lai ba gua gun</td>\n",
       "      <td>Fifth brother is separated from his kin whilst...</td>\n",
       "      <td>fantasy</td>\n",
       "    </tr>\n",
       "    <tr>\n",
       "      <th>4936</th>\n",
       "      <td>37504</td>\n",
       "      <td>Me Two</td>\n",
       "      <td>Ranu, a shy accountant, suddenly discovers a c...</td>\n",
       "      <td>fantasy</td>\n",
       "    </tr>\n",
       "    <tr>\n",
       "      <th>10906</th>\n",
       "      <td>26900</td>\n",
       "      <td>Killer's Moon</td>\n",
       "      <td>Four mental patients - who, due to unauthorize...</td>\n",
       "      <td>crime</td>\n",
       "    </tr>\n",
       "    <tr>\n",
       "      <th>11691</th>\n",
       "      <td>84807</td>\n",
       "      <td>The Storm Thief</td>\n",
       "      <td>The storm robbery is part of the greatest art ...</td>\n",
       "      <td>thriller</td>\n",
       "    </tr>\n",
       "  </tbody>\n",
       "</table>\n",
       "</div>"
      ],
      "text/plain": [
       "          id                 movie_name  \\\n",
       "6555    9757  Who Framed Roger Rabbit 2   \n",
       "46679  38702          Ru lai ba gua gun   \n",
       "4936   37504                     Me Two   \n",
       "10906  26900              Killer's Moon   \n",
       "11691  84807            The Storm Thief   \n",
       "\n",
       "                                                synopsis      genre  \n",
       "6555         A sequel to Who Framed Roger Rabbit (1988).  adventure  \n",
       "46679  Fifth brother is separated from his kin whilst...    fantasy  \n",
       "4936   Ranu, a shy accountant, suddenly discovers a c...    fantasy  \n",
       "10906  Four mental patients - who, due to unauthorize...      crime  \n",
       "11691  The storm robbery is part of the greatest art ...   thriller  "
      ]
     },
     "execution_count": 12,
     "metadata": {},
     "output_type": "execute_result"
    }
   ],
   "source": [
    "df_train.head()"
   ]
  },
  {
   "cell_type": "code",
   "execution_count": 13,
   "id": "29816efc-ba61-4f94-b9ef-d2b9cec86493",
   "metadata": {},
   "outputs": [],
   "source": [
    "df_rest = df_train_all.drop(labels=df_train.index)"
   ]
  },
  {
   "cell_type": "code",
   "execution_count": 14,
   "id": "cc62c862-4753-4ec5-adf9-23883e1ffdfa",
   "metadata": {},
   "outputs": [],
   "source": [
    "df_validate = df_rest.sample(n=500)"
   ]
  },
  {
   "cell_type": "code",
   "execution_count": 15,
   "id": "9e232bad-224f-4822-b636-b591be3493a7",
   "metadata": {},
   "outputs": [
    {
     "data": {
      "text/html": [
       "<div>\n",
       "<style scoped>\n",
       "    .dataframe tbody tr th:only-of-type {\n",
       "        vertical-align: middle;\n",
       "    }\n",
       "\n",
       "    .dataframe tbody tr th {\n",
       "        vertical-align: top;\n",
       "    }\n",
       "\n",
       "    .dataframe thead th {\n",
       "        text-align: right;\n",
       "    }\n",
       "</style>\n",
       "<table border=\"1\" class=\"dataframe\">\n",
       "  <thead>\n",
       "    <tr style=\"text-align: right;\">\n",
       "      <th></th>\n",
       "      <th>id</th>\n",
       "      <th>movie_name</th>\n",
       "      <th>synopsis</th>\n",
       "      <th>genre</th>\n",
       "    </tr>\n",
       "  </thead>\n",
       "  <tbody>\n",
       "    <tr>\n",
       "      <th>22295</th>\n",
       "      <td>86502</td>\n",
       "      <td>The Care and Feeding of Exotic Pets</td>\n",
       "      <td>A kidnapper obsessed with reptiles abducts a m...</td>\n",
       "      <td>thriller</td>\n",
       "    </tr>\n",
       "    <tr>\n",
       "      <th>10717</th>\n",
       "      <td>2794</td>\n",
       "      <td>Hacker</td>\n",
       "      <td>Thirteen-year-old Benjamin discovers that his ...</td>\n",
       "      <td>action</td>\n",
       "    </tr>\n",
       "    <tr>\n",
       "      <th>5958</th>\n",
       "      <td>32836</td>\n",
       "      <td>Doraemon: Nobita and the Wind Wizard</td>\n",
       "      <td>A boy befriends a wind-child and goes on an ad...</td>\n",
       "      <td>family</td>\n",
       "    </tr>\n",
       "    <tr>\n",
       "      <th>39173</th>\n",
       "      <td>43609</td>\n",
       "      <td>Gye Nyame: The Akan War</td>\n",
       "      <td>Nothing was ever as it seemed.</td>\n",
       "      <td>fantasy</td>\n",
       "    </tr>\n",
       "    <tr>\n",
       "      <th>11022</th>\n",
       "      <td>43766</td>\n",
       "      <td>Pan Twardowski</td>\n",
       "      <td>A young nobleman, pursued by Satan since child...</td>\n",
       "      <td>fantasy</td>\n",
       "    </tr>\n",
       "  </tbody>\n",
       "</table>\n",
       "</div>"
      ],
      "text/plain": [
       "          id                            movie_name  \\\n",
       "22295  86502   The Care and Feeding of Exotic Pets   \n",
       "10717   2794                                Hacker   \n",
       "5958   32836  Doraemon: Nobita and the Wind Wizard   \n",
       "39173  43609               Gye Nyame: The Akan War   \n",
       "11022  43766                        Pan Twardowski   \n",
       "\n",
       "                                                synopsis     genre  \n",
       "22295  A kidnapper obsessed with reptiles abducts a m...  thriller  \n",
       "10717  Thirteen-year-old Benjamin discovers that his ...    action  \n",
       "5958   A boy befriends a wind-child and goes on an ad...    family  \n",
       "39173                     Nothing was ever as it seemed.   fantasy  \n",
       "11022  A young nobleman, pursued by Satan since child...   fantasy  "
      ]
     },
     "execution_count": 15,
     "metadata": {},
     "output_type": "execute_result"
    }
   ],
   "source": [
    "df_validate.head()"
   ]
  },
  {
   "cell_type": "code",
   "execution_count": 16,
   "id": "9b1782ff-b475-4161-b5ee-07c8a3cecfc6",
   "metadata": {},
   "outputs": [],
   "source": [
    "df_test = df_test_all.sample(n=200)"
   ]
  },
  {
   "cell_type": "code",
   "execution_count": 17,
   "id": "8bbcd510-36b6-46bc-bb3c-b3aa7f382a9b",
   "metadata": {},
   "outputs": [
    {
     "data": {
      "text/html": [
       "<div>\n",
       "<style scoped>\n",
       "    .dataframe tbody tr th:only-of-type {\n",
       "        vertical-align: middle;\n",
       "    }\n",
       "\n",
       "    .dataframe tbody tr th {\n",
       "        vertical-align: top;\n",
       "    }\n",
       "\n",
       "    .dataframe thead th {\n",
       "        text-align: right;\n",
       "    }\n",
       "</style>\n",
       "<table border=\"1\" class=\"dataframe\">\n",
       "  <thead>\n",
       "    <tr style=\"text-align: right;\">\n",
       "      <th></th>\n",
       "      <th>id</th>\n",
       "      <th>movie_name</th>\n",
       "      <th>synopsis</th>\n",
       "      <th>genre</th>\n",
       "    </tr>\n",
       "  </thead>\n",
       "  <tbody>\n",
       "    <tr>\n",
       "      <th>12332</th>\n",
       "      <td>79455</td>\n",
       "      <td>Sage</td>\n",
       "      <td>A troubled cop becomes the reluctant protector...</td>\n",
       "      <td>action</td>\n",
       "    </tr>\n",
       "    <tr>\n",
       "      <th>31326</th>\n",
       "      <td>76376</td>\n",
       "      <td>Psychonaut</td>\n",
       "      <td>Enabled by a mysterious futuristic machine, Ma...</td>\n",
       "      <td>action</td>\n",
       "    </tr>\n",
       "    <tr>\n",
       "      <th>9799</th>\n",
       "      <td>44365</td>\n",
       "      <td>Shinema no tenshi</td>\n",
       "      <td>A 122-year old movie theater, the Daikokuza, i...</td>\n",
       "      <td>action</td>\n",
       "    </tr>\n",
       "    <tr>\n",
       "      <th>7245</th>\n",
       "      <td>35255</td>\n",
       "      <td>Mai Mai Miracle</td>\n",
       "      <td>Inspired by her grandfather's stories, young S...</td>\n",
       "      <td>action</td>\n",
       "    </tr>\n",
       "    <tr>\n",
       "      <th>5899</th>\n",
       "      <td>51673</td>\n",
       "      <td>Epitaph: Bread and Salt</td>\n",
       "      <td>A family of Estrie hunters, unite with a demon...</td>\n",
       "      <td>action</td>\n",
       "    </tr>\n",
       "  </tbody>\n",
       "</table>\n",
       "</div>"
      ],
      "text/plain": [
       "          id               movie_name  \\\n",
       "12332  79455                     Sage   \n",
       "31326  76376               Psychonaut   \n",
       "9799   44365        Shinema no tenshi   \n",
       "7245   35255          Mai Mai Miracle   \n",
       "5899   51673  Epitaph: Bread and Salt   \n",
       "\n",
       "                                                synopsis   genre  \n",
       "12332  A troubled cop becomes the reluctant protector...  action  \n",
       "31326  Enabled by a mysterious futuristic machine, Ma...  action  \n",
       "9799   A 122-year old movie theater, the Daikokuza, i...  action  \n",
       "7245   Inspired by her grandfather's stories, young S...  action  \n",
       "5899   A family of Estrie hunters, unite with a demon...  action  "
      ]
     },
     "execution_count": 17,
     "metadata": {},
     "output_type": "execute_result"
    }
   ],
   "source": [
    "df_test.head()"
   ]
  },
  {
   "cell_type": "markdown",
   "id": "98e4cb33-0a30-47c3-a3b2-f5499f9dbf1a",
   "metadata": {},
   "source": [
    "### One Hot Encode The Genre"
   ]
  },
  {
   "cell_type": "code",
   "execution_count": 18,
   "id": "acdbdf47-e4c3-499f-aae2-e2c378fbb5c3",
   "metadata": {},
   "outputs": [],
   "source": [
    "ohe = OneHotEncoder(sparse_output=False)"
   ]
  },
  {
   "cell_type": "code",
   "execution_count": 19,
   "id": "2d3a4d2f-6db4-4425-b428-56cdcba282ac",
   "metadata": {},
   "outputs": [],
   "source": [
    "genre_encoded_train = ohe.fit_transform(df_train[['genre']])\n",
    "genre_encoded_validate = ohe.fit_transform(df_validate[['genre']])\n",
    "genre_encoded_test = ohe.fit_transform(df_test[['genre']])"
   ]
  },
  {
   "cell_type": "code",
   "execution_count": 20,
   "id": "cb0bb2d8-2fb5-4d05-bf5c-bdfb473b83a2",
   "metadata": {},
   "outputs": [
    {
     "data": {
      "text/plain": [
       "(1000, 10)"
      ]
     },
     "execution_count": 20,
     "metadata": {},
     "output_type": "execute_result"
    }
   ],
   "source": [
    "genre_encoded_train.shape"
   ]
  },
  {
   "cell_type": "code",
   "execution_count": 21,
   "id": "5debd1d7-c6a0-4f42-9e23-c3da1734932a",
   "metadata": {},
   "outputs": [
    {
     "data": {
      "text/plain": [
       "array([0., 1., 0., 0., 0., 0., 0., 0., 0., 0.])"
      ]
     },
     "execution_count": 21,
     "metadata": {},
     "output_type": "execute_result"
    }
   ],
   "source": [
    "genre_encoded_train[0]"
   ]
  },
  {
   "cell_type": "code",
   "execution_count": 22,
   "id": "2667848d-ac11-4237-bc83-3ff8ef517548",
   "metadata": {},
   "outputs": [],
   "source": [
    "Y_train = genre_encoded_train.argmax(axis=1)\n",
    "Y_validate = genre_encoded_validate.argmax(axis=1)\n",
    "Y_test = genre_encoded_test.argmax(axis=1)"
   ]
  },
  {
   "cell_type": "code",
   "execution_count": 23,
   "id": "0a1e8a16-ece8-4b62-b909-560a364c1ff5",
   "metadata": {},
   "outputs": [
    {
     "data": {
      "text/plain": [
       "array([1, 4, 4, 2, 9, 7, 6, 2, 4, 3, 2, 7, 6, 5, 9, 7, 4, 9, 2, 3, 7, 9,\n",
       "       4, 4, 4, 8, 9, 6, 3, 1, 1, 3, 8, 8, 4, 7, 5, 1, 5, 9, 3, 2, 5, 0,\n",
       "       0, 9, 4, 8, 7, 5, 0, 8, 4, 4, 0, 3, 6, 2, 0, 9, 1, 5, 8, 9, 8, 0,\n",
       "       9, 9, 0, 6, 7, 2, 7, 1, 6, 1, 3, 2, 9, 9, 4, 1, 4, 5, 1, 3, 7, 7,\n",
       "       7, 0, 4, 1, 3, 8, 8, 7, 0, 3, 3, 9, 2, 4, 3, 6, 5, 4, 0, 6, 3, 9,\n",
       "       1, 6, 0, 2, 0, 3, 6, 1, 7, 3, 3, 4, 1, 7, 2, 4, 4, 8, 5, 8, 3, 5,\n",
       "       4, 9, 2, 4, 9, 2, 4, 1, 9, 3, 4, 1, 3, 2, 8, 4, 1, 4, 3, 7, 6, 6,\n",
       "       3, 7, 6, 1, 2, 5, 3, 8, 6, 4, 5, 0, 2, 4, 9, 7, 4, 4, 2, 6, 9, 4,\n",
       "       0, 5, 1, 1, 5, 8, 5, 3, 7, 9, 4, 9, 5, 7, 2, 3, 5, 6, 0, 2, 7, 4,\n",
       "       3, 9, 6, 5, 6, 0, 5, 8, 4, 5, 7, 7, 7, 6, 1, 7, 8, 9, 8, 8, 6, 1,\n",
       "       2, 2, 3, 3, 9, 6, 7, 2, 3, 6, 2, 7, 5, 0, 2, 6, 3, 7, 4, 8, 7, 2,\n",
       "       4, 4, 2, 7, 1, 0, 2, 7, 5, 1, 2, 1, 1, 9, 2, 6, 6, 0, 2, 1, 7, 4,\n",
       "       7, 8, 1, 7, 9, 3, 3, 8, 3, 8, 9, 8, 3, 8, 5, 0, 4, 1, 4, 8, 2, 0,\n",
       "       0, 9, 0, 6, 9, 4, 4, 0, 6, 5, 0, 6, 8, 2, 5, 9, 3, 0, 5, 8, 9, 4,\n",
       "       8, 6, 6, 7, 6, 9, 0, 5, 0, 7, 9, 5, 3, 8, 0, 7, 4, 6, 2, 8, 0, 4,\n",
       "       6, 4, 2, 7, 8, 1, 0, 4, 1, 4, 9, 9, 9, 8, 1, 1, 9, 7, 7, 0, 5, 9,\n",
       "       1, 9, 4, 2, 4, 8, 9, 6, 3, 5, 7, 2, 2, 5, 4, 1, 7, 7, 7, 4, 1, 9,\n",
       "       5, 9, 6, 5, 4, 0, 7, 6, 0, 2, 2, 3, 4, 4, 9, 0, 6, 8, 6, 4, 8, 9,\n",
       "       3, 4, 8, 5, 9, 7, 6, 4, 9, 7, 1, 1, 2, 8, 3, 1, 0, 5, 2, 6, 2, 7,\n",
       "       3, 6, 2, 7, 3, 5, 4, 0, 3, 5, 7, 9, 2, 9, 4, 0, 7, 8, 7, 6, 3, 1,\n",
       "       8, 4, 0, 8, 6, 3, 6, 6, 5, 8, 3, 5, 2, 4, 2, 4, 9, 7, 4, 9, 0, 9,\n",
       "       4, 0, 8, 5, 4, 5, 4, 1, 4, 9, 2, 7, 7, 4, 1, 6, 8, 1, 3, 7, 3, 4,\n",
       "       0, 5, 0, 8, 4, 1, 4, 2, 4, 1, 5, 0, 9, 2, 0, 0, 2, 6, 6, 8, 9, 7,\n",
       "       3, 2, 6, 3, 1, 8, 7, 3, 5, 6, 7, 5, 5, 4, 2, 1, 1, 5, 5, 7, 4, 6,\n",
       "       7, 4, 9, 7, 7, 5, 7, 0, 3, 7, 0, 2, 5, 8, 4, 6, 5, 3, 8, 4, 7, 3,\n",
       "       0, 6, 3, 1, 4, 8, 1, 6, 5, 0, 8, 5, 5, 0, 3, 3, 2, 0, 9, 4, 2, 6,\n",
       "       7, 7, 7, 9, 4, 1, 9, 7, 7, 0, 5, 1, 2, 1, 9, 7, 1, 6, 5, 7, 5, 8,\n",
       "       0, 8, 6, 5, 8, 8, 2, 6, 8, 8, 4, 4, 6, 5, 8, 0, 7, 6, 7, 8, 0, 7,\n",
       "       8, 6, 4, 0, 8, 5, 3, 9, 4, 2, 4, 1, 1, 8, 0, 7, 7, 3, 9, 0, 3, 1,\n",
       "       6, 8, 0, 4, 8, 1, 6, 6, 2, 6, 1, 0, 7, 0, 9, 6, 4, 4, 9, 8, 5, 7,\n",
       "       4, 0, 9, 2, 5, 8, 6, 7, 7, 7, 7, 8, 8, 4, 2, 9, 8, 7, 9, 4, 0, 9,\n",
       "       3, 6, 1, 6, 3, 0, 3, 4, 0, 3, 9, 2, 5, 1, 5, 3, 5, 8, 2, 3, 5, 3,\n",
       "       3, 9, 9, 0, 4, 6, 2, 4, 6, 8, 9, 0, 1, 1, 2, 9, 2, 9, 6, 8, 5, 0,\n",
       "       4, 6, 4, 4, 9, 5, 1, 3, 9, 6, 2, 4, 4, 1, 2, 4, 3, 1, 8, 0, 3, 0,\n",
       "       1, 4, 8, 0, 4, 1, 8, 9, 5, 8, 6, 9, 0, 1, 5, 7, 9, 6, 4, 0, 1, 6,\n",
       "       8, 8, 4, 7, 2, 3, 8, 2, 4, 8, 5, 1, 2, 0, 7, 3, 2, 1, 7, 9, 9, 2,\n",
       "       8, 4, 7, 9, 9, 8, 6, 0, 4, 8, 0, 9, 0, 6, 7, 0, 0, 6, 7, 1, 9, 3,\n",
       "       8, 9, 5, 0, 3, 0, 9, 7, 8, 4, 4, 2, 7, 5, 7, 6, 2, 1, 7, 7, 5, 6,\n",
       "       6, 1, 4, 5, 7, 0, 3, 7, 6, 5, 5, 4, 8, 4, 3, 9, 4, 1, 2, 8, 1, 6,\n",
       "       9, 2, 0, 4, 3, 2, 0, 4, 6, 6, 7, 4, 0, 1, 2, 0, 3, 5, 1, 2, 3, 4,\n",
       "       5, 9, 3, 7, 0, 6, 1, 7, 2, 4, 4, 1, 5, 3, 2, 1, 0, 4, 8, 8, 5, 7,\n",
       "       5, 2, 4, 3, 1, 6, 2, 3, 3, 9, 8, 7, 4, 0, 5, 8, 5, 0, 8, 6, 7, 3,\n",
       "       5, 9, 9, 3, 1, 9, 8, 4, 4, 2, 9, 4, 3, 3, 7, 1, 2, 2, 8, 5, 0, 5,\n",
       "       2, 2, 1, 0, 9, 3, 6, 6, 0, 6, 5, 5, 1, 7, 7, 9, 0, 3, 0, 5, 1, 1,\n",
       "       5, 4, 4, 5, 2, 6, 9, 1, 6, 2, 6, 6, 6, 6, 9, 0, 3, 0, 1, 2, 6, 7,\n",
       "       4, 5, 8, 0, 2, 3, 6, 3, 3, 8])"
      ]
     },
     "execution_count": 23,
     "metadata": {},
     "output_type": "execute_result"
    }
   ],
   "source": [
    "Y_train"
   ]
  },
  {
   "cell_type": "code",
   "execution_count": 24,
   "id": "da376f67-a8f4-47a0-893a-b442ecd30c86",
   "metadata": {},
   "outputs": [
    {
     "data": {
      "text/plain": [
       "1000"
      ]
     },
     "execution_count": 24,
     "metadata": {},
     "output_type": "execute_result"
    }
   ],
   "source": [
    "len(Y_train)"
   ]
  },
  {
   "cell_type": "markdown",
   "id": "8d694fd5-f13d-4741-a9fc-007cf533950d",
   "metadata": {},
   "source": [
    "### Add Movie Name And Synopsis To One Column"
   ]
  },
  {
   "cell_type": "code",
   "execution_count": 25,
   "id": "2781c328-d07b-4b0d-a31e-1e90863d4b30",
   "metadata": {},
   "outputs": [],
   "source": [
    "df_train['text'] = df_train['movie_name'] + ' ' + df_train['synopsis']\n",
    "df_validate['text'] = df_validate['movie_name'] + ' ' + df_validate['synopsis']\n",
    "df_test['text'] = df_test['movie_name'] + ' ' + df_test['synopsis']"
   ]
  },
  {
   "cell_type": "code",
   "execution_count": 26,
   "id": "9662b08c-2123-4908-bd55-5088e244c93d",
   "metadata": {},
   "outputs": [
    {
     "data": {
      "text/html": [
       "<div>\n",
       "<style scoped>\n",
       "    .dataframe tbody tr th:only-of-type {\n",
       "        vertical-align: middle;\n",
       "    }\n",
       "\n",
       "    .dataframe tbody tr th {\n",
       "        vertical-align: top;\n",
       "    }\n",
       "\n",
       "    .dataframe thead th {\n",
       "        text-align: right;\n",
       "    }\n",
       "</style>\n",
       "<table border=\"1\" class=\"dataframe\">\n",
       "  <thead>\n",
       "    <tr style=\"text-align: right;\">\n",
       "      <th></th>\n",
       "      <th>id</th>\n",
       "      <th>movie_name</th>\n",
       "      <th>synopsis</th>\n",
       "      <th>genre</th>\n",
       "      <th>text</th>\n",
       "    </tr>\n",
       "  </thead>\n",
       "  <tbody>\n",
       "    <tr>\n",
       "      <th>6555</th>\n",
       "      <td>9757</td>\n",
       "      <td>Who Framed Roger Rabbit 2</td>\n",
       "      <td>A sequel to Who Framed Roger Rabbit (1988).</td>\n",
       "      <td>adventure</td>\n",
       "      <td>Who Framed Roger Rabbit 2 A sequel to Who Fram...</td>\n",
       "    </tr>\n",
       "    <tr>\n",
       "      <th>46679</th>\n",
       "      <td>38702</td>\n",
       "      <td>Ru lai ba gua gun</td>\n",
       "      <td>Fifth brother is separated from his kin whilst...</td>\n",
       "      <td>fantasy</td>\n",
       "      <td>Ru lai ba gua gun Fifth brother is separated f...</td>\n",
       "    </tr>\n",
       "    <tr>\n",
       "      <th>4936</th>\n",
       "      <td>37504</td>\n",
       "      <td>Me Two</td>\n",
       "      <td>Ranu, a shy accountant, suddenly discovers a c...</td>\n",
       "      <td>fantasy</td>\n",
       "      <td>Me Two Ranu, a shy accountant, suddenly discov...</td>\n",
       "    </tr>\n",
       "    <tr>\n",
       "      <th>10906</th>\n",
       "      <td>26900</td>\n",
       "      <td>Killer's Moon</td>\n",
       "      <td>Four mental patients - who, due to unauthorize...</td>\n",
       "      <td>crime</td>\n",
       "      <td>Killer's Moon Four mental patients - who, due ...</td>\n",
       "    </tr>\n",
       "    <tr>\n",
       "      <th>11691</th>\n",
       "      <td>84807</td>\n",
       "      <td>The Storm Thief</td>\n",
       "      <td>The storm robbery is part of the greatest art ...</td>\n",
       "      <td>thriller</td>\n",
       "      <td>The Storm Thief The storm robbery is part of t...</td>\n",
       "    </tr>\n",
       "    <tr>\n",
       "      <th>51741</th>\n",
       "      <td>66355</td>\n",
       "      <td>The Money</td>\n",
       "      <td>Sief, is a con artist who's hired by the beaut...</td>\n",
       "      <td>romance</td>\n",
       "      <td>The Money Sief, is a con artist who's hired by...</td>\n",
       "    </tr>\n",
       "    <tr>\n",
       "      <th>28883</th>\n",
       "      <td>60282</td>\n",
       "      <td>Ashes of Paradise</td>\n",
       "      <td>A judge falls from the roof of the Federal Cou...</td>\n",
       "      <td>mystery</td>\n",
       "      <td>Ashes of Paradise A judge falls from the roof ...</td>\n",
       "    </tr>\n",
       "    <tr>\n",
       "      <th>13507</th>\n",
       "      <td>21610</td>\n",
       "      <td>Darwaza Bandh Rakho</td>\n",
       "      <td>Small-time crooks bungle a kidnapping attempt.</td>\n",
       "      <td>crime</td>\n",
       "      <td>Darwaza Bandh Rakho Small-time crooks bungle a...</td>\n",
       "    </tr>\n",
       "    <tr>\n",
       "      <th>41972</th>\n",
       "      <td>43895</td>\n",
       "      <td>Signal to Noise</td>\n",
       "      <td>Over a week-long stay at his childhood best fr...</td>\n",
       "      <td>fantasy</td>\n",
       "      <td>Signal to Noise Over a week-long stay at his c...</td>\n",
       "    </tr>\n",
       "    <tr>\n",
       "      <th>10581</th>\n",
       "      <td>34107</td>\n",
       "      <td>Shoulder to Shoulder: One Team's Legacy</td>\n",
       "      <td>A group of friends confront the realities of m...</td>\n",
       "      <td>family</td>\n",
       "      <td>Shoulder to Shoulder: One Team's Legacy A grou...</td>\n",
       "    </tr>\n",
       "  </tbody>\n",
       "</table>\n",
       "</div>"
      ],
      "text/plain": [
       "          id                               movie_name  \\\n",
       "6555    9757                Who Framed Roger Rabbit 2   \n",
       "46679  38702                        Ru lai ba gua gun   \n",
       "4936   37504                                   Me Two   \n",
       "10906  26900                            Killer's Moon   \n",
       "11691  84807                          The Storm Thief   \n",
       "51741  66355                                The Money   \n",
       "28883  60282                        Ashes of Paradise   \n",
       "13507  21610                      Darwaza Bandh Rakho   \n",
       "41972  43895                          Signal to Noise   \n",
       "10581  34107  Shoulder to Shoulder: One Team's Legacy   \n",
       "\n",
       "                                                synopsis      genre  \\\n",
       "6555         A sequel to Who Framed Roger Rabbit (1988).  adventure   \n",
       "46679  Fifth brother is separated from his kin whilst...    fantasy   \n",
       "4936   Ranu, a shy accountant, suddenly discovers a c...    fantasy   \n",
       "10906  Four mental patients - who, due to unauthorize...      crime   \n",
       "11691  The storm robbery is part of the greatest art ...   thriller   \n",
       "51741  Sief, is a con artist who's hired by the beaut...    romance   \n",
       "28883  A judge falls from the roof of the Federal Cou...    mystery   \n",
       "13507     Small-time crooks bungle a kidnapping attempt.      crime   \n",
       "41972  Over a week-long stay at his childhood best fr...    fantasy   \n",
       "10581  A group of friends confront the realities of m...     family   \n",
       "\n",
       "                                                    text  \n",
       "6555   Who Framed Roger Rabbit 2 A sequel to Who Fram...  \n",
       "46679  Ru lai ba gua gun Fifth brother is separated f...  \n",
       "4936   Me Two Ranu, a shy accountant, suddenly discov...  \n",
       "10906  Killer's Moon Four mental patients - who, due ...  \n",
       "11691  The Storm Thief The storm robbery is part of t...  \n",
       "51741  The Money Sief, is a con artist who's hired by...  \n",
       "28883  Ashes of Paradise A judge falls from the roof ...  \n",
       "13507  Darwaza Bandh Rakho Small-time crooks bungle a...  \n",
       "41972  Signal to Noise Over a week-long stay at his c...  \n",
       "10581  Shoulder to Shoulder: One Team's Legacy A grou...  "
      ]
     },
     "execution_count": 26,
     "metadata": {},
     "output_type": "execute_result"
    }
   ],
   "source": [
    "df_train.head(10)"
   ]
  },
  {
   "cell_type": "markdown",
   "id": "168f1008-0a43-4c32-a59c-09304de528f1",
   "metadata": {},
   "source": [
    "### Using Simple Count Vectorizer"
   ]
  },
  {
   "cell_type": "code",
   "execution_count": 27,
   "id": "eb8e2de2-6bc7-4cef-be5e-7bc34c1a242e",
   "metadata": {},
   "outputs": [],
   "source": [
    "df_train_all['text'] = df_train_all['movie_name'] + ' ' + df_train_all['synopsis']"
   ]
  },
  {
   "cell_type": "code",
   "execution_count": 28,
   "id": "924d18da-4445-4868-b453-33f8de5f567f",
   "metadata": {},
   "outputs": [
    {
     "data": {
      "text/html": [
       "<style>#sk-container-id-1 {color: black;}#sk-container-id-1 pre{padding: 0;}#sk-container-id-1 div.sk-toggleable {background-color: white;}#sk-container-id-1 label.sk-toggleable__label {cursor: pointer;display: block;width: 100%;margin-bottom: 0;padding: 0.3em;box-sizing: border-box;text-align: center;}#sk-container-id-1 label.sk-toggleable__label-arrow:before {content: \"▸\";float: left;margin-right: 0.25em;color: #696969;}#sk-container-id-1 label.sk-toggleable__label-arrow:hover:before {color: black;}#sk-container-id-1 div.sk-estimator:hover label.sk-toggleable__label-arrow:before {color: black;}#sk-container-id-1 div.sk-toggleable__content {max-height: 0;max-width: 0;overflow: hidden;text-align: left;background-color: #f0f8ff;}#sk-container-id-1 div.sk-toggleable__content pre {margin: 0.2em;color: black;border-radius: 0.25em;background-color: #f0f8ff;}#sk-container-id-1 input.sk-toggleable__control:checked~div.sk-toggleable__content {max-height: 200px;max-width: 100%;overflow: auto;}#sk-container-id-1 input.sk-toggleable__control:checked~label.sk-toggleable__label-arrow:before {content: \"▾\";}#sk-container-id-1 div.sk-estimator input.sk-toggleable__control:checked~label.sk-toggleable__label {background-color: #d4ebff;}#sk-container-id-1 div.sk-label input.sk-toggleable__control:checked~label.sk-toggleable__label {background-color: #d4ebff;}#sk-container-id-1 input.sk-hidden--visually {border: 0;clip: rect(1px 1px 1px 1px);clip: rect(1px, 1px, 1px, 1px);height: 1px;margin: -1px;overflow: hidden;padding: 0;position: absolute;width: 1px;}#sk-container-id-1 div.sk-estimator {font-family: monospace;background-color: #f0f8ff;border: 1px dotted black;border-radius: 0.25em;box-sizing: border-box;margin-bottom: 0.5em;}#sk-container-id-1 div.sk-estimator:hover {background-color: #d4ebff;}#sk-container-id-1 div.sk-parallel-item::after {content: \"\";width: 100%;border-bottom: 1px solid gray;flex-grow: 1;}#sk-container-id-1 div.sk-label:hover label.sk-toggleable__label {background-color: #d4ebff;}#sk-container-id-1 div.sk-serial::before {content: \"\";position: absolute;border-left: 1px solid gray;box-sizing: border-box;top: 0;bottom: 0;left: 50%;z-index: 0;}#sk-container-id-1 div.sk-serial {display: flex;flex-direction: column;align-items: center;background-color: white;padding-right: 0.2em;padding-left: 0.2em;position: relative;}#sk-container-id-1 div.sk-item {position: relative;z-index: 1;}#sk-container-id-1 div.sk-parallel {display: flex;align-items: stretch;justify-content: center;background-color: white;position: relative;}#sk-container-id-1 div.sk-item::before, #sk-container-id-1 div.sk-parallel-item::before {content: \"\";position: absolute;border-left: 1px solid gray;box-sizing: border-box;top: 0;bottom: 0;left: 50%;z-index: -1;}#sk-container-id-1 div.sk-parallel-item {display: flex;flex-direction: column;z-index: 1;position: relative;background-color: white;}#sk-container-id-1 div.sk-parallel-item:first-child::after {align-self: flex-end;width: 50%;}#sk-container-id-1 div.sk-parallel-item:last-child::after {align-self: flex-start;width: 50%;}#sk-container-id-1 div.sk-parallel-item:only-child::after {width: 0;}#sk-container-id-1 div.sk-dashed-wrapped {border: 1px dashed gray;margin: 0 0.4em 0.5em 0.4em;box-sizing: border-box;padding-bottom: 0.4em;background-color: white;}#sk-container-id-1 div.sk-label label {font-family: monospace;font-weight: bold;display: inline-block;line-height: 1.2em;}#sk-container-id-1 div.sk-label-container {text-align: center;}#sk-container-id-1 div.sk-container {/* jupyter's `normalize.less` sets `[hidden] { display: none; }` but bootstrap.min.css set `[hidden] { display: none !important; }` so we also need the `!important` here to be able to override the default hidden behavior on the sphinx rendered scikit-learn.org. See: https://github.com/scikit-learn/scikit-learn/issues/21755 */display: inline-block !important;position: relative;}#sk-container-id-1 div.sk-text-repr-fallback {display: none;}</style><div id=\"sk-container-id-1\" class=\"sk-top-container\"><div class=\"sk-text-repr-fallback\"><pre>CountVectorizer()</pre><b>In a Jupyter environment, please rerun this cell to show the HTML representation or trust the notebook. <br />On GitHub, the HTML representation is unable to render, please try loading this page with nbviewer.org.</b></div><div class=\"sk-container\" hidden><div class=\"sk-item\"><div class=\"sk-estimator sk-toggleable\"><input class=\"sk-toggleable__control sk-hidden--visually\" id=\"sk-estimator-id-1\" type=\"checkbox\" checked><label for=\"sk-estimator-id-1\" class=\"sk-toggleable__label sk-toggleable__label-arrow\">CountVectorizer</label><div class=\"sk-toggleable__content\"><pre>CountVectorizer()</pre></div></div></div></div></div>"
      ],
      "text/plain": [
       "CountVectorizer()"
      ]
     },
     "execution_count": 28,
     "metadata": {},
     "output_type": "execute_result"
    }
   ],
   "source": [
    "count_vect = CountVectorizer()\n",
    "count_vect.fit(df_train_all['text'])"
   ]
  },
  {
   "cell_type": "code",
   "execution_count": 29,
   "id": "ad84b13c-a785-49b9-a22b-824a132c27e9",
   "metadata": {},
   "outputs": [
    {
     "data": {
      "text/plain": [
       "60678"
      ]
     },
     "execution_count": 29,
     "metadata": {},
     "output_type": "execute_result"
    }
   ],
   "source": [
    "len(count_vect.vocabulary_)"
   ]
  },
  {
   "cell_type": "code",
   "execution_count": 30,
   "id": "20217b36-52ae-44d3-bcd9-2c83e99db4bb",
   "metadata": {},
   "outputs": [],
   "source": [
    "X_train_count_vec = count_vect.transform(df_train['text'])\n",
    "X_validate_count_vec = count_vect.transform(df_validate['text'])\n",
    "X_test_count_vec = count_vect.transform(df_test['text'])"
   ]
  },
  {
   "cell_type": "code",
   "execution_count": 31,
   "id": "0eea6f31-77c8-41de-9410-8cf47fdc2a98",
   "metadata": {},
   "outputs": [
    {
     "data": {
      "text/plain": [
       "array([[0, 0, 0, ..., 0, 0, 0],\n",
       "       [0, 0, 0, ..., 0, 0, 0],\n",
       "       [0, 0, 0, ..., 0, 0, 0],\n",
       "       [0, 0, 0, ..., 0, 0, 0],\n",
       "       [0, 0, 0, ..., 0, 0, 0]])"
      ]
     },
     "execution_count": 31,
     "metadata": {},
     "output_type": "execute_result"
    }
   ],
   "source": [
    "X_train_count_vec[0:5].toarray()"
   ]
  },
  {
   "cell_type": "markdown",
   "id": "ba296a5a-cd2e-4d13-867b-e4d705d645a5",
   "metadata": {},
   "source": [
    "### Running A Naive Bayes Model"
   ]
  },
  {
   "cell_type": "code",
   "execution_count": 32,
   "id": "66b822f4-5668-4466-aa7f-0388c83bac01",
   "metadata": {},
   "outputs": [],
   "source": [
    "nb_model = MultinomialNB().fit(X_train_count_vec, Y_train)"
   ]
  },
  {
   "cell_type": "markdown",
   "id": "1db3d47c-c3aa-4776-b9e8-54b827618c94",
   "metadata": {},
   "source": [
    "### Find The Accuracy"
   ]
  },
  {
   "cell_type": "markdown",
   "id": "3ea1aa5b-1d32-49f2-906c-34c3ac854365",
   "metadata": {},
   "source": [
    "#### Train"
   ]
  },
  {
   "cell_type": "code",
   "execution_count": 33,
   "id": "f79b4e32-1756-4710-b982-2a11ab077356",
   "metadata": {},
   "outputs": [],
   "source": [
    "predicted_train = nb_model.predict(X_train_count_vec)"
   ]
  },
  {
   "cell_type": "code",
   "execution_count": 34,
   "id": "ce86f153-cb7d-4d5a-a772-13791d1e6616",
   "metadata": {},
   "outputs": [
    {
     "data": {
      "text/plain": [
       "0.971"
      ]
     },
     "execution_count": 34,
     "metadata": {},
     "output_type": "execute_result"
    }
   ],
   "source": [
    "np.mean(predicted_train == Y_train)"
   ]
  },
  {
   "cell_type": "markdown",
   "id": "216379fd-81ed-469f-93f8-b712beeaacad",
   "metadata": {},
   "source": [
    "#### Validation"
   ]
  },
  {
   "cell_type": "code",
   "execution_count": 35,
   "id": "39df3877-b4c4-4b28-9052-8b0d765790a0",
   "metadata": {},
   "outputs": [],
   "source": [
    "predicted_valid = nb_model.predict(X_validate_count_vec)"
   ]
  },
  {
   "cell_type": "code",
   "execution_count": 36,
   "id": "9e7cfdb9-3d5d-47a5-a261-ffe64055f69e",
   "metadata": {},
   "outputs": [
    {
     "data": {
      "text/plain": [
       "0.212"
      ]
     },
     "execution_count": 36,
     "metadata": {},
     "output_type": "execute_result"
    }
   ],
   "source": [
    "np.mean(predicted_valid == Y_validate)"
   ]
  },
  {
   "cell_type": "markdown",
   "id": "03c01421-25f0-478c-83ef-c87ebdac49bb",
   "metadata": {},
   "source": [
    "#### Test"
   ]
  },
  {
   "cell_type": "code",
   "execution_count": 37,
   "id": "77796b66-f211-425b-bd0f-4c0fe160dfeb",
   "metadata": {},
   "outputs": [],
   "source": [
    "predicted_test = nb_model.predict(X_test_count_vec)"
   ]
  },
  {
   "cell_type": "code",
   "execution_count": 38,
   "id": "d510f951-a0c1-48ae-b304-885b4abf6c98",
   "metadata": {},
   "outputs": [
    {
     "data": {
      "text/plain": [
       "0.075"
      ]
     },
     "execution_count": 38,
     "metadata": {},
     "output_type": "execute_result"
    }
   ],
   "source": [
    "np.mean(predicted_test == Y_test)"
   ]
  },
  {
   "cell_type": "markdown",
   "id": "8380688b-da0b-44f2-a4eb-c250b44bcd38",
   "metadata": {},
   "source": [
    "### Use Random Forests"
   ]
  },
  {
   "cell_type": "code",
   "execution_count": 39,
   "id": "f9091826-840d-49b2-b479-7bc977dc1e5e",
   "metadata": {},
   "outputs": [],
   "source": [
    "rf_model = RandomForestClassifier(n_estimators = 100).fit(X_train_count_vec, Y_train)"
   ]
  },
  {
   "cell_type": "markdown",
   "id": "60128ab0-68a6-4714-9eb9-2182ddce696d",
   "metadata": {},
   "source": [
    "### Find The Accuracy"
   ]
  },
  {
   "cell_type": "markdown",
   "id": "c48a27ee-3e6e-49c8-9881-cd9e8dea4b7e",
   "metadata": {},
   "source": [
    "#### Train"
   ]
  },
  {
   "cell_type": "code",
   "execution_count": 40,
   "id": "4065fdf3-0d45-4dfe-bb50-0b9f81513a83",
   "metadata": {},
   "outputs": [],
   "source": [
    "predicted_train = rf_model.predict(X_train_count_vec)"
   ]
  },
  {
   "cell_type": "code",
   "execution_count": 41,
   "id": "69eb7533-45df-4fea-900e-2b0fa9bc5619",
   "metadata": {},
   "outputs": [
    {
     "data": {
      "text/plain": [
       "0.997"
      ]
     },
     "execution_count": 41,
     "metadata": {},
     "output_type": "execute_result"
    }
   ],
   "source": [
    "np.mean(predicted_train == Y_train)"
   ]
  },
  {
   "cell_type": "markdown",
   "id": "9ee1f33c-ca84-4cde-9985-c9cd2722d1af",
   "metadata": {},
   "source": [
    "#### Validation"
   ]
  },
  {
   "cell_type": "code",
   "execution_count": 42,
   "id": "2c21cc94-5801-4475-9cc9-b99c55d8346a",
   "metadata": {},
   "outputs": [],
   "source": [
    "predicted_valid = rf_model.predict(X_validate_count_vec)"
   ]
  },
  {
   "cell_type": "code",
   "execution_count": 43,
   "id": "9095367a-5739-440f-a031-6ea87480b716",
   "metadata": {},
   "outputs": [
    {
     "data": {
      "text/plain": [
       "0.224"
      ]
     },
     "execution_count": 43,
     "metadata": {},
     "output_type": "execute_result"
    }
   ],
   "source": [
    "np.mean(predicted_valid == Y_validate)"
   ]
  },
  {
   "cell_type": "markdown",
   "id": "3f8534b1-ca46-4552-baae-73ade3971cf2",
   "metadata": {},
   "source": [
    "#### Test"
   ]
  },
  {
   "cell_type": "code",
   "execution_count": 44,
   "id": "c3bd2dfc-cec1-4027-bd9a-e810c59607e9",
   "metadata": {},
   "outputs": [],
   "source": [
    "predicted_test = rf_model.predict(X_test_count_vec)"
   ]
  },
  {
   "cell_type": "code",
   "execution_count": 45,
   "id": "9daf5296-6148-4fd5-a935-440720fddc34",
   "metadata": {},
   "outputs": [
    {
     "data": {
      "text/plain": [
       "0.09"
      ]
     },
     "execution_count": 45,
     "metadata": {},
     "output_type": "execute_result"
    }
   ],
   "source": [
    "np.mean(predicted_test == Y_test)"
   ]
  },
  {
   "cell_type": "markdown",
   "id": "3aeebf21-27c5-4dce-8fca-f632c522d67b",
   "metadata": {},
   "source": [
    "### Remove Stop Words"
   ]
  },
  {
   "cell_type": "code",
   "execution_count": 46,
   "id": "ed7d863a-5dd2-4921-a769-564b5b1ceff7",
   "metadata": {},
   "outputs": [
    {
     "data": {
      "text/html": [
       "<style>#sk-container-id-2 {color: black;}#sk-container-id-2 pre{padding: 0;}#sk-container-id-2 div.sk-toggleable {background-color: white;}#sk-container-id-2 label.sk-toggleable__label {cursor: pointer;display: block;width: 100%;margin-bottom: 0;padding: 0.3em;box-sizing: border-box;text-align: center;}#sk-container-id-2 label.sk-toggleable__label-arrow:before {content: \"▸\";float: left;margin-right: 0.25em;color: #696969;}#sk-container-id-2 label.sk-toggleable__label-arrow:hover:before {color: black;}#sk-container-id-2 div.sk-estimator:hover label.sk-toggleable__label-arrow:before {color: black;}#sk-container-id-2 div.sk-toggleable__content {max-height: 0;max-width: 0;overflow: hidden;text-align: left;background-color: #f0f8ff;}#sk-container-id-2 div.sk-toggleable__content pre {margin: 0.2em;color: black;border-radius: 0.25em;background-color: #f0f8ff;}#sk-container-id-2 input.sk-toggleable__control:checked~div.sk-toggleable__content {max-height: 200px;max-width: 100%;overflow: auto;}#sk-container-id-2 input.sk-toggleable__control:checked~label.sk-toggleable__label-arrow:before {content: \"▾\";}#sk-container-id-2 div.sk-estimator input.sk-toggleable__control:checked~label.sk-toggleable__label {background-color: #d4ebff;}#sk-container-id-2 div.sk-label input.sk-toggleable__control:checked~label.sk-toggleable__label {background-color: #d4ebff;}#sk-container-id-2 input.sk-hidden--visually {border: 0;clip: rect(1px 1px 1px 1px);clip: rect(1px, 1px, 1px, 1px);height: 1px;margin: -1px;overflow: hidden;padding: 0;position: absolute;width: 1px;}#sk-container-id-2 div.sk-estimator {font-family: monospace;background-color: #f0f8ff;border: 1px dotted black;border-radius: 0.25em;box-sizing: border-box;margin-bottom: 0.5em;}#sk-container-id-2 div.sk-estimator:hover {background-color: #d4ebff;}#sk-container-id-2 div.sk-parallel-item::after {content: \"\";width: 100%;border-bottom: 1px solid gray;flex-grow: 1;}#sk-container-id-2 div.sk-label:hover label.sk-toggleable__label {background-color: #d4ebff;}#sk-container-id-2 div.sk-serial::before {content: \"\";position: absolute;border-left: 1px solid gray;box-sizing: border-box;top: 0;bottom: 0;left: 50%;z-index: 0;}#sk-container-id-2 div.sk-serial {display: flex;flex-direction: column;align-items: center;background-color: white;padding-right: 0.2em;padding-left: 0.2em;position: relative;}#sk-container-id-2 div.sk-item {position: relative;z-index: 1;}#sk-container-id-2 div.sk-parallel {display: flex;align-items: stretch;justify-content: center;background-color: white;position: relative;}#sk-container-id-2 div.sk-item::before, #sk-container-id-2 div.sk-parallel-item::before {content: \"\";position: absolute;border-left: 1px solid gray;box-sizing: border-box;top: 0;bottom: 0;left: 50%;z-index: -1;}#sk-container-id-2 div.sk-parallel-item {display: flex;flex-direction: column;z-index: 1;position: relative;background-color: white;}#sk-container-id-2 div.sk-parallel-item:first-child::after {align-self: flex-end;width: 50%;}#sk-container-id-2 div.sk-parallel-item:last-child::after {align-self: flex-start;width: 50%;}#sk-container-id-2 div.sk-parallel-item:only-child::after {width: 0;}#sk-container-id-2 div.sk-dashed-wrapped {border: 1px dashed gray;margin: 0 0.4em 0.5em 0.4em;box-sizing: border-box;padding-bottom: 0.4em;background-color: white;}#sk-container-id-2 div.sk-label label {font-family: monospace;font-weight: bold;display: inline-block;line-height: 1.2em;}#sk-container-id-2 div.sk-label-container {text-align: center;}#sk-container-id-2 div.sk-container {/* jupyter's `normalize.less` sets `[hidden] { display: none; }` but bootstrap.min.css set `[hidden] { display: none !important; }` so we also need the `!important` here to be able to override the default hidden behavior on the sphinx rendered scikit-learn.org. See: https://github.com/scikit-learn/scikit-learn/issues/21755 */display: inline-block !important;position: relative;}#sk-container-id-2 div.sk-text-repr-fallback {display: none;}</style><div id=\"sk-container-id-2\" class=\"sk-top-container\"><div class=\"sk-text-repr-fallback\"><pre>CountVectorizer(stop_words=&#x27;english&#x27;)</pre><b>In a Jupyter environment, please rerun this cell to show the HTML representation or trust the notebook. <br />On GitHub, the HTML representation is unable to render, please try loading this page with nbviewer.org.</b></div><div class=\"sk-container\" hidden><div class=\"sk-item\"><div class=\"sk-estimator sk-toggleable\"><input class=\"sk-toggleable__control sk-hidden--visually\" id=\"sk-estimator-id-2\" type=\"checkbox\" checked><label for=\"sk-estimator-id-2\" class=\"sk-toggleable__label sk-toggleable__label-arrow\">CountVectorizer</label><div class=\"sk-toggleable__content\"><pre>CountVectorizer(stop_words=&#x27;english&#x27;)</pre></div></div></div></div></div>"
      ],
      "text/plain": [
       "CountVectorizer(stop_words='english')"
      ]
     },
     "execution_count": 46,
     "metadata": {},
     "output_type": "execute_result"
    }
   ],
   "source": [
    "count_vect = CountVectorizer(stop_words='english')\n",
    "count_vect.fit(df_train_all['text'])"
   ]
  },
  {
   "cell_type": "code",
   "execution_count": 47,
   "id": "1d3195bf-0128-4216-8930-54036e5a3628",
   "metadata": {},
   "outputs": [
    {
     "data": {
      "text/plain": [
       "60378"
      ]
     },
     "execution_count": 47,
     "metadata": {},
     "output_type": "execute_result"
    }
   ],
   "source": [
    "len(count_vect.vocabulary_)"
   ]
  },
  {
   "cell_type": "code",
   "execution_count": 48,
   "id": "5b43fb5c-750a-46b9-b8bb-9a400c043cb6",
   "metadata": {},
   "outputs": [],
   "source": [
    "X_train_count_vec = count_vect.transform(df_train['text'])\n",
    "X_validate_count_vec = count_vect.transform(df_validate['text'])\n",
    "X_test_count_vec = count_vect.transform(df_test['text'])"
   ]
  },
  {
   "cell_type": "markdown",
   "id": "fabd99b9-fca8-43ae-8000-43fa15ac569d",
   "metadata": {},
   "source": [
    "### Rerun The Naive Bayes Model"
   ]
  },
  {
   "cell_type": "code",
   "execution_count": 49,
   "id": "07c13882-4a64-4c9b-8f60-cc606d654d89",
   "metadata": {},
   "outputs": [],
   "source": [
    "nb_model = MultinomialNB().fit(X_train_count_vec, Y_train)"
   ]
  },
  {
   "cell_type": "code",
   "execution_count": 50,
   "id": "9784afc0-2da8-4025-ab73-f76dcb94c11b",
   "metadata": {},
   "outputs": [
    {
     "name": "stdout",
     "output_type": "stream",
     "text": [
      "Train accuracy:  0.99\n",
      "Validation accuracy:  0.268\n",
      "Test Accuracy:  0.08\n"
     ]
    }
   ],
   "source": [
    "predicted_train = nb_model.predict(X_train_count_vec)\n",
    "print('Train accuracy: ', np.mean(predicted_train == Y_train))\n",
    "predicted_valid = nb_model.predict(X_validate_count_vec)\n",
    "print('Validation accuracy: ', np.mean(predicted_valid == Y_validate))\n",
    "predicted_test = nb_model.predict(X_test_count_vec)\n",
    "print('Test Accuracy: ', np.mean(predicted_test == Y_test))"
   ]
  },
  {
   "cell_type": "markdown",
   "id": "22ff8d22-f5b4-4e79-8651-24b105014f7c",
   "metadata": {},
   "source": [
    "### Initilize the NLTK functions"
   ]
  },
  {
   "cell_type": "code",
   "execution_count": 51,
   "id": "8dd18cfc-79f1-4500-885a-a978acce939b",
   "metadata": {},
   "outputs": [],
   "source": [
    "wst = WhitespaceTokenizer()\n",
    "lemma = nltk.wordnet.WordNetLemmatizer()"
   ]
  },
  {
   "cell_type": "markdown",
   "id": "1d38d520-b11b-4966-9e78-2cc8d1ee8a2f",
   "metadata": {},
   "source": [
    "### Remove Punctuations & Numbers"
   ]
  },
  {
   "cell_type": "code",
   "execution_count": 52,
   "id": "a30ca94d-23ea-4f48-a959-f3e899280ddd",
   "metadata": {},
   "outputs": [],
   "source": [
    "def removePunctuationsAndNumbers(data, column):\n",
    "    text_split = wst.tokenize(data[column])\n",
    "    noPunctAndNumbers = ' '.join(word_tokenize(' '.join([''.join([char for char in word if char.isalpha()]).lower() for word in text_split])))\n",
    "    return noPunctAndNumbers"
   ]
  },
  {
   "cell_type": "code",
   "execution_count": 53,
   "id": "b9899968-f24c-4d9d-886b-b47e067ee74a",
   "metadata": {},
   "outputs": [],
   "source": [
    "df_train['processed'] = df_train.apply(removePunctuationsAndNumbers, axis=1, args=('text',))\n",
    "df_validate['processed'] = df_validate.apply(removePunctuationsAndNumbers, axis=1, args=('text',))\n",
    "df_test['processed'] = df_test.apply(removePunctuationsAndNumbers, axis=1, args=('text',))"
   ]
  },
  {
   "cell_type": "code",
   "execution_count": 54,
   "id": "74b62ab4-2dda-4950-ae84-1b509492586b",
   "metadata": {},
   "outputs": [],
   "source": [
    "df_train_all['processed'] = df_train_all.apply(removePunctuationsAndNumbers, axis=1, args=('text',))"
   ]
  },
  {
   "cell_type": "code",
   "execution_count": 55,
   "id": "7c2dc121-dc8c-4a81-bcdb-f60a416a5ca5",
   "metadata": {},
   "outputs": [
    {
     "data": {
      "text/html": [
       "<div>\n",
       "<style scoped>\n",
       "    .dataframe tbody tr th:only-of-type {\n",
       "        vertical-align: middle;\n",
       "    }\n",
       "\n",
       "    .dataframe tbody tr th {\n",
       "        vertical-align: top;\n",
       "    }\n",
       "\n",
       "    .dataframe thead th {\n",
       "        text-align: right;\n",
       "    }\n",
       "</style>\n",
       "<table border=\"1\" class=\"dataframe\">\n",
       "  <thead>\n",
       "    <tr style=\"text-align: right;\">\n",
       "      <th></th>\n",
       "      <th>id</th>\n",
       "      <th>movie_name</th>\n",
       "      <th>synopsis</th>\n",
       "      <th>genre</th>\n",
       "      <th>text</th>\n",
       "      <th>processed</th>\n",
       "    </tr>\n",
       "  </thead>\n",
       "  <tbody>\n",
       "    <tr>\n",
       "      <th>6555</th>\n",
       "      <td>9757</td>\n",
       "      <td>Who Framed Roger Rabbit 2</td>\n",
       "      <td>A sequel to Who Framed Roger Rabbit (1988).</td>\n",
       "      <td>adventure</td>\n",
       "      <td>Who Framed Roger Rabbit 2 A sequel to Who Fram...</td>\n",
       "      <td>who framed roger rabbit a sequel to who framed...</td>\n",
       "    </tr>\n",
       "    <tr>\n",
       "      <th>46679</th>\n",
       "      <td>38702</td>\n",
       "      <td>Ru lai ba gua gun</td>\n",
       "      <td>Fifth brother is separated from his kin whilst...</td>\n",
       "      <td>fantasy</td>\n",
       "      <td>Ru lai ba gua gun Fifth brother is separated f...</td>\n",
       "      <td>ru lai ba gua gun fifth brother is separated f...</td>\n",
       "    </tr>\n",
       "    <tr>\n",
       "      <th>4936</th>\n",
       "      <td>37504</td>\n",
       "      <td>Me Two</td>\n",
       "      <td>Ranu, a shy accountant, suddenly discovers a c...</td>\n",
       "      <td>fantasy</td>\n",
       "      <td>Me Two Ranu, a shy accountant, suddenly discov...</td>\n",
       "      <td>me two ranu a shy accountant suddenly discover...</td>\n",
       "    </tr>\n",
       "    <tr>\n",
       "      <th>10906</th>\n",
       "      <td>26900</td>\n",
       "      <td>Killer's Moon</td>\n",
       "      <td>Four mental patients - who, due to unauthorize...</td>\n",
       "      <td>crime</td>\n",
       "      <td>Killer's Moon Four mental patients - who, due ...</td>\n",
       "      <td>killers moon four mental patients who due to u...</td>\n",
       "    </tr>\n",
       "    <tr>\n",
       "      <th>11691</th>\n",
       "      <td>84807</td>\n",
       "      <td>The Storm Thief</td>\n",
       "      <td>The storm robbery is part of the greatest art ...</td>\n",
       "      <td>thriller</td>\n",
       "      <td>The Storm Thief The storm robbery is part of t...</td>\n",
       "      <td>the storm thief the storm robbery is part of t...</td>\n",
       "    </tr>\n",
       "  </tbody>\n",
       "</table>\n",
       "</div>"
      ],
      "text/plain": [
       "          id                 movie_name  \\\n",
       "6555    9757  Who Framed Roger Rabbit 2   \n",
       "46679  38702          Ru lai ba gua gun   \n",
       "4936   37504                     Me Two   \n",
       "10906  26900              Killer's Moon   \n",
       "11691  84807            The Storm Thief   \n",
       "\n",
       "                                                synopsis      genre  \\\n",
       "6555         A sequel to Who Framed Roger Rabbit (1988).  adventure   \n",
       "46679  Fifth brother is separated from his kin whilst...    fantasy   \n",
       "4936   Ranu, a shy accountant, suddenly discovers a c...    fantasy   \n",
       "10906  Four mental patients - who, due to unauthorize...      crime   \n",
       "11691  The storm robbery is part of the greatest art ...   thriller   \n",
       "\n",
       "                                                    text  \\\n",
       "6555   Who Framed Roger Rabbit 2 A sequel to Who Fram...   \n",
       "46679  Ru lai ba gua gun Fifth brother is separated f...   \n",
       "4936   Me Two Ranu, a shy accountant, suddenly discov...   \n",
       "10906  Killer's Moon Four mental patients - who, due ...   \n",
       "11691  The Storm Thief The storm robbery is part of t...   \n",
       "\n",
       "                                               processed  \n",
       "6555   who framed roger rabbit a sequel to who framed...  \n",
       "46679  ru lai ba gua gun fifth brother is separated f...  \n",
       "4936   me two ranu a shy accountant suddenly discover...  \n",
       "10906  killers moon four mental patients who due to u...  \n",
       "11691  the storm thief the storm robbery is part of t...  "
      ]
     },
     "execution_count": 55,
     "metadata": {},
     "output_type": "execute_result"
    }
   ],
   "source": [
    "df_train.head()"
   ]
  },
  {
   "cell_type": "markdown",
   "id": "80712410-5485-44b0-a63c-93d1a6abb44f",
   "metadata": {},
   "source": [
    "#### Retrain The CountVectorizer"
   ]
  },
  {
   "cell_type": "code",
   "execution_count": 56,
   "id": "553f1834-22fd-4bbc-83cb-fe62aa6eec9d",
   "metadata": {},
   "outputs": [
    {
     "data": {
      "text/html": [
       "<style>#sk-container-id-3 {color: black;}#sk-container-id-3 pre{padding: 0;}#sk-container-id-3 div.sk-toggleable {background-color: white;}#sk-container-id-3 label.sk-toggleable__label {cursor: pointer;display: block;width: 100%;margin-bottom: 0;padding: 0.3em;box-sizing: border-box;text-align: center;}#sk-container-id-3 label.sk-toggleable__label-arrow:before {content: \"▸\";float: left;margin-right: 0.25em;color: #696969;}#sk-container-id-3 label.sk-toggleable__label-arrow:hover:before {color: black;}#sk-container-id-3 div.sk-estimator:hover label.sk-toggleable__label-arrow:before {color: black;}#sk-container-id-3 div.sk-toggleable__content {max-height: 0;max-width: 0;overflow: hidden;text-align: left;background-color: #f0f8ff;}#sk-container-id-3 div.sk-toggleable__content pre {margin: 0.2em;color: black;border-radius: 0.25em;background-color: #f0f8ff;}#sk-container-id-3 input.sk-toggleable__control:checked~div.sk-toggleable__content {max-height: 200px;max-width: 100%;overflow: auto;}#sk-container-id-3 input.sk-toggleable__control:checked~label.sk-toggleable__label-arrow:before {content: \"▾\";}#sk-container-id-3 div.sk-estimator input.sk-toggleable__control:checked~label.sk-toggleable__label {background-color: #d4ebff;}#sk-container-id-3 div.sk-label input.sk-toggleable__control:checked~label.sk-toggleable__label {background-color: #d4ebff;}#sk-container-id-3 input.sk-hidden--visually {border: 0;clip: rect(1px 1px 1px 1px);clip: rect(1px, 1px, 1px, 1px);height: 1px;margin: -1px;overflow: hidden;padding: 0;position: absolute;width: 1px;}#sk-container-id-3 div.sk-estimator {font-family: monospace;background-color: #f0f8ff;border: 1px dotted black;border-radius: 0.25em;box-sizing: border-box;margin-bottom: 0.5em;}#sk-container-id-3 div.sk-estimator:hover {background-color: #d4ebff;}#sk-container-id-3 div.sk-parallel-item::after {content: \"\";width: 100%;border-bottom: 1px solid gray;flex-grow: 1;}#sk-container-id-3 div.sk-label:hover label.sk-toggleable__label {background-color: #d4ebff;}#sk-container-id-3 div.sk-serial::before {content: \"\";position: absolute;border-left: 1px solid gray;box-sizing: border-box;top: 0;bottom: 0;left: 50%;z-index: 0;}#sk-container-id-3 div.sk-serial {display: flex;flex-direction: column;align-items: center;background-color: white;padding-right: 0.2em;padding-left: 0.2em;position: relative;}#sk-container-id-3 div.sk-item {position: relative;z-index: 1;}#sk-container-id-3 div.sk-parallel {display: flex;align-items: stretch;justify-content: center;background-color: white;position: relative;}#sk-container-id-3 div.sk-item::before, #sk-container-id-3 div.sk-parallel-item::before {content: \"\";position: absolute;border-left: 1px solid gray;box-sizing: border-box;top: 0;bottom: 0;left: 50%;z-index: -1;}#sk-container-id-3 div.sk-parallel-item {display: flex;flex-direction: column;z-index: 1;position: relative;background-color: white;}#sk-container-id-3 div.sk-parallel-item:first-child::after {align-self: flex-end;width: 50%;}#sk-container-id-3 div.sk-parallel-item:last-child::after {align-self: flex-start;width: 50%;}#sk-container-id-3 div.sk-parallel-item:only-child::after {width: 0;}#sk-container-id-3 div.sk-dashed-wrapped {border: 1px dashed gray;margin: 0 0.4em 0.5em 0.4em;box-sizing: border-box;padding-bottom: 0.4em;background-color: white;}#sk-container-id-3 div.sk-label label {font-family: monospace;font-weight: bold;display: inline-block;line-height: 1.2em;}#sk-container-id-3 div.sk-label-container {text-align: center;}#sk-container-id-3 div.sk-container {/* jupyter's `normalize.less` sets `[hidden] { display: none; }` but bootstrap.min.css set `[hidden] { display: none !important; }` so we also need the `!important` here to be able to override the default hidden behavior on the sphinx rendered scikit-learn.org. See: https://github.com/scikit-learn/scikit-learn/issues/21755 */display: inline-block !important;position: relative;}#sk-container-id-3 div.sk-text-repr-fallback {display: none;}</style><div id=\"sk-container-id-3\" class=\"sk-top-container\"><div class=\"sk-text-repr-fallback\"><pre>CountVectorizer(stop_words=&#x27;english&#x27;)</pre><b>In a Jupyter environment, please rerun this cell to show the HTML representation or trust the notebook. <br />On GitHub, the HTML representation is unable to render, please try loading this page with nbviewer.org.</b></div><div class=\"sk-container\" hidden><div class=\"sk-item\"><div class=\"sk-estimator sk-toggleable\"><input class=\"sk-toggleable__control sk-hidden--visually\" id=\"sk-estimator-id-3\" type=\"checkbox\" checked><label for=\"sk-estimator-id-3\" class=\"sk-toggleable__label sk-toggleable__label-arrow\">CountVectorizer</label><div class=\"sk-toggleable__content\"><pre>CountVectorizer(stop_words=&#x27;english&#x27;)</pre></div></div></div></div></div>"
      ],
      "text/plain": [
       "CountVectorizer(stop_words='english')"
      ]
     },
     "execution_count": 56,
     "metadata": {},
     "output_type": "execute_result"
    }
   ],
   "source": [
    "count_vect = CountVectorizer(stop_words='english')\n",
    "count_vect.fit(df_train_all['processed'])"
   ]
  },
  {
   "cell_type": "code",
   "execution_count": 57,
   "id": "6120b358-eb1a-4740-91eb-dfa59835a471",
   "metadata": {},
   "outputs": [
    {
     "data": {
      "text/plain": [
       "66659"
      ]
     },
     "execution_count": 57,
     "metadata": {},
     "output_type": "execute_result"
    }
   ],
   "source": [
    "len(count_vect.vocabulary_)"
   ]
  },
  {
   "cell_type": "code",
   "execution_count": 58,
   "id": "e8305a2a-c59e-4c7d-8f99-4eada9bc4611",
   "metadata": {},
   "outputs": [],
   "source": [
    "X_train_count_vec = count_vect.transform(df_train['text'])\n",
    "X_validate_count_vec = count_vect.transform(df_validate['text'])\n",
    "X_test_count_vec = count_vect.transform(df_test['text'])"
   ]
  },
  {
   "cell_type": "markdown",
   "id": "41d01a02-d59f-47cf-8fdf-7eff003d3cd1",
   "metadata": {},
   "source": [
    "### Rerun The NB Model"
   ]
  },
  {
   "cell_type": "code",
   "execution_count": 59,
   "id": "bc231c7d-edee-4c2d-b19d-62353f3bdb02",
   "metadata": {},
   "outputs": [],
   "source": [
    "nb_model = MultinomialNB().fit(X_train_count_vec, Y_train)"
   ]
  },
  {
   "cell_type": "code",
   "execution_count": 60,
   "id": "82d838aa-d500-496b-8c63-6c31c7fff4c1",
   "metadata": {},
   "outputs": [
    {
     "name": "stdout",
     "output_type": "stream",
     "text": [
      "Train accuracy:  0.989\n",
      "Validation accuracy:  0.266\n",
      "Test Accuracy:  0.08\n"
     ]
    }
   ],
   "source": [
    "predicted_train = nb_model.predict(X_train_count_vec)\n",
    "print('Train accuracy: ', np.mean(predicted_train == Y_train))\n",
    "predicted_valid = nb_model.predict(X_validate_count_vec)\n",
    "print('Validation accuracy: ', np.mean(predicted_valid == Y_validate))\n",
    "predicted_test = nb_model.predict(X_test_count_vec)\n",
    "print('Test Accuracy: ', np.mean(predicted_test == Y_test))"
   ]
  },
  {
   "cell_type": "markdown",
   "id": "1e4c7880-5162-47b3-be50-3518c2e98aa2",
   "metadata": {},
   "source": [
    "### Lemmatize Text"
   ]
  },
  {
   "cell_type": "code",
   "execution_count": 61,
   "id": "497bcf29-d27e-4b4c-9adc-9af0b8d1c442",
   "metadata": {},
   "outputs": [],
   "source": [
    "def get_wordnet_pos(word):\n",
    "    \"\"\"Map POS tag to first character lemmatize() accepts\"\"\"\n",
    "    tag = nltk.pos_tag([word])[0][1][0].upper()\n",
    "    tag_dict = {\"J\": wordnet.ADJ,\n",
    "                \"N\": wordnet.NOUN,\n",
    "                \"V\": wordnet.VERB,\n",
    "                \"R\": wordnet.ADV}\n",
    "\n",
    "    return tag_dict.get(tag, wordnet.NOUN)\n",
    "\n",
    "def lemmatizeText(data, column):\n",
    "    text = data[column]\n",
    "    word_tokens = word_tokenize(text)\n",
    "    lemmatized_words = [lemma.lemmatize(word, get_wordnet_pos(word)) for word in word_tokens]\n",
    "    return ' '.join(lemmatized_words)"
   ]
  },
  {
   "cell_type": "code",
   "execution_count": 62,
   "id": "e9198692-f2a1-46ba-8eae-1b179c12f753",
   "metadata": {},
   "outputs": [],
   "source": [
    "df_train['processed'] = df_train.apply(lemmatizeText, axis=1, args=('processed',))\n",
    "df_validate['processed'] = df_validate.apply(lemmatizeText, axis=1, args=('processed',))\n",
    "df_test['processed'] = df_test.apply(lemmatizeText, axis=1, args=('processed',))"
   ]
  },
  {
   "cell_type": "code",
   "execution_count": 63,
   "id": "3eb9cca5-b8df-4b7f-8903-0efe21e759e6",
   "metadata": {},
   "outputs": [],
   "source": [
    "df_train_all['processed'] = df_train_all.apply(lemmatizeText, axis=1, args=('processed',))"
   ]
  },
  {
   "cell_type": "code",
   "execution_count": 64,
   "id": "1419b08e-6490-4fd6-92ce-fa47770b6f1f",
   "metadata": {},
   "outputs": [
    {
     "data": {
      "text/html": [
       "<div>\n",
       "<style scoped>\n",
       "    .dataframe tbody tr th:only-of-type {\n",
       "        vertical-align: middle;\n",
       "    }\n",
       "\n",
       "    .dataframe tbody tr th {\n",
       "        vertical-align: top;\n",
       "    }\n",
       "\n",
       "    .dataframe thead th {\n",
       "        text-align: right;\n",
       "    }\n",
       "</style>\n",
       "<table border=\"1\" class=\"dataframe\">\n",
       "  <thead>\n",
       "    <tr style=\"text-align: right;\">\n",
       "      <th></th>\n",
       "      <th>id</th>\n",
       "      <th>movie_name</th>\n",
       "      <th>synopsis</th>\n",
       "      <th>genre</th>\n",
       "      <th>text</th>\n",
       "      <th>processed</th>\n",
       "    </tr>\n",
       "  </thead>\n",
       "  <tbody>\n",
       "    <tr>\n",
       "      <th>6555</th>\n",
       "      <td>9757</td>\n",
       "      <td>Who Framed Roger Rabbit 2</td>\n",
       "      <td>A sequel to Who Framed Roger Rabbit (1988).</td>\n",
       "      <td>adventure</td>\n",
       "      <td>Who Framed Roger Rabbit 2 A sequel to Who Fram...</td>\n",
       "      <td>who frame roger rabbit a sequel to who frame r...</td>\n",
       "    </tr>\n",
       "    <tr>\n",
       "      <th>46679</th>\n",
       "      <td>38702</td>\n",
       "      <td>Ru lai ba gua gun</td>\n",
       "      <td>Fifth brother is separated from his kin whilst...</td>\n",
       "      <td>fantasy</td>\n",
       "      <td>Ru lai ba gua gun Fifth brother is separated f...</td>\n",
       "      <td>ru lai ba gua gun fifth brother be separate fr...</td>\n",
       "    </tr>\n",
       "    <tr>\n",
       "      <th>4936</th>\n",
       "      <td>37504</td>\n",
       "      <td>Me Two</td>\n",
       "      <td>Ranu, a shy accountant, suddenly discovers a c...</td>\n",
       "      <td>fantasy</td>\n",
       "      <td>Me Two Ranu, a shy accountant, suddenly discov...</td>\n",
       "      <td>me two ranu a shy accountant suddenly discover...</td>\n",
       "    </tr>\n",
       "    <tr>\n",
       "      <th>10906</th>\n",
       "      <td>26900</td>\n",
       "      <td>Killer's Moon</td>\n",
       "      <td>Four mental patients - who, due to unauthorize...</td>\n",
       "      <td>crime</td>\n",
       "      <td>Killer's Moon Four mental patients - who, due ...</td>\n",
       "      <td>killer moon four mental patient who due to una...</td>\n",
       "    </tr>\n",
       "    <tr>\n",
       "      <th>11691</th>\n",
       "      <td>84807</td>\n",
       "      <td>The Storm Thief</td>\n",
       "      <td>The storm robbery is part of the greatest art ...</td>\n",
       "      <td>thriller</td>\n",
       "      <td>The Storm Thief The storm robbery is part of t...</td>\n",
       "      <td>the storm thief the storm robbery be part of t...</td>\n",
       "    </tr>\n",
       "  </tbody>\n",
       "</table>\n",
       "</div>"
      ],
      "text/plain": [
       "          id                 movie_name  \\\n",
       "6555    9757  Who Framed Roger Rabbit 2   \n",
       "46679  38702          Ru lai ba gua gun   \n",
       "4936   37504                     Me Two   \n",
       "10906  26900              Killer's Moon   \n",
       "11691  84807            The Storm Thief   \n",
       "\n",
       "                                                synopsis      genre  \\\n",
       "6555         A sequel to Who Framed Roger Rabbit (1988).  adventure   \n",
       "46679  Fifth brother is separated from his kin whilst...    fantasy   \n",
       "4936   Ranu, a shy accountant, suddenly discovers a c...    fantasy   \n",
       "10906  Four mental patients - who, due to unauthorize...      crime   \n",
       "11691  The storm robbery is part of the greatest art ...   thriller   \n",
       "\n",
       "                                                    text  \\\n",
       "6555   Who Framed Roger Rabbit 2 A sequel to Who Fram...   \n",
       "46679  Ru lai ba gua gun Fifth brother is separated f...   \n",
       "4936   Me Two Ranu, a shy accountant, suddenly discov...   \n",
       "10906  Killer's Moon Four mental patients - who, due ...   \n",
       "11691  The Storm Thief The storm robbery is part of t...   \n",
       "\n",
       "                                               processed  \n",
       "6555   who frame roger rabbit a sequel to who frame r...  \n",
       "46679  ru lai ba gua gun fifth brother be separate fr...  \n",
       "4936   me two ranu a shy accountant suddenly discover...  \n",
       "10906  killer moon four mental patient who due to una...  \n",
       "11691  the storm thief the storm robbery be part of t...  "
      ]
     },
     "execution_count": 64,
     "metadata": {},
     "output_type": "execute_result"
    }
   ],
   "source": [
    "df_train.head()"
   ]
  },
  {
   "cell_type": "code",
   "execution_count": 65,
   "id": "ca70926a-d5a8-423e-9260-88c1b2f0d29b",
   "metadata": {},
   "outputs": [
    {
     "data": {
      "text/html": [
       "<style>#sk-container-id-4 {color: black;}#sk-container-id-4 pre{padding: 0;}#sk-container-id-4 div.sk-toggleable {background-color: white;}#sk-container-id-4 label.sk-toggleable__label {cursor: pointer;display: block;width: 100%;margin-bottom: 0;padding: 0.3em;box-sizing: border-box;text-align: center;}#sk-container-id-4 label.sk-toggleable__label-arrow:before {content: \"▸\";float: left;margin-right: 0.25em;color: #696969;}#sk-container-id-4 label.sk-toggleable__label-arrow:hover:before {color: black;}#sk-container-id-4 div.sk-estimator:hover label.sk-toggleable__label-arrow:before {color: black;}#sk-container-id-4 div.sk-toggleable__content {max-height: 0;max-width: 0;overflow: hidden;text-align: left;background-color: #f0f8ff;}#sk-container-id-4 div.sk-toggleable__content pre {margin: 0.2em;color: black;border-radius: 0.25em;background-color: #f0f8ff;}#sk-container-id-4 input.sk-toggleable__control:checked~div.sk-toggleable__content {max-height: 200px;max-width: 100%;overflow: auto;}#sk-container-id-4 input.sk-toggleable__control:checked~label.sk-toggleable__label-arrow:before {content: \"▾\";}#sk-container-id-4 div.sk-estimator input.sk-toggleable__control:checked~label.sk-toggleable__label {background-color: #d4ebff;}#sk-container-id-4 div.sk-label input.sk-toggleable__control:checked~label.sk-toggleable__label {background-color: #d4ebff;}#sk-container-id-4 input.sk-hidden--visually {border: 0;clip: rect(1px 1px 1px 1px);clip: rect(1px, 1px, 1px, 1px);height: 1px;margin: -1px;overflow: hidden;padding: 0;position: absolute;width: 1px;}#sk-container-id-4 div.sk-estimator {font-family: monospace;background-color: #f0f8ff;border: 1px dotted black;border-radius: 0.25em;box-sizing: border-box;margin-bottom: 0.5em;}#sk-container-id-4 div.sk-estimator:hover {background-color: #d4ebff;}#sk-container-id-4 div.sk-parallel-item::after {content: \"\";width: 100%;border-bottom: 1px solid gray;flex-grow: 1;}#sk-container-id-4 div.sk-label:hover label.sk-toggleable__label {background-color: #d4ebff;}#sk-container-id-4 div.sk-serial::before {content: \"\";position: absolute;border-left: 1px solid gray;box-sizing: border-box;top: 0;bottom: 0;left: 50%;z-index: 0;}#sk-container-id-4 div.sk-serial {display: flex;flex-direction: column;align-items: center;background-color: white;padding-right: 0.2em;padding-left: 0.2em;position: relative;}#sk-container-id-4 div.sk-item {position: relative;z-index: 1;}#sk-container-id-4 div.sk-parallel {display: flex;align-items: stretch;justify-content: center;background-color: white;position: relative;}#sk-container-id-4 div.sk-item::before, #sk-container-id-4 div.sk-parallel-item::before {content: \"\";position: absolute;border-left: 1px solid gray;box-sizing: border-box;top: 0;bottom: 0;left: 50%;z-index: -1;}#sk-container-id-4 div.sk-parallel-item {display: flex;flex-direction: column;z-index: 1;position: relative;background-color: white;}#sk-container-id-4 div.sk-parallel-item:first-child::after {align-self: flex-end;width: 50%;}#sk-container-id-4 div.sk-parallel-item:last-child::after {align-self: flex-start;width: 50%;}#sk-container-id-4 div.sk-parallel-item:only-child::after {width: 0;}#sk-container-id-4 div.sk-dashed-wrapped {border: 1px dashed gray;margin: 0 0.4em 0.5em 0.4em;box-sizing: border-box;padding-bottom: 0.4em;background-color: white;}#sk-container-id-4 div.sk-label label {font-family: monospace;font-weight: bold;display: inline-block;line-height: 1.2em;}#sk-container-id-4 div.sk-label-container {text-align: center;}#sk-container-id-4 div.sk-container {/* jupyter's `normalize.less` sets `[hidden] { display: none; }` but bootstrap.min.css set `[hidden] { display: none !important; }` so we also need the `!important` here to be able to override the default hidden behavior on the sphinx rendered scikit-learn.org. See: https://github.com/scikit-learn/scikit-learn/issues/21755 */display: inline-block !important;position: relative;}#sk-container-id-4 div.sk-text-repr-fallback {display: none;}</style><div id=\"sk-container-id-4\" class=\"sk-top-container\"><div class=\"sk-text-repr-fallback\"><pre>CountVectorizer(stop_words=&#x27;english&#x27;)</pre><b>In a Jupyter environment, please rerun this cell to show the HTML representation or trust the notebook. <br />On GitHub, the HTML representation is unable to render, please try loading this page with nbviewer.org.</b></div><div class=\"sk-container\" hidden><div class=\"sk-item\"><div class=\"sk-estimator sk-toggleable\"><input class=\"sk-toggleable__control sk-hidden--visually\" id=\"sk-estimator-id-4\" type=\"checkbox\" checked><label for=\"sk-estimator-id-4\" class=\"sk-toggleable__label sk-toggleable__label-arrow\">CountVectorizer</label><div class=\"sk-toggleable__content\"><pre>CountVectorizer(stop_words=&#x27;english&#x27;)</pre></div></div></div></div></div>"
      ],
      "text/plain": [
       "CountVectorizer(stop_words='english')"
      ]
     },
     "execution_count": 65,
     "metadata": {},
     "output_type": "execute_result"
    }
   ],
   "source": [
    "count_vect = CountVectorizer(stop_words='english')\n",
    "count_vect.fit(df_train_all['processed'])"
   ]
  },
  {
   "cell_type": "code",
   "execution_count": 66,
   "id": "fe538eda-5d4e-4f94-9ff0-e9be1e6f9c51",
   "metadata": {},
   "outputs": [
    {
     "data": {
      "text/plain": [
       "58233"
      ]
     },
     "execution_count": 66,
     "metadata": {},
     "output_type": "execute_result"
    }
   ],
   "source": [
    "len(count_vect.vocabulary_)"
   ]
  },
  {
   "cell_type": "code",
   "execution_count": 67,
   "id": "2bed3b2f-a565-41e9-baf7-eb34ba495a6d",
   "metadata": {},
   "outputs": [],
   "source": [
    "X_train_count_vec = count_vect.transform(df_train['text'])\n",
    "X_validate_count_vec = count_vect.transform(df_validate['text'])\n",
    "X_test_count_vec = count_vect.transform(df_test['text'])"
   ]
  },
  {
   "cell_type": "markdown",
   "id": "f5378e99-8aa0-46ef-bea0-2be05fb544ca",
   "metadata": {},
   "source": [
    "### Rerun The NB Model"
   ]
  },
  {
   "cell_type": "code",
   "execution_count": 68,
   "id": "ea13bee7-e955-4958-b98c-b504ab7d94c4",
   "metadata": {},
   "outputs": [],
   "source": [
    "nb_model = MultinomialNB().fit(X_train_count_vec, Y_train)"
   ]
  },
  {
   "cell_type": "code",
   "execution_count": 69,
   "id": "4e889ce2-1090-4625-b34b-74be76d834a4",
   "metadata": {},
   "outputs": [
    {
     "name": "stdout",
     "output_type": "stream",
     "text": [
      "Train accuracy:  0.975\n",
      "Validation accuracy:  0.266\n",
      "Test Accuracy:  0.065\n"
     ]
    }
   ],
   "source": [
    "predicted_train = nb_model.predict(X_train_count_vec)\n",
    "print('Train accuracy: ', np.mean(predicted_train == Y_train))\n",
    "predicted_valid = nb_model.predict(X_validate_count_vec)\n",
    "print('Validation accuracy: ', np.mean(predicted_valid == Y_validate))\n",
    "predicted_test = nb_model.predict(X_test_count_vec)\n",
    "print('Test Accuracy: ', np.mean(predicted_test == Y_test))"
   ]
  },
  {
   "cell_type": "markdown",
   "id": "d8e256d0-d209-4566-a9d7-b421facba79b",
   "metadata": {},
   "source": [
    "### Assignment\n",
    "\n",
    "- Try out different permutations of feature engineering and see how it effects the results\n",
    "- Try out different models and see how it effects the accuracy\n",
    "- Try out different model hyper parameters and see how it effects the accuracy"
   ]
  },
  {
   "cell_type": "code",
   "execution_count": null,
   "id": "abdbb1a2-9ab7-4f87-adb5-a3186762a732",
   "metadata": {},
   "outputs": [],
   "source": []
  }
 ],
 "metadata": {
  "kernelspec": {
   "display_name": "Python 3 (ipykernel)",
   "language": "python",
   "name": "python3"
  },
  "language_info": {
   "codemirror_mode": {
    "name": "ipython",
    "version": 3
   },
   "file_extension": ".py",
   "mimetype": "text/x-python",
   "name": "python",
   "nbconvert_exporter": "python",
   "pygments_lexer": "ipython3",
   "version": "3.11.5"
  }
 },
 "nbformat": 4,
 "nbformat_minor": 5
}
