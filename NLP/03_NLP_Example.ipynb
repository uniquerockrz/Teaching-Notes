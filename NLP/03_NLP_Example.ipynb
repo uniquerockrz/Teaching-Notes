{
 "cells": [
  {
   "cell_type": "code",
   "execution_count": 2,
   "id": "be61d3fc-3945-4c10-8e41-ee9798f478ed",
   "metadata": {},
   "outputs": [],
   "source": [
    "import pandas as pd\n",
    "import csv\n",
    "import fasttext"
   ]
  },
  {
   "cell_type": "code",
   "execution_count": 3,
   "id": "72f356fd-971e-4207-8c9b-d93a58022042",
   "metadata": {},
   "outputs": [
    {
     "name": "stderr",
     "output_type": "stream",
     "text": [
      "/Users/srvmdk/Work/SKF/Teaching-Notes/.venv/lib/python3.11/site-packages/tqdm/auto.py:21: TqdmWarning: IProgress not found. Please update jupyter and ipywidgets. See https://ipywidgets.readthedocs.io/en/stable/user_install.html\n",
      "  from .autonotebook import tqdm as notebook_tqdm\n"
     ]
    }
   ],
   "source": [
    "from datasets import load_dataset"
   ]
  },
  {
   "cell_type": "code",
   "execution_count": 19,
   "id": "4c9f83aa-76a1-4ded-9685-a8c991f2c04f",
   "metadata": {},
   "outputs": [],
   "source": [
    "data_dir = '/Users/srvmdk/Work/SKF/Teaching-Notes/data/'"
   ]
  },
  {
   "cell_type": "markdown",
   "id": "ad5b5513-a169-49b6-9078-79a9d9af2b90",
   "metadata": {},
   "source": [
    "### Load the dataset, you need to login to your huggingface account for this"
   ]
  },
  {
   "cell_type": "code",
   "execution_count": 4,
   "id": "20f1c98d-04dc-43ba-bb51-fa7ed13a0fea",
   "metadata": {},
   "outputs": [],
   "source": [
    "dataset = load_dataset('datadrivenscience/movie-genre-prediction')"
   ]
  },
  {
   "cell_type": "code",
   "execution_count": 5,
   "id": "58e89775-82d6-4548-918d-84e4ea74a849",
   "metadata": {},
   "outputs": [],
   "source": [
    "df_train_all = pd.DataFrame(dataset['train'])"
   ]
  },
  {
   "cell_type": "code",
   "execution_count": 6,
   "id": "bd338ee8-f1aa-4ffc-80a4-e8e65e391428",
   "metadata": {},
   "outputs": [
    {
     "data": {
      "text/html": [
       "<div>\n",
       "<style scoped>\n",
       "    .dataframe tbody tr th:only-of-type {\n",
       "        vertical-align: middle;\n",
       "    }\n",
       "\n",
       "    .dataframe tbody tr th {\n",
       "        vertical-align: top;\n",
       "    }\n",
       "\n",
       "    .dataframe thead th {\n",
       "        text-align: right;\n",
       "    }\n",
       "</style>\n",
       "<table border=\"1\" class=\"dataframe\">\n",
       "  <thead>\n",
       "    <tr style=\"text-align: right;\">\n",
       "      <th></th>\n",
       "      <th>id</th>\n",
       "      <th>movie_name</th>\n",
       "      <th>synopsis</th>\n",
       "      <th>genre</th>\n",
       "    </tr>\n",
       "  </thead>\n",
       "  <tbody>\n",
       "    <tr>\n",
       "      <th>0</th>\n",
       "      <td>44978</td>\n",
       "      <td>Super Me</td>\n",
       "      <td>A young scriptwriter starts bringing valuable ...</td>\n",
       "      <td>fantasy</td>\n",
       "    </tr>\n",
       "    <tr>\n",
       "      <th>1</th>\n",
       "      <td>50185</td>\n",
       "      <td>Entity Project</td>\n",
       "      <td>A director and her friends renting a haunted h...</td>\n",
       "      <td>horror</td>\n",
       "    </tr>\n",
       "    <tr>\n",
       "      <th>2</th>\n",
       "      <td>34131</td>\n",
       "      <td>Behavioral Family Therapy for Serious Psychiat...</td>\n",
       "      <td>This is an educational video for families and ...</td>\n",
       "      <td>family</td>\n",
       "    </tr>\n",
       "    <tr>\n",
       "      <th>3</th>\n",
       "      <td>78522</td>\n",
       "      <td>Blood Glacier</td>\n",
       "      <td>Scientists working in the Austrian Alps discov...</td>\n",
       "      <td>scifi</td>\n",
       "    </tr>\n",
       "    <tr>\n",
       "      <th>4</th>\n",
       "      <td>2206</td>\n",
       "      <td>Apat na anino</td>\n",
       "      <td>Buy Day - Four Men Widely - Apart in Life - By...</td>\n",
       "      <td>action</td>\n",
       "    </tr>\n",
       "    <tr>\n",
       "      <th>5</th>\n",
       "      <td>46636</td>\n",
       "      <td>Le démon dans l'île</td>\n",
       "      <td>On an island, things start going crazy as the ...</td>\n",
       "      <td>horror</td>\n",
       "    </tr>\n",
       "    <tr>\n",
       "      <th>6</th>\n",
       "      <td>53777</td>\n",
       "      <td>Candid</td>\n",
       "      <td>A video voyeur stalks women in the city with a...</td>\n",
       "      <td>horror</td>\n",
       "    </tr>\n",
       "    <tr>\n",
       "      <th>7</th>\n",
       "      <td>24872</td>\n",
       "      <td>Hired</td>\n",
       "      <td>Twin brothers separated at birth and worlds ap...</td>\n",
       "      <td>crime</td>\n",
       "    </tr>\n",
       "    <tr>\n",
       "      <th>8</th>\n",
       "      <td>17224</td>\n",
       "      <td>Miruthan</td>\n",
       "      <td>A traffic police officer teams up with his fri...</td>\n",
       "      <td>adventure</td>\n",
       "    </tr>\n",
       "    <tr>\n",
       "      <th>9</th>\n",
       "      <td>54900</td>\n",
       "      <td>Until You See Me</td>\n",
       "      <td>A legendary tale unravels.</td>\n",
       "      <td>mystery</td>\n",
       "    </tr>\n",
       "  </tbody>\n",
       "</table>\n",
       "</div>"
      ],
      "text/plain": [
       "      id                                         movie_name  \\\n",
       "0  44978                                           Super Me   \n",
       "1  50185                                     Entity Project   \n",
       "2  34131  Behavioral Family Therapy for Serious Psychiat...   \n",
       "3  78522                                      Blood Glacier   \n",
       "4   2206                                      Apat na anino   \n",
       "5  46636                                Le démon dans l'île   \n",
       "6  53777                                             Candid   \n",
       "7  24872                                              Hired   \n",
       "8  17224                                           Miruthan   \n",
       "9  54900                                   Until You See Me   \n",
       "\n",
       "                                            synopsis      genre  \n",
       "0  A young scriptwriter starts bringing valuable ...    fantasy  \n",
       "1  A director and her friends renting a haunted h...     horror  \n",
       "2  This is an educational video for families and ...     family  \n",
       "3  Scientists working in the Austrian Alps discov...      scifi  \n",
       "4  Buy Day - Four Men Widely - Apart in Life - By...     action  \n",
       "5  On an island, things start going crazy as the ...     horror  \n",
       "6  A video voyeur stalks women in the city with a...     horror  \n",
       "7  Twin brothers separated at birth and worlds ap...      crime  \n",
       "8  A traffic police officer teams up with his fri...  adventure  \n",
       "9                         A legendary tale unravels.    mystery  "
      ]
     },
     "execution_count": 6,
     "metadata": {},
     "output_type": "execute_result"
    }
   ],
   "source": [
    "df_train_all.head(10)"
   ]
  },
  {
   "cell_type": "code",
   "execution_count": 7,
   "id": "aac8182f-1cee-4ec5-bd16-77b5af8515bc",
   "metadata": {},
   "outputs": [],
   "source": [
    "df_test_all = pd.DataFrame(dataset['test'])"
   ]
  },
  {
   "cell_type": "code",
   "execution_count": 8,
   "id": "2505451c-94e1-4fb0-911a-c166af636a9a",
   "metadata": {},
   "outputs": [
    {
     "data": {
      "text/html": [
       "<div>\n",
       "<style scoped>\n",
       "    .dataframe tbody tr th:only-of-type {\n",
       "        vertical-align: middle;\n",
       "    }\n",
       "\n",
       "    .dataframe tbody tr th {\n",
       "        vertical-align: top;\n",
       "    }\n",
       "\n",
       "    .dataframe thead th {\n",
       "        text-align: right;\n",
       "    }\n",
       "</style>\n",
       "<table border=\"1\" class=\"dataframe\">\n",
       "  <thead>\n",
       "    <tr style=\"text-align: right;\">\n",
       "      <th></th>\n",
       "      <th>id</th>\n",
       "      <th>movie_name</th>\n",
       "      <th>synopsis</th>\n",
       "      <th>genre</th>\n",
       "    </tr>\n",
       "  </thead>\n",
       "  <tbody>\n",
       "    <tr>\n",
       "      <th>0</th>\n",
       "      <td>16863</td>\n",
       "      <td>A Death Sentence</td>\n",
       "      <td>12 y.o. Ida's dad'll die without a DKK1,500,00...</td>\n",
       "      <td>action</td>\n",
       "    </tr>\n",
       "    <tr>\n",
       "      <th>1</th>\n",
       "      <td>48456</td>\n",
       "      <td>Intermedio</td>\n",
       "      <td>A group of four teenage friends become trapped...</td>\n",
       "      <td>action</td>\n",
       "    </tr>\n",
       "    <tr>\n",
       "      <th>2</th>\n",
       "      <td>41383</td>\n",
       "      <td>30 Chua Phai Tet</td>\n",
       "      <td>A guy left his home for 12 years till he came ...</td>\n",
       "      <td>action</td>\n",
       "    </tr>\n",
       "    <tr>\n",
       "      <th>3</th>\n",
       "      <td>84007</td>\n",
       "      <td>Paranoiac</td>\n",
       "      <td>A man long believed dead returns to the family...</td>\n",
       "      <td>action</td>\n",
       "    </tr>\n",
       "    <tr>\n",
       "      <th>4</th>\n",
       "      <td>40269</td>\n",
       "      <td>Ordinary Happiness</td>\n",
       "      <td>After a deadly accident, Paolo comes back on E...</td>\n",
       "      <td>action</td>\n",
       "    </tr>\n",
       "    <tr>\n",
       "      <th>5</th>\n",
       "      <td>16524</td>\n",
       "      <td>The Syndicate</td>\n",
       "      <td>An alcoholic, his wife, a down and out America...</td>\n",
       "      <td>action</td>\n",
       "    </tr>\n",
       "    <tr>\n",
       "      <th>6</th>\n",
       "      <td>21245</td>\n",
       "      <td>12 Depths</td>\n",
       "      <td>\"Struck by amnesia and framed for murder, a ma...</td>\n",
       "      <td>action</td>\n",
       "    </tr>\n",
       "    <tr>\n",
       "      <th>7</th>\n",
       "      <td>84681</td>\n",
       "      <td>The Feud</td>\n",
       "      <td>A mysterious man returns to his home in Iowa f...</td>\n",
       "      <td>action</td>\n",
       "    </tr>\n",
       "    <tr>\n",
       "      <th>8</th>\n",
       "      <td>73352</td>\n",
       "      <td>Cabin Fever: Patient Zero</td>\n",
       "      <td>When a group of friends enjoying a bachelor cr...</td>\n",
       "      <td>action</td>\n",
       "    </tr>\n",
       "    <tr>\n",
       "      <th>9</th>\n",
       "      <td>37966</td>\n",
       "      <td>Peregrina</td>\n",
       "      <td>After a near death experience, a young woman b...</td>\n",
       "      <td>action</td>\n",
       "    </tr>\n",
       "  </tbody>\n",
       "</table>\n",
       "</div>"
      ],
      "text/plain": [
       "      id                 movie_name  \\\n",
       "0  16863           A Death Sentence   \n",
       "1  48456                 Intermedio   \n",
       "2  41383           30 Chua Phai Tet   \n",
       "3  84007                  Paranoiac   \n",
       "4  40269         Ordinary Happiness   \n",
       "5  16524              The Syndicate   \n",
       "6  21245                  12 Depths   \n",
       "7  84681                   The Feud   \n",
       "8  73352  Cabin Fever: Patient Zero   \n",
       "9  37966                  Peregrina   \n",
       "\n",
       "                                            synopsis   genre  \n",
       "0  12 y.o. Ida's dad'll die without a DKK1,500,00...  action  \n",
       "1  A group of four teenage friends become trapped...  action  \n",
       "2  A guy left his home for 12 years till he came ...  action  \n",
       "3  A man long believed dead returns to the family...  action  \n",
       "4  After a deadly accident, Paolo comes back on E...  action  \n",
       "5  An alcoholic, his wife, a down and out America...  action  \n",
       "6  \"Struck by amnesia and framed for murder, a ma...  action  \n",
       "7  A mysterious man returns to his home in Iowa f...  action  \n",
       "8  When a group of friends enjoying a bachelor cr...  action  \n",
       "9  After a near death experience, a young woman b...  action  "
      ]
     },
     "execution_count": 8,
     "metadata": {},
     "output_type": "execute_result"
    }
   ],
   "source": [
    "df_test_all.head(10)"
   ]
  },
  {
   "cell_type": "markdown",
   "id": "44219664-fd01-4a08-9c6a-7e3100cf7af0",
   "metadata": {},
   "source": [
    "### Prepare The Data"
   ]
  },
  {
   "cell_type": "code",
   "execution_count": 9,
   "id": "95185710-8329-4a4d-9903-653efec2c0bb",
   "metadata": {},
   "outputs": [],
   "source": [
    "df_train_all['text'] = df_train_all['movie_name'] + ' ' + df_train_all['synopsis']\n",
    "df_test_all['text'] = df_test_all['movie_name'] + ' ' + df_test_all['synopsis']"
   ]
  },
  {
   "cell_type": "code",
   "execution_count": 10,
   "id": "89cd657e-90ed-4063-9656-b24d56e24c95",
   "metadata": {},
   "outputs": [],
   "source": [
    "df_train_all = df_train_all[['text', 'genre']]\n",
    "df_test_all = df_test_all[['text', 'genre']]"
   ]
  },
  {
   "cell_type": "code",
   "execution_count": 11,
   "id": "34add692-3596-479b-a81c-1a9c784291d2",
   "metadata": {},
   "outputs": [
    {
     "data": {
      "text/html": [
       "<div>\n",
       "<style scoped>\n",
       "    .dataframe tbody tr th:only-of-type {\n",
       "        vertical-align: middle;\n",
       "    }\n",
       "\n",
       "    .dataframe tbody tr th {\n",
       "        vertical-align: top;\n",
       "    }\n",
       "\n",
       "    .dataframe thead th {\n",
       "        text-align: right;\n",
       "    }\n",
       "</style>\n",
       "<table border=\"1\" class=\"dataframe\">\n",
       "  <thead>\n",
       "    <tr style=\"text-align: right;\">\n",
       "      <th></th>\n",
       "      <th>text</th>\n",
       "      <th>genre</th>\n",
       "    </tr>\n",
       "  </thead>\n",
       "  <tbody>\n",
       "    <tr>\n",
       "      <th>0</th>\n",
       "      <td>Super Me A young scriptwriter starts bringing ...</td>\n",
       "      <td>fantasy</td>\n",
       "    </tr>\n",
       "    <tr>\n",
       "      <th>1</th>\n",
       "      <td>Entity Project A director and her friends rent...</td>\n",
       "      <td>horror</td>\n",
       "    </tr>\n",
       "    <tr>\n",
       "      <th>2</th>\n",
       "      <td>Behavioral Family Therapy for Serious Psychiat...</td>\n",
       "      <td>family</td>\n",
       "    </tr>\n",
       "    <tr>\n",
       "      <th>3</th>\n",
       "      <td>Blood Glacier Scientists working in the Austri...</td>\n",
       "      <td>scifi</td>\n",
       "    </tr>\n",
       "    <tr>\n",
       "      <th>4</th>\n",
       "      <td>Apat na anino Buy Day - Four Men Widely - Apar...</td>\n",
       "      <td>action</td>\n",
       "    </tr>\n",
       "    <tr>\n",
       "      <th>5</th>\n",
       "      <td>Le démon dans l'île On an island, things start...</td>\n",
       "      <td>horror</td>\n",
       "    </tr>\n",
       "    <tr>\n",
       "      <th>6</th>\n",
       "      <td>Candid A video voyeur stalks women in the city...</td>\n",
       "      <td>horror</td>\n",
       "    </tr>\n",
       "    <tr>\n",
       "      <th>7</th>\n",
       "      <td>Hired Twin brothers separated at birth and wor...</td>\n",
       "      <td>crime</td>\n",
       "    </tr>\n",
       "    <tr>\n",
       "      <th>8</th>\n",
       "      <td>Miruthan A traffic police officer teams up wit...</td>\n",
       "      <td>adventure</td>\n",
       "    </tr>\n",
       "    <tr>\n",
       "      <th>9</th>\n",
       "      <td>Until You See Me A legendary tale unravels.</td>\n",
       "      <td>mystery</td>\n",
       "    </tr>\n",
       "  </tbody>\n",
       "</table>\n",
       "</div>"
      ],
      "text/plain": [
       "                                                text      genre\n",
       "0  Super Me A young scriptwriter starts bringing ...    fantasy\n",
       "1  Entity Project A director and her friends rent...     horror\n",
       "2  Behavioral Family Therapy for Serious Psychiat...     family\n",
       "3  Blood Glacier Scientists working in the Austri...      scifi\n",
       "4  Apat na anino Buy Day - Four Men Widely - Apar...     action\n",
       "5  Le démon dans l'île On an island, things start...     horror\n",
       "6  Candid A video voyeur stalks women in the city...     horror\n",
       "7  Hired Twin brothers separated at birth and wor...      crime\n",
       "8  Miruthan A traffic police officer teams up wit...  adventure\n",
       "9        Until You See Me A legendary tale unravels.    mystery"
      ]
     },
     "execution_count": 11,
     "metadata": {},
     "output_type": "execute_result"
    }
   ],
   "source": [
    "df_train_all.head(10)"
   ]
  },
  {
   "cell_type": "code",
   "execution_count": 12,
   "id": "4ad43007-ab9e-45ee-9f9f-2fae197e209c",
   "metadata": {},
   "outputs": [],
   "source": [
    "df_train_all['fasttext_label'] = '__label__' + df_train_all['genre']\n",
    "df_test_all['fasttext_label'] = '__label__' + df_test_all['genre']"
   ]
  },
  {
   "cell_type": "code",
   "execution_count": 13,
   "id": "ef143746-29d9-4fdd-820a-cdd3193029ea",
   "metadata": {},
   "outputs": [
    {
     "data": {
      "text/html": [
       "<div>\n",
       "<style scoped>\n",
       "    .dataframe tbody tr th:only-of-type {\n",
       "        vertical-align: middle;\n",
       "    }\n",
       "\n",
       "    .dataframe tbody tr th {\n",
       "        vertical-align: top;\n",
       "    }\n",
       "\n",
       "    .dataframe thead th {\n",
       "        text-align: right;\n",
       "    }\n",
       "</style>\n",
       "<table border=\"1\" class=\"dataframe\">\n",
       "  <thead>\n",
       "    <tr style=\"text-align: right;\">\n",
       "      <th></th>\n",
       "      <th>text</th>\n",
       "      <th>genre</th>\n",
       "      <th>fasttext_label</th>\n",
       "    </tr>\n",
       "  </thead>\n",
       "  <tbody>\n",
       "    <tr>\n",
       "      <th>0</th>\n",
       "      <td>Super Me A young scriptwriter starts bringing ...</td>\n",
       "      <td>fantasy</td>\n",
       "      <td>__label__fantasy</td>\n",
       "    </tr>\n",
       "    <tr>\n",
       "      <th>1</th>\n",
       "      <td>Entity Project A director and her friends rent...</td>\n",
       "      <td>horror</td>\n",
       "      <td>__label__horror</td>\n",
       "    </tr>\n",
       "    <tr>\n",
       "      <th>2</th>\n",
       "      <td>Behavioral Family Therapy for Serious Psychiat...</td>\n",
       "      <td>family</td>\n",
       "      <td>__label__family</td>\n",
       "    </tr>\n",
       "    <tr>\n",
       "      <th>3</th>\n",
       "      <td>Blood Glacier Scientists working in the Austri...</td>\n",
       "      <td>scifi</td>\n",
       "      <td>__label__scifi</td>\n",
       "    </tr>\n",
       "    <tr>\n",
       "      <th>4</th>\n",
       "      <td>Apat na anino Buy Day - Four Men Widely - Apar...</td>\n",
       "      <td>action</td>\n",
       "      <td>__label__action</td>\n",
       "    </tr>\n",
       "    <tr>\n",
       "      <th>5</th>\n",
       "      <td>Le démon dans l'île On an island, things start...</td>\n",
       "      <td>horror</td>\n",
       "      <td>__label__horror</td>\n",
       "    </tr>\n",
       "    <tr>\n",
       "      <th>6</th>\n",
       "      <td>Candid A video voyeur stalks women in the city...</td>\n",
       "      <td>horror</td>\n",
       "      <td>__label__horror</td>\n",
       "    </tr>\n",
       "    <tr>\n",
       "      <th>7</th>\n",
       "      <td>Hired Twin brothers separated at birth and wor...</td>\n",
       "      <td>crime</td>\n",
       "      <td>__label__crime</td>\n",
       "    </tr>\n",
       "    <tr>\n",
       "      <th>8</th>\n",
       "      <td>Miruthan A traffic police officer teams up wit...</td>\n",
       "      <td>adventure</td>\n",
       "      <td>__label__adventure</td>\n",
       "    </tr>\n",
       "    <tr>\n",
       "      <th>9</th>\n",
       "      <td>Until You See Me A legendary tale unravels.</td>\n",
       "      <td>mystery</td>\n",
       "      <td>__label__mystery</td>\n",
       "    </tr>\n",
       "  </tbody>\n",
       "</table>\n",
       "</div>"
      ],
      "text/plain": [
       "                                                text      genre  \\\n",
       "0  Super Me A young scriptwriter starts bringing ...    fantasy   \n",
       "1  Entity Project A director and her friends rent...     horror   \n",
       "2  Behavioral Family Therapy for Serious Psychiat...     family   \n",
       "3  Blood Glacier Scientists working in the Austri...      scifi   \n",
       "4  Apat na anino Buy Day - Four Men Widely - Apar...     action   \n",
       "5  Le démon dans l'île On an island, things start...     horror   \n",
       "6  Candid A video voyeur stalks women in the city...     horror   \n",
       "7  Hired Twin brothers separated at birth and wor...      crime   \n",
       "8  Miruthan A traffic police officer teams up wit...  adventure   \n",
       "9        Until You See Me A legendary tale unravels.    mystery   \n",
       "\n",
       "       fasttext_label  \n",
       "0    __label__fantasy  \n",
       "1     __label__horror  \n",
       "2     __label__family  \n",
       "3      __label__scifi  \n",
       "4     __label__action  \n",
       "5     __label__horror  \n",
       "6     __label__horror  \n",
       "7      __label__crime  \n",
       "8  __label__adventure  \n",
       "9    __label__mystery  "
      ]
     },
     "execution_count": 13,
     "metadata": {},
     "output_type": "execute_result"
    }
   ],
   "source": [
    "df_train_all.head(10)"
   ]
  },
  {
   "cell_type": "code",
   "execution_count": 20,
   "id": "d9b9a6a2-4776-4c95-9f2d-364f5f3965e7",
   "metadata": {},
   "outputs": [],
   "source": [
    "df_train_all[['fasttext_label', 'text']].to_csv(data_dir + 'train_full.txt', index = False, sep = ' ', header = None, quoting = csv.QUOTE_NONE, quotechar = \"\", escapechar = \" \")"
   ]
  },
  {
   "cell_type": "code",
   "execution_count": 21,
   "id": "25d4a311-e51b-432e-b2ad-8c7b28bf25ce",
   "metadata": {},
   "outputs": [],
   "source": [
    "df_test_all[['fasttext_label', 'text']].to_csv(data_dir + 'test_full.txt', index = False, sep = ' ', header = None, quoting = csv.QUOTE_NONE, quotechar = \"\", escapechar = \" \")"
   ]
  },
  {
   "cell_type": "markdown",
   "id": "ee8517d4-c049-45f3-a0d4-14e05bbe5a3b",
   "metadata": {},
   "source": [
    "### Train & Test The Fasttext Model"
   ]
  },
  {
   "cell_type": "code",
   "execution_count": 22,
   "id": "752de1fc-da4f-4e82-88ba-a67df780d6f1",
   "metadata": {},
   "outputs": [
    {
     "name": "stderr",
     "output_type": "stream",
     "text": [
      "Read 1M words\n",
      "Number of words:  115082\n",
      "Number of labels: 10\n",
      "Progress: 100.0% words/sec/thread: 3672467 lr:  0.000000 avg.loss:  0.520538 ETA:   0h 0m 0s\n"
     ]
    }
   ],
   "source": [
    "model = fasttext.train_supervised(data_dir + 'train_full.txt', epoch=100)"
   ]
  },
  {
   "cell_type": "code",
   "execution_count": 23,
   "id": "57ec87e1-600c-4eb0-af01-2292ef06d59d",
   "metadata": {},
   "outputs": [
    {
     "data": {
      "text/plain": [
       "(54000, 0.8582037037037037, 0.8582037037037037)"
      ]
     },
     "execution_count": 23,
     "metadata": {},
     "output_type": "execute_result"
    }
   ],
   "source": [
    "model.test(data_dir + 'train_full.txt') # train accuracy"
   ]
  },
  {
   "cell_type": "code",
   "execution_count": 24,
   "id": "7149934c-3e5e-410a-99cb-d7f4886ed251",
   "metadata": {},
   "outputs": [
    {
     "data": {
      "text/plain": [
       "(36000, 0.09872222222222223, 0.09872222222222223)"
      ]
     },
     "execution_count": 24,
     "metadata": {},
     "output_type": "execute_result"
    }
   ],
   "source": [
    "model.test(data_dir + 'test_full.txt') # test accuracy"
   ]
  },
  {
   "cell_type": "code",
   "execution_count": null,
   "id": "36f42e7e-175a-44f7-9f34-bd5c68ef1cca",
   "metadata": {},
   "outputs": [],
   "source": []
  }
 ],
 "metadata": {
  "kernelspec": {
   "display_name": "Python 3 (ipykernel)",
   "language": "python",
   "name": "python3"
  },
  "language_info": {
   "codemirror_mode": {
    "name": "ipython",
    "version": 3
   },
   "file_extension": ".py",
   "mimetype": "text/x-python",
   "name": "python",
   "nbconvert_exporter": "python",
   "pygments_lexer": "ipython3",
   "version": "3.11.4"
  }
 },
 "nbformat": 4,
 "nbformat_minor": 5
}
