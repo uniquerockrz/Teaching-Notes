{
 "cells": [
  {
   "cell_type": "markdown",
   "id": "62ca49a1-76a5-4adc-b2a2-68e860d26ff7",
   "metadata": {},
   "source": [
    "### Some Examples Of Functions"
   ]
  },
  {
   "cell_type": "code",
   "execution_count": 1,
   "id": "f1293422-5806-4563-9036-4068b0092524",
   "metadata": {},
   "outputs": [
    {
     "name": "stdout",
     "output_type": "stream",
     "text": [
      "I live in Kolkata\n"
     ]
    }
   ],
   "source": [
    "print('I live in Kolkata')"
   ]
  },
  {
   "cell_type": "code",
   "execution_count": 2,
   "id": "3f56731d-229e-4ef6-b251-83d343010ef2",
   "metadata": {},
   "outputs": [
    {
     "data": {
      "text/plain": [
       "17"
      ]
     },
     "execution_count": 2,
     "metadata": {},
     "output_type": "execute_result"
    }
   ],
   "source": [
    "len('I live in Kolkata')"
   ]
  },
  {
   "cell_type": "code",
   "execution_count": 3,
   "id": "ce5a5380-b744-4b69-85ca-f77828adbb83",
   "metadata": {},
   "outputs": [
    {
     "data": {
      "text/plain": [
       "[0, 1, 2, 3, 4]"
      ]
     },
     "execution_count": 3,
     "metadata": {},
     "output_type": "execute_result"
    }
   ],
   "source": [
    "list(range(5))"
   ]
  },
  {
   "cell_type": "markdown",
   "id": "525410e2-76db-49ab-80a7-586a3c458e98",
   "metadata": {},
   "source": [
    "### Function Arguments"
   ]
  },
  {
   "cell_type": "code",
   "execution_count": 4,
   "id": "71fd3ca1-c9ac-4cb4-af32-83cd662e1098",
   "metadata": {},
   "outputs": [
    {
     "name": "stdout",
     "output_type": "stream",
     "text": [
      "Hello!"
     ]
    }
   ],
   "source": [
    "print('Hello', end='!')"
   ]
  },
  {
   "cell_type": "markdown",
   "id": "f87b6b61-c3e4-4435-ad9c-c91848dca58d",
   "metadata": {},
   "source": [
    "### Getting Help"
   ]
  },
  {
   "cell_type": "code",
   "execution_count": 5,
   "id": "17b56f6b-3afd-42b6-89ac-8c2a56a69fc3",
   "metadata": {},
   "outputs": [
    {
     "data": {
      "text/plain": [
       "\u001b[0;31mDocstring:\u001b[0m\n",
       "print(value, ..., sep=' ', end='\\n', file=sys.stdout, flush=False)\n",
       "\n",
       "Prints the values to a stream, or to sys.stdout by default.\n",
       "Optional keyword arguments:\n",
       "file:  a file-like object (stream); defaults to the current sys.stdout.\n",
       "sep:   string inserted between values, default a space.\n",
       "end:   string appended after the last value, default a newline.\n",
       "flush: whether to forcibly flush the stream.\n",
       "\u001b[0;31mType:\u001b[0m      builtin_function_or_method"
      ]
     },
     "metadata": {},
     "output_type": "display_data"
    }
   ],
   "source": [
    "?print"
   ]
  },
  {
   "cell_type": "code",
   "execution_count": 6,
   "id": "2e455e6b-2e1c-4127-bbe6-22c8419e9f45",
   "metadata": {},
   "outputs": [
    {
     "data": {
      "text/plain": [
       "\u001b[0;31mSignature:\u001b[0m \u001b[0mlen\u001b[0m\u001b[0;34m(\u001b[0m\u001b[0mobj\u001b[0m\u001b[0;34m,\u001b[0m \u001b[0;34m/\u001b[0m\u001b[0;34m)\u001b[0m\u001b[0;34m\u001b[0m\u001b[0;34m\u001b[0m\u001b[0m\n",
       "\u001b[0;31mDocstring:\u001b[0m Return the number of items in a container.\n",
       "\u001b[0;31mType:\u001b[0m      builtin_function_or_method"
      ]
     },
     "metadata": {},
     "output_type": "display_data"
    }
   ],
   "source": [
    "?len"
   ]
  },
  {
   "cell_type": "code",
   "execution_count": 7,
   "id": "32c979b8-5b75-488d-8e98-b2b4b7955356",
   "metadata": {},
   "outputs": [
    {
     "data": {
      "text/plain": [
       "\u001b[0;31mSignature:\u001b[0m \u001b[0mround\u001b[0m\u001b[0;34m(\u001b[0m\u001b[0mnumber\u001b[0m\u001b[0;34m,\u001b[0m \u001b[0mndigits\u001b[0m\u001b[0;34m=\u001b[0m\u001b[0;32mNone\u001b[0m\u001b[0;34m)\u001b[0m\u001b[0;34m\u001b[0m\u001b[0;34m\u001b[0m\u001b[0m\n",
       "\u001b[0;31mDocstring:\u001b[0m\n",
       "Round a number to a given precision in decimal digits.\n",
       "\n",
       "The return value is an integer if ndigits is omitted or None.  Otherwise\n",
       "the return value has the same type as the number.  ndigits may be negative.\n",
       "\u001b[0;31mType:\u001b[0m      builtin_function_or_method"
      ]
     },
     "metadata": {},
     "output_type": "display_data"
    }
   ],
   "source": [
    "?round"
   ]
  },
  {
   "cell_type": "code",
   "execution_count": 8,
   "id": "584d76d1-02c0-48a3-92e0-20b1375aba69",
   "metadata": {},
   "outputs": [
    {
     "data": {
      "text/plain": [
       "2.0"
      ]
     },
     "execution_count": 8,
     "metadata": {},
     "output_type": "execute_result"
    }
   ],
   "source": [
    "round(2.23, 0)"
   ]
  },
  {
   "cell_type": "markdown",
   "id": "dd92e4de-10b6-4d11-a5b7-fd6ffc955233",
   "metadata": {},
   "source": [
    "### Math Functions"
   ]
  },
  {
   "cell_type": "code",
   "execution_count": 9,
   "id": "e77af052-5ace-41d3-89e0-190c91186f8a",
   "metadata": {},
   "outputs": [],
   "source": [
    "import math"
   ]
  },
  {
   "cell_type": "code",
   "execution_count": 10,
   "id": "b039db47-885f-4673-8028-699e288a545b",
   "metadata": {},
   "outputs": [
    {
     "data": {
      "text/plain": [
       "3.141592653589793"
      ]
     },
     "execution_count": 10,
     "metadata": {},
     "output_type": "execute_result"
    }
   ],
   "source": [
    "math.pi"
   ]
  },
  {
   "cell_type": "code",
   "execution_count": 11,
   "id": "7f06826a-e371-48d4-8da1-fa5510566510",
   "metadata": {},
   "outputs": [
    {
     "data": {
      "text/plain": [
       "2"
      ]
     },
     "execution_count": 11,
     "metadata": {},
     "output_type": "execute_result"
    }
   ],
   "source": [
    "math.floor(2.23)"
   ]
  },
  {
   "cell_type": "code",
   "execution_count": 12,
   "id": "14fdb8c7-de9c-4b64-9278-9cd3a9b23e3a",
   "metadata": {},
   "outputs": [
    {
     "data": {
      "text/plain": [
       "3"
      ]
     },
     "execution_count": 12,
     "metadata": {},
     "output_type": "execute_result"
    }
   ],
   "source": [
    "math.ceil(2.23)"
   ]
  },
  {
   "cell_type": "code",
   "execution_count": 13,
   "id": "b3267690-72a6-401e-970f-30d1757485fc",
   "metadata": {},
   "outputs": [
    {
     "data": {
      "text/plain": [
       "1.4142135623730951"
      ]
     },
     "execution_count": 13,
     "metadata": {},
     "output_type": "execute_result"
    }
   ],
   "source": [
    "math.sqrt(2)"
   ]
  },
  {
   "cell_type": "code",
   "execution_count": 14,
   "id": "8b66e014-ea0b-46dc-910e-4eb38e2f9825",
   "metadata": {},
   "outputs": [
    {
     "data": {
      "text/plain": [
       "2.0000000000000004"
      ]
     },
     "execution_count": 14,
     "metadata": {},
     "output_type": "execute_result"
    }
   ],
   "source": [
    "math.pow(math.sqrt(2), 2)"
   ]
  },
  {
   "cell_type": "code",
   "execution_count": 15,
   "id": "52ea9f65-948a-4c7c-bc99-cc9a9efa4088",
   "metadata": {},
   "outputs": [
    {
     "data": {
      "text/plain": [
       "2.0"
      ]
     },
     "execution_count": 15,
     "metadata": {},
     "output_type": "execute_result"
    }
   ],
   "source": [
    "round(math.pow(math.sqrt(2), 2), 0)"
   ]
  },
  {
   "cell_type": "code",
   "execution_count": 16,
   "id": "825be9d3-9a8f-48a4-9672-0e77a14918ac",
   "metadata": {},
   "outputs": [
    {
     "data": {
      "text/plain": [
       "2"
      ]
     },
     "execution_count": 16,
     "metadata": {},
     "output_type": "execute_result"
    }
   ],
   "source": [
    "int(round(math.pow(math.sqrt(2), 2), 0))"
   ]
  },
  {
   "cell_type": "markdown",
   "id": "dd84c31d-ab58-4429-9b3d-63d8f310ba24",
   "metadata": {},
   "source": [
    "### String Functions"
   ]
  },
  {
   "cell_type": "code",
   "execution_count": 17,
   "id": "99c81d24-3000-4fe0-a79e-190441ef4903",
   "metadata": {},
   "outputs": [
    {
     "data": {
      "text/plain": [
       "'Hello'"
      ]
     },
     "execution_count": 17,
     "metadata": {},
     "output_type": "execute_result"
    }
   ],
   "source": [
    "'hello'.capitalize()"
   ]
  },
  {
   "cell_type": "code",
   "execution_count": 18,
   "id": "80f006a3-922f-4525-8371-99d72c0397e6",
   "metadata": {},
   "outputs": [
    {
     "data": {
      "text/plain": [
       "'HELLO'"
      ]
     },
     "execution_count": 18,
     "metadata": {},
     "output_type": "execute_result"
    }
   ],
   "source": [
    "'hello'.upper()"
   ]
  },
  {
   "cell_type": "code",
   "execution_count": 19,
   "id": "0b5e9586-62f5-4b81-847e-15b552dafca5",
   "metadata": {},
   "outputs": [
    {
     "data": {
      "text/plain": [
       "'hello'"
      ]
     },
     "execution_count": 19,
     "metadata": {},
     "output_type": "execute_result"
    }
   ],
   "source": [
    "'hello'.upper().lower()"
   ]
  },
  {
   "cell_type": "code",
   "execution_count": 20,
   "id": "96d72287-88fc-4c82-832a-7bb23ee55acb",
   "metadata": {},
   "outputs": [
    {
     "data": {
      "text/plain": [
       "'Hello'"
      ]
     },
     "execution_count": 20,
     "metadata": {},
     "output_type": "execute_result"
    }
   ],
   "source": [
    "'hello'.upper().lower().capitalize()"
   ]
  },
  {
   "cell_type": "code",
   "execution_count": 21,
   "id": "6a22ef0e-2d2d-48b3-a1cf-c1af1c2e6076",
   "metadata": {},
   "outputs": [
    {
     "data": {
      "text/plain": [
       "2"
      ]
     },
     "execution_count": 21,
     "metadata": {},
     "output_type": "execute_result"
    }
   ],
   "source": [
    "'hello i am learning python'.count('a')"
   ]
  },
  {
   "cell_type": "code",
   "execution_count": 22,
   "id": "ffcfb610-4ee0-49bd-ad6b-31b31631ea69",
   "metadata": {},
   "outputs": [
    {
     "data": {
      "text/plain": [
       "1"
      ]
     },
     "execution_count": 22,
     "metadata": {},
     "output_type": "execute_result"
    }
   ],
   "source": [
    "'hello i am learning python'.count('ll')"
   ]
  },
  {
   "cell_type": "code",
   "execution_count": 23,
   "id": "c49960cd-9681-422f-b480-f5bed4ed765b",
   "metadata": {},
   "outputs": [
    {
     "data": {
      "text/plain": [
       "True"
      ]
     },
     "execution_count": 23,
     "metadata": {},
     "output_type": "execute_result"
    }
   ],
   "source": [
    "'a123'.isalnum()"
   ]
  },
  {
   "cell_type": "code",
   "execution_count": 24,
   "id": "036641e6-4607-4a1d-8bf0-a5c93d11d2f5",
   "metadata": {},
   "outputs": [
    {
     "data": {
      "text/plain": [
       "False"
      ]
     },
     "execution_count": 24,
     "metadata": {},
     "output_type": "execute_result"
    }
   ],
   "source": [
    "'a123!'.isalnum()"
   ]
  },
  {
   "cell_type": "code",
   "execution_count": 25,
   "id": "1361ce95-8337-45d2-bbc2-a138c3d629da",
   "metadata": {},
   "outputs": [
    {
     "data": {
      "text/plain": [
       "True"
      ]
     },
     "execution_count": 25,
     "metadata": {},
     "output_type": "execute_result"
    }
   ],
   "source": [
    "'123'.isdigit()"
   ]
  },
  {
   "cell_type": "code",
   "execution_count": 26,
   "id": "8ccb2482-bc5f-41f3-a758-86af47f770e8",
   "metadata": {},
   "outputs": [
    {
     "data": {
      "text/plain": [
       "True"
      ]
     },
     "execution_count": 26,
     "metadata": {},
     "output_type": "execute_result"
    }
   ],
   "source": [
    "'abc'.islower()"
   ]
  },
  {
   "cell_type": "code",
   "execution_count": 27,
   "id": "c516c841-e25d-4461-9d14-4dbf940ef7df",
   "metadata": {},
   "outputs": [
    {
     "data": {
      "text/plain": [
       "False"
      ]
     },
     "execution_count": 27,
     "metadata": {},
     "output_type": "execute_result"
    }
   ],
   "source": [
    "'abc'.isupper()"
   ]
  },
  {
   "cell_type": "code",
   "execution_count": 28,
   "id": "bf2010c4-306e-4231-9c6a-00fc2fc661a2",
   "metadata": {},
   "outputs": [
    {
     "data": {
      "text/plain": [
       "' am le'"
      ]
     },
     "execution_count": 28,
     "metadata": {},
     "output_type": "execute_result"
    }
   ],
   "source": [
    "'I am learning python'[1:7]"
   ]
  },
  {
   "cell_type": "code",
   "execution_count": 29,
   "id": "09571b07-2607-4aba-ba16-cb39d673a7b1",
   "metadata": {},
   "outputs": [
    {
     "data": {
      "text/plain": [
       "'n'"
      ]
     },
     "execution_count": 29,
     "metadata": {},
     "output_type": "execute_result"
    }
   ],
   "source": [
    "'I am learning python'[-1]"
   ]
  },
  {
   "cell_type": "code",
   "execution_count": 30,
   "id": "701031ec-5ede-42ad-8ae7-45d47544d42c",
   "metadata": {},
   "outputs": [
    {
     "data": {
      "text/plain": [
       "'ytho'"
      ]
     },
     "execution_count": 30,
     "metadata": {},
     "output_type": "execute_result"
    }
   ],
   "source": [
    "'I am learning python'[-5:-1]"
   ]
  },
  {
   "cell_type": "code",
   "execution_count": 31,
   "id": "cf24c629-c842-478e-94a8-d0ce8c7e398d",
   "metadata": {},
   "outputs": [
    {
     "data": {
      "text/plain": [
       "'learning python'"
      ]
     },
     "execution_count": 31,
     "metadata": {},
     "output_type": "execute_result"
    }
   ],
   "source": [
    "'I am learning python'[5:]"
   ]
  },
  {
   "cell_type": "code",
   "execution_count": 32,
   "id": "adf6fe3c-ea80-4329-9244-cf2630654f4d",
   "metadata": {},
   "outputs": [
    {
     "data": {
      "text/plain": [
       "'I am le'"
      ]
     },
     "execution_count": 32,
     "metadata": {},
     "output_type": "execute_result"
    }
   ],
   "source": [
    "'I am learning python'[:7]"
   ]
  },
  {
   "cell_type": "code",
   "execution_count": 33,
   "id": "68d03a3f-777d-4f93-842d-b8ecc1863040",
   "metadata": {},
   "outputs": [
    {
     "data": {
      "text/plain": [
       "'ython'"
      ]
     },
     "execution_count": 33,
     "metadata": {},
     "output_type": "execute_result"
    }
   ],
   "source": [
    "'I am learning python'[-5:]"
   ]
  },
  {
   "cell_type": "code",
   "execution_count": 34,
   "id": "eff8dea2-dc39-40af-bcc3-f27a33c20306",
   "metadata": {},
   "outputs": [],
   "source": [
    "text = 'this is a test text'"
   ]
  },
  {
   "cell_type": "code",
   "execution_count": 35,
   "id": "34aeea51-7ec5-475a-8f80-992edc8e0c72",
   "metadata": {},
   "outputs": [
    {
     "ename": "TypeError",
     "evalue": "'str' object does not support item assignment",
     "output_type": "error",
     "traceback": [
      "\u001b[0;31m---------------------------------------------------------------------------\u001b[0m",
      "\u001b[0;31mTypeError\u001b[0m                                 Traceback (most recent call last)",
      "Cell \u001b[0;32mIn[35], line 1\u001b[0m\n\u001b[0;32m----> 1\u001b[0m \u001b[43mtext\u001b[49m\u001b[43m[\u001b[49m\u001b[38;5;241;43m1\u001b[39;49m\u001b[43m]\u001b[49m \u001b[38;5;241m=\u001b[39m \u001b[38;5;124m'\u001b[39m\u001b[38;5;124mh\u001b[39m\u001b[38;5;124m'\u001b[39m\n",
      "\u001b[0;31mTypeError\u001b[0m: 'str' object does not support item assignment"
     ]
    }
   ],
   "source": [
    "text[1] = 'h'"
   ]
  },
  {
   "cell_type": "markdown",
   "id": "b5ad2040-c0c7-4be7-b2a9-a0675051f722",
   "metadata": {},
   "source": [
    "### Creating Your Own Functions"
   ]
  },
  {
   "cell_type": "code",
   "execution_count": 37,
   "id": "00398247-752b-468c-9955-512b0733b2f0",
   "metadata": {},
   "outputs": [],
   "source": [
    "def add(num1, num2):\n",
    "    num3 = num1 + num2\n",
    "    return num3"
   ]
  },
  {
   "cell_type": "code",
   "execution_count": 38,
   "id": "e9b4bcfc-abee-4397-817a-38c2e8b868ef",
   "metadata": {},
   "outputs": [
    {
     "data": {
      "text/plain": [
       "4"
      ]
     },
     "execution_count": 38,
     "metadata": {},
     "output_type": "execute_result"
    }
   ],
   "source": [
    "add(2, 2)"
   ]
  },
  {
   "cell_type": "code",
   "execution_count": 39,
   "id": "88f51db0-a74c-4980-b252-c5851c81b4d7",
   "metadata": {},
   "outputs": [],
   "source": [
    "def printCity():\n",
    "    print('The current city is Kolkata')"
   ]
  },
  {
   "cell_type": "code",
   "execution_count": 40,
   "id": "e5edaabe-c994-4b81-b302-1956e980f6bf",
   "metadata": {},
   "outputs": [
    {
     "name": "stdout",
     "output_type": "stream",
     "text": [
      "The current city is Kolkata\n"
     ]
    }
   ],
   "source": [
    "printCity()"
   ]
  },
  {
   "cell_type": "code",
   "execution_count": 41,
   "id": "de5ec283-7a9a-42bf-a839-855e754f3db0",
   "metadata": {},
   "outputs": [],
   "source": [
    "def add(num1=5, num2=5):\n",
    "    num3 = num1 + num2\n",
    "    return num3"
   ]
  },
  {
   "cell_type": "code",
   "execution_count": 42,
   "id": "fd183a0b-d8b9-4eed-ad94-3138eeaba27f",
   "metadata": {},
   "outputs": [
    {
     "data": {
      "text/plain": [
       "10"
      ]
     },
     "execution_count": 42,
     "metadata": {},
     "output_type": "execute_result"
    }
   ],
   "source": [
    "add()"
   ]
  },
  {
   "cell_type": "code",
   "execution_count": 43,
   "id": "fdf2103d-4156-4b53-9d3c-85f6d924bcef",
   "metadata": {},
   "outputs": [
    {
     "data": {
      "text/plain": [
       "6"
      ]
     },
     "execution_count": 43,
     "metadata": {},
     "output_type": "execute_result"
    }
   ],
   "source": [
    "add(3, 3)"
   ]
  },
  {
   "cell_type": "code",
   "execution_count": 44,
   "id": "139ddd47-c0e4-4ce7-a20e-e26c019681cd",
   "metadata": {},
   "outputs": [
    {
     "data": {
      "text/plain": [
       "8"
      ]
     },
     "execution_count": 44,
     "metadata": {},
     "output_type": "execute_result"
    }
   ],
   "source": [
    "add(num2=3)"
   ]
  },
  {
   "cell_type": "code",
   "execution_count": 45,
   "id": "f8db3b2c-3c37-4f74-8928-a346f9b66239",
   "metadata": {},
   "outputs": [
    {
     "name": "stdout",
     "output_type": "stream",
     "text": [
      "The sum of 2 and 2 is 4\n"
     ]
    }
   ],
   "source": [
    "print('The sum of 2 and 2 is {}'.format(add(2, 2)))"
   ]
  },
  {
   "cell_type": "code",
   "execution_count": 46,
   "id": "6722db34-9e5e-4d3e-aa2a-f40cbc732e2b",
   "metadata": {},
   "outputs": [],
   "source": [
    "def add10tosum(num_1, num_2):\n",
    "    sum = add(num_1, num_2)\n",
    "    return 10 + sum"
   ]
  },
  {
   "cell_type": "code",
   "execution_count": 47,
   "id": "e19a5d0e-2762-4dd4-bae0-ac759a68b61a",
   "metadata": {},
   "outputs": [
    {
     "data": {
      "text/plain": [
       "21"
      ]
     },
     "execution_count": 47,
     "metadata": {},
     "output_type": "execute_result"
    }
   ],
   "source": [
    "add10tosum(7, 4)"
   ]
  },
  {
   "cell_type": "code",
   "execution_count": 48,
   "id": "17fbb733-7ed0-4fc7-96e9-07aedf1ede6b",
   "metadata": {},
   "outputs": [
    {
     "name": "stdout",
     "output_type": "stream",
     "text": [
      "Num Outside 2\n",
      "Num Inside 5\n"
     ]
    }
   ],
   "source": [
    "num = 2\n",
    "print('Num Outside {}'.format(num))\n",
    "def printNum():\n",
    "    num = 5\n",
    "    print('Num Inside {}'.format(num))\n",
    "printNum()"
   ]
  },
  {
   "cell_type": "markdown",
   "id": "7d41a557-a1d6-4a0e-a2c0-e6d57f301498",
   "metadata": {},
   "source": [
    "### List"
   ]
  },
  {
   "cell_type": "code",
   "execution_count": 49,
   "id": "5380b3f9-0396-47d2-923d-8a757b6e12d6",
   "metadata": {},
   "outputs": [],
   "source": [
    "cities = ['Kolkata', 'Bangalore', 'Pune', 'Hyderabad', 'Jaipur']"
   ]
  },
  {
   "cell_type": "code",
   "execution_count": 77,
   "id": "12ef1022-641f-4a5c-8e5f-b449ae70d3e3",
   "metadata": {},
   "outputs": [
    {
     "data": {
      "text/plain": [
       "['Kolkata', 'Bangalore', 'Hyderabad']"
      ]
     },
     "execution_count": 77,
     "metadata": {},
     "output_type": "execute_result"
    }
   ],
   "source": [
    "cities"
   ]
  },
  {
   "cell_type": "code",
   "execution_count": 75,
   "id": "96cfe6be-a476-4621-be63-80e5679d9952",
   "metadata": {},
   "outputs": [],
   "source": [
    "list2 = [1, 2, 'Saurav', 4.0]"
   ]
  },
  {
   "cell_type": "code",
   "execution_count": 76,
   "id": "1b5839dc-42a8-4417-92e6-cfc05d7fdb45",
   "metadata": {},
   "outputs": [
    {
     "data": {
      "text/plain": [
       "[1, 2, 'Saurav', 4.0]"
      ]
     },
     "execution_count": 76,
     "metadata": {},
     "output_type": "execute_result"
    }
   ],
   "source": [
    "list2"
   ]
  },
  {
   "cell_type": "code",
   "execution_count": 50,
   "id": "ed12178f-ffcd-4c40-8f98-26a87fa8c116",
   "metadata": {},
   "outputs": [
    {
     "data": {
      "text/plain": [
       "5"
      ]
     },
     "execution_count": 50,
     "metadata": {},
     "output_type": "execute_result"
    }
   ],
   "source": [
    "len(cities)"
   ]
  },
  {
   "cell_type": "code",
   "execution_count": 51,
   "id": "030e8277-e485-4d36-9d01-ca237432136a",
   "metadata": {},
   "outputs": [
    {
     "name": "stdout",
     "output_type": "stream",
     "text": [
      "Kolkata\n",
      "Bangalore\n",
      "Pune\n",
      "Hyderabad\n",
      "Jaipur\n"
     ]
    }
   ],
   "source": [
    "for city in cities:\n",
    "    print(city)"
   ]
  },
  {
   "cell_type": "code",
   "execution_count": 52,
   "id": "df2e6378-1e37-406c-b80d-1082586d8bfe",
   "metadata": {},
   "outputs": [
    {
     "data": {
      "text/plain": [
       "'Kolkata'"
      ]
     },
     "execution_count": 52,
     "metadata": {},
     "output_type": "execute_result"
    }
   ],
   "source": [
    "cities[0]"
   ]
  },
  {
   "cell_type": "code",
   "execution_count": 53,
   "id": "f068624d-a5ae-4a84-975b-0c82ec2cd6ad",
   "metadata": {},
   "outputs": [
    {
     "data": {
      "text/plain": [
       "'Bangalore'"
      ]
     },
     "execution_count": 53,
     "metadata": {},
     "output_type": "execute_result"
    }
   ],
   "source": [
    "cities[1]"
   ]
  },
  {
   "cell_type": "code",
   "execution_count": 54,
   "id": "ece3f55d-94ea-4e2b-96a0-91759b1abef2",
   "metadata": {},
   "outputs": [
    {
     "data": {
      "text/plain": [
       "'Jaipur'"
      ]
     },
     "execution_count": 54,
     "metadata": {},
     "output_type": "execute_result"
    }
   ],
   "source": [
    "cities[-1]"
   ]
  },
  {
   "cell_type": "code",
   "execution_count": 55,
   "id": "ef19af60-9041-42ae-987e-960421cc0816",
   "metadata": {},
   "outputs": [
    {
     "data": {
      "text/plain": [
       "'Pune'"
      ]
     },
     "execution_count": 55,
     "metadata": {},
     "output_type": "execute_result"
    }
   ],
   "source": [
    "cities[-3]"
   ]
  },
  {
   "cell_type": "code",
   "execution_count": 56,
   "id": "10d25ecb-a7f7-4113-abf7-6b32f407b397",
   "metadata": {},
   "outputs": [
    {
     "data": {
      "text/plain": [
       "['Bangalore', 'Pune']"
      ]
     },
     "execution_count": 56,
     "metadata": {},
     "output_type": "execute_result"
    }
   ],
   "source": [
    "cities[1:3]"
   ]
  },
  {
   "cell_type": "code",
   "execution_count": 57,
   "id": "b455e87e-6ee5-4ae7-864d-dcd42002c241",
   "metadata": {},
   "outputs": [
    {
     "data": {
      "text/plain": [
       "['Pune', 'Hyderabad']"
      ]
     },
     "execution_count": 57,
     "metadata": {},
     "output_type": "execute_result"
    }
   ],
   "source": [
    "cities[-3:-1]"
   ]
  },
  {
   "cell_type": "code",
   "execution_count": 58,
   "id": "8505e90e-4447-4a5a-ae54-3d9d030a8bc4",
   "metadata": {},
   "outputs": [
    {
     "data": {
      "text/plain": [
       "['Bangalore', 'Pune', 'Hyderabad', 'Jaipur']"
      ]
     },
     "execution_count": 58,
     "metadata": {},
     "output_type": "execute_result"
    }
   ],
   "source": [
    "cities[1:]"
   ]
  },
  {
   "cell_type": "code",
   "execution_count": 59,
   "id": "b4b5e5d4-74d9-4fb2-80d1-4303a6742464",
   "metadata": {},
   "outputs": [],
   "source": [
    "cities[2] = 'Chennai'"
   ]
  },
  {
   "cell_type": "code",
   "execution_count": 60,
   "id": "7db54bc8-e137-49ef-afa7-6a14d7c4451e",
   "metadata": {},
   "outputs": [
    {
     "data": {
      "text/plain": [
       "['Kolkata', 'Bangalore', 'Chennai', 'Hyderabad', 'Jaipur']"
      ]
     },
     "execution_count": 60,
     "metadata": {},
     "output_type": "execute_result"
    }
   ],
   "source": [
    "cities"
   ]
  },
  {
   "cell_type": "code",
   "execution_count": 61,
   "id": "b6592aa9-9a1b-4c81-a98c-12a047db3384",
   "metadata": {},
   "outputs": [
    {
     "data": {
      "text/plain": [
       "True"
      ]
     },
     "execution_count": 61,
     "metadata": {},
     "output_type": "execute_result"
    }
   ],
   "source": [
    "'Kolkata' in cities"
   ]
  },
  {
   "cell_type": "code",
   "execution_count": 62,
   "id": "185520c0-a577-468a-83a5-f0716dd5db9d",
   "metadata": {},
   "outputs": [],
   "source": [
    "cities.append('Pune')"
   ]
  },
  {
   "cell_type": "code",
   "execution_count": 63,
   "id": "623a7ca7-68f2-439c-8d76-f5f0d5a6cfed",
   "metadata": {},
   "outputs": [
    {
     "data": {
      "text/plain": [
       "['Kolkata', 'Bangalore', 'Chennai', 'Hyderabad', 'Jaipur', 'Pune']"
      ]
     },
     "execution_count": 63,
     "metadata": {},
     "output_type": "execute_result"
    }
   ],
   "source": [
    "cities"
   ]
  },
  {
   "cell_type": "code",
   "execution_count": 64,
   "id": "8f060796-5c72-47d3-b8ac-a6fab5d0fe49",
   "metadata": {},
   "outputs": [
    {
     "data": {
      "text/plain": [
       "'Pune'"
      ]
     },
     "execution_count": 64,
     "metadata": {},
     "output_type": "execute_result"
    }
   ],
   "source": [
    "cities.pop()"
   ]
  },
  {
   "cell_type": "code",
   "execution_count": 65,
   "id": "66a34ae8-1e15-4ca4-9590-c767fcc32729",
   "metadata": {},
   "outputs": [
    {
     "data": {
      "text/plain": [
       "['Kolkata', 'Bangalore', 'Chennai', 'Hyderabad', 'Jaipur']"
      ]
     },
     "execution_count": 65,
     "metadata": {},
     "output_type": "execute_result"
    }
   ],
   "source": [
    "cities"
   ]
  },
  {
   "cell_type": "code",
   "execution_count": 68,
   "id": "77f5659f-9a67-4c80-ad71-35910c17bcd9",
   "metadata": {},
   "outputs": [],
   "source": [
    "del cities[2]"
   ]
  },
  {
   "cell_type": "code",
   "execution_count": 69,
   "id": "8323234e-5218-460b-a03c-172a034c3eb1",
   "metadata": {},
   "outputs": [
    {
     "data": {
      "text/plain": [
       "['Kolkata', 'Bangalore', 'Hyderabad', 'Jaipur']"
      ]
     },
     "execution_count": 69,
     "metadata": {},
     "output_type": "execute_result"
    }
   ],
   "source": [
    "cities"
   ]
  },
  {
   "cell_type": "code",
   "execution_count": 71,
   "id": "04bd52aa-09cf-44b8-aa41-e57f89f73177",
   "metadata": {},
   "outputs": [],
   "source": [
    "cities.remove('Jaipur')"
   ]
  },
  {
   "cell_type": "code",
   "execution_count": 72,
   "id": "f2ce2a67-c759-4a1b-8945-047993675fc9",
   "metadata": {},
   "outputs": [
    {
     "data": {
      "text/plain": [
       "['Kolkata', 'Bangalore', 'Hyderabad']"
      ]
     },
     "execution_count": 72,
     "metadata": {},
     "output_type": "execute_result"
    }
   ],
   "source": [
    "cities"
   ]
  },
  {
   "cell_type": "code",
   "execution_count": 73,
   "id": "80b513c4-8425-40cf-b708-194fd5d66957",
   "metadata": {},
   "outputs": [
    {
     "data": {
      "text/plain": [
       "1"
      ]
     },
     "execution_count": 73,
     "metadata": {},
     "output_type": "execute_result"
    }
   ],
   "source": [
    "cities.index('Bangalore')"
   ]
  },
  {
   "cell_type": "code",
   "execution_count": 74,
   "id": "dd1b87c4-0771-44e2-896f-cff25a956802",
   "metadata": {},
   "outputs": [
    {
     "data": {
      "text/plain": [
       "['Kolkata', 'Bangalore', 'Hyderabad', 'Chennai', 'Jaipur', 'Pune']"
      ]
     },
     "execution_count": 74,
     "metadata": {},
     "output_type": "execute_result"
    }
   ],
   "source": [
    "cities + ['Chennai', 'Jaipur', 'Pune']"
   ]
  },
  {
   "cell_type": "markdown",
   "id": "614711f5-e7bb-4765-8532-decd10a543be",
   "metadata": {},
   "source": [
    "### Tuples"
   ]
  },
  {
   "cell_type": "code",
   "execution_count": 78,
   "id": "912f347f-e1b9-4296-ad7c-64a967fd3904",
   "metadata": {},
   "outputs": [],
   "source": [
    "tup = (1, 2, 3)"
   ]
  },
  {
   "cell_type": "code",
   "execution_count": 93,
   "id": "6f753e2d-dffd-437c-937f-f064929d4da9",
   "metadata": {},
   "outputs": [
    {
     "data": {
      "text/plain": [
       "True"
      ]
     },
     "execution_count": 93,
     "metadata": {},
     "output_type": "execute_result"
    }
   ],
   "source": [
    "2 in tup"
   ]
  },
  {
   "cell_type": "code",
   "execution_count": 112,
   "id": "4d269ec3-31b3-4eee-b17a-66fa1c5e73d6",
   "metadata": {},
   "outputs": [
    {
     "name": "stdout",
     "output_type": "stream",
     "text": [
      "1\n",
      "2\n",
      "3\n"
     ]
    }
   ],
   "source": [
    "for i in tup:\n",
    "    print(i)"
   ]
  },
  {
   "cell_type": "code",
   "execution_count": 79,
   "id": "0de8f73a-8d11-4084-a47d-3529c0ae062b",
   "metadata": {},
   "outputs": [
    {
     "data": {
      "text/plain": [
       "tuple"
      ]
     },
     "execution_count": 79,
     "metadata": {},
     "output_type": "execute_result"
    }
   ],
   "source": [
    "type(tup)"
   ]
  },
  {
   "cell_type": "code",
   "execution_count": 80,
   "id": "41d38c6e-a7d3-4063-812f-0314ed756614",
   "metadata": {},
   "outputs": [
    {
     "data": {
      "text/plain": [
       "int"
      ]
     },
     "execution_count": 80,
     "metadata": {},
     "output_type": "execute_result"
    }
   ],
   "source": [
    "type((1))"
   ]
  },
  {
   "cell_type": "code",
   "execution_count": 81,
   "id": "f8d58a9f-d4be-4fe5-aff0-31477399950d",
   "metadata": {},
   "outputs": [
    {
     "data": {
      "text/plain": [
       "tuple"
      ]
     },
     "execution_count": 81,
     "metadata": {},
     "output_type": "execute_result"
    }
   ],
   "source": [
    "type((1,))"
   ]
  },
  {
   "cell_type": "code",
   "execution_count": 83,
   "id": "74e1f240-52ed-4d1f-957f-f3888d7b720f",
   "metadata": {},
   "outputs": [
    {
     "data": {
      "text/plain": [
       "3"
      ]
     },
     "execution_count": 83,
     "metadata": {},
     "output_type": "execute_result"
    }
   ],
   "source": [
    "len(tup)"
   ]
  },
  {
   "cell_type": "code",
   "execution_count": 84,
   "id": "7cbb3ad5-6ee4-4e80-aafd-9f521bb35234",
   "metadata": {},
   "outputs": [
    {
     "data": {
      "text/plain": [
       "2"
      ]
     },
     "execution_count": 84,
     "metadata": {},
     "output_type": "execute_result"
    }
   ],
   "source": [
    "tup[1]"
   ]
  },
  {
   "cell_type": "code",
   "execution_count": 85,
   "id": "794ca930-4ead-4845-a23c-d8129f37c146",
   "metadata": {},
   "outputs": [
    {
     "ename": "TypeError",
     "evalue": "'tuple' object does not support item assignment",
     "output_type": "error",
     "traceback": [
      "\u001b[0;31m---------------------------------------------------------------------------\u001b[0m",
      "\u001b[0;31mTypeError\u001b[0m                                 Traceback (most recent call last)",
      "Cell \u001b[0;32mIn[85], line 1\u001b[0m\n\u001b[0;32m----> 1\u001b[0m \u001b[43mtup\u001b[49m\u001b[43m[\u001b[49m\u001b[38;5;241;43m1\u001b[39;49m\u001b[43m]\u001b[49m \u001b[38;5;241m=\u001b[39m \u001b[38;5;241m2\u001b[39m\n",
      "\u001b[0;31mTypeError\u001b[0m: 'tuple' object does not support item assignment"
     ]
    }
   ],
   "source": [
    "tup[1] = 2"
   ]
  },
  {
   "cell_type": "code",
   "execution_count": 86,
   "id": "a264bf04-cf24-4cf3-bed1-313e7210c6a0",
   "metadata": {},
   "outputs": [
    {
     "data": {
      "text/plain": [
       "(3,)"
      ]
     },
     "execution_count": 86,
     "metadata": {},
     "output_type": "execute_result"
    }
   ],
   "source": [
    "tup[2:]"
   ]
  },
  {
   "cell_type": "markdown",
   "id": "9f014c66-becf-44d8-af90-e7b6adea4b23",
   "metadata": {},
   "source": [
    "### Sets"
   ]
  },
  {
   "cell_type": "code",
   "execution_count": 87,
   "id": "90eacb15-8847-4695-982d-f9ac3396d77d",
   "metadata": {},
   "outputs": [],
   "source": [
    "some_set = {1, 1, 2, 3, 4, 5, 5, 6}"
   ]
  },
  {
   "cell_type": "code",
   "execution_count": 88,
   "id": "284f34ec-5d59-42d6-86b3-90704267ce9c",
   "metadata": {},
   "outputs": [
    {
     "data": {
      "text/plain": [
       "{1, 2, 3, 4, 5, 6}"
      ]
     },
     "execution_count": 88,
     "metadata": {},
     "output_type": "execute_result"
    }
   ],
   "source": [
    "some_set"
   ]
  },
  {
   "cell_type": "code",
   "execution_count": 90,
   "id": "e5f0000a-9588-45b2-be36-a447208bf6bc",
   "metadata": {},
   "outputs": [
    {
     "data": {
      "text/plain": [
       "6"
      ]
     },
     "execution_count": 90,
     "metadata": {},
     "output_type": "execute_result"
    }
   ],
   "source": [
    "len(some_set)"
   ]
  },
  {
   "cell_type": "code",
   "execution_count": 92,
   "id": "57ddc586-bcdf-418d-9f54-ce0a65ed6994",
   "metadata": {},
   "outputs": [
    {
     "data": {
      "text/plain": [
       "True"
      ]
     },
     "execution_count": 92,
     "metadata": {},
     "output_type": "execute_result"
    }
   ],
   "source": [
    "1 in some_set"
   ]
  },
  {
   "cell_type": "code",
   "execution_count": 111,
   "id": "fa99021e-1865-4756-bc74-b6601475a53b",
   "metadata": {},
   "outputs": [
    {
     "name": "stdout",
     "output_type": "stream",
     "text": [
      "1\n",
      "2\n",
      "3\n",
      "4\n",
      "5\n",
      "6\n"
     ]
    }
   ],
   "source": [
    "for n in some_set:\n",
    "    print(n)"
   ]
  },
  {
   "cell_type": "code",
   "execution_count": 94,
   "id": "0c04ffba-207c-4d1f-92c0-712a6fd45038",
   "metadata": {},
   "outputs": [
    {
     "data": {
      "text/plain": [
       "{1, 2, 3, 4, 5, 6, 7, 8, 9}"
      ]
     },
     "execution_count": 94,
     "metadata": {},
     "output_type": "execute_result"
    }
   ],
   "source": [
    "some_set.union({7, 8, 9})"
   ]
  },
  {
   "cell_type": "code",
   "execution_count": 96,
   "id": "e9be0868-fc27-448b-828d-c84c7eede989",
   "metadata": {},
   "outputs": [
    {
     "data": {
      "text/plain": [
       "{1, 2}"
      ]
     },
     "execution_count": 96,
     "metadata": {},
     "output_type": "execute_result"
    }
   ],
   "source": [
    "some_set.intersection({1, 2})"
   ]
  },
  {
   "cell_type": "code",
   "execution_count": 97,
   "id": "158c7c3f-ad5c-4d4b-bdb0-67418df990e8",
   "metadata": {},
   "outputs": [
    {
     "data": {
      "text/plain": [
       "{3, 4, 5, 6}"
      ]
     },
     "execution_count": 97,
     "metadata": {},
     "output_type": "execute_result"
    }
   ],
   "source": [
    "some_set.difference({1, 2})"
   ]
  },
  {
   "cell_type": "markdown",
   "id": "faabc08a-e38b-460c-a496-6c9a703e1a9b",
   "metadata": {},
   "source": [
    "### Dicts"
   ]
  },
  {
   "cell_type": "code",
   "execution_count": 98,
   "id": "89594271-b8ea-4c3c-a0f7-490a4a099faf",
   "metadata": {},
   "outputs": [],
   "source": [
    "student = dict()"
   ]
  },
  {
   "cell_type": "code",
   "execution_count": 99,
   "id": "f2814fd7-d2e3-42e3-beaa-6a13f619199d",
   "metadata": {},
   "outputs": [],
   "source": [
    "student = {\n",
    "    \"name\": \"John\",\n",
    "    \"age\": 12,\n",
    "    \"grade\": \"A\"\n",
    "}"
   ]
  },
  {
   "cell_type": "code",
   "execution_count": 101,
   "id": "021405d0-5f33-492f-bc9a-e32927751011",
   "metadata": {},
   "outputs": [
    {
     "data": {
      "text/plain": [
       "'John'"
      ]
     },
     "execution_count": 101,
     "metadata": {},
     "output_type": "execute_result"
    }
   ],
   "source": [
    "student['name']"
   ]
  },
  {
   "cell_type": "code",
   "execution_count": 104,
   "id": "05f8ad8a-5ea2-4e03-8672-4e199c018f0d",
   "metadata": {},
   "outputs": [
    {
     "data": {
      "text/plain": [
       "'John'"
      ]
     },
     "execution_count": 104,
     "metadata": {},
     "output_type": "execute_result"
    }
   ],
   "source": [
    "student.get('name')"
   ]
  },
  {
   "cell_type": "code",
   "execution_count": 102,
   "id": "a77f4e87-178b-42b2-b0c6-adf73a8f31d1",
   "metadata": {},
   "outputs": [
    {
     "data": {
      "text/plain": [
       "['name', 'age', 'grade']"
      ]
     },
     "execution_count": 102,
     "metadata": {},
     "output_type": "execute_result"
    }
   ],
   "source": [
    "list(student.keys())"
   ]
  },
  {
   "cell_type": "code",
   "execution_count": 103,
   "id": "fead6938-34e8-4d47-93b1-c1c3f883eb6b",
   "metadata": {},
   "outputs": [
    {
     "data": {
      "text/plain": [
       "['John', 12, 'A']"
      ]
     },
     "execution_count": 103,
     "metadata": {},
     "output_type": "execute_result"
    }
   ],
   "source": [
    "list(student.values())"
   ]
  },
  {
   "cell_type": "code",
   "execution_count": 105,
   "id": "d6050699-5911-4e17-8c45-588bd3113469",
   "metadata": {},
   "outputs": [
    {
     "name": "stdout",
     "output_type": "stream",
     "text": [
      "John\n",
      "12\n",
      "A\n"
     ]
    }
   ],
   "source": [
    "for key in student:\n",
    "    print(student[key])"
   ]
  },
  {
   "cell_type": "code",
   "execution_count": 107,
   "id": "2049ac29-e3c6-4570-bb50-4db86f282484",
   "metadata": {},
   "outputs": [],
   "source": [
    "student['name'] = 'Paul'"
   ]
  },
  {
   "cell_type": "code",
   "execution_count": 108,
   "id": "e1c4c524-ff8e-4f72-b260-69493a8b1a99",
   "metadata": {},
   "outputs": [
    {
     "data": {
      "text/plain": [
       "{'name': 'Paul', 'age': 12, 'grade': 'A'}"
      ]
     },
     "execution_count": 108,
     "metadata": {},
     "output_type": "execute_result"
    }
   ],
   "source": [
    "student"
   ]
  },
  {
   "cell_type": "code",
   "execution_count": 109,
   "id": "4642affd-6b55-421e-beff-f1d7dc47046b",
   "metadata": {},
   "outputs": [],
   "source": [
    "del student['age']"
   ]
  },
  {
   "cell_type": "code",
   "execution_count": 110,
   "id": "43c203ab-b4eb-4f90-804b-2ea734b5458b",
   "metadata": {},
   "outputs": [
    {
     "data": {
      "text/plain": [
       "{'name': 'Paul', 'grade': 'A'}"
      ]
     },
     "execution_count": 110,
     "metadata": {},
     "output_type": "execute_result"
    }
   ],
   "source": [
    "student"
   ]
  },
  {
   "cell_type": "code",
   "execution_count": null,
   "id": "8b7821db-7384-4ac1-bbbd-c3f21312e21d",
   "metadata": {},
   "outputs": [],
   "source": []
  }
 ],
 "metadata": {
  "kernelspec": {
   "display_name": "Python 3 (ipykernel)",
   "language": "python",
   "name": "python3"
  },
  "language_info": {
   "codemirror_mode": {
    "name": "ipython",
    "version": 3
   },
   "file_extension": ".py",
   "mimetype": "text/x-python",
   "name": "python",
   "nbconvert_exporter": "python",
   "pygments_lexer": "ipython3",
   "version": "3.8.16"
  }
 },
 "nbformat": 4,
 "nbformat_minor": 5
}
