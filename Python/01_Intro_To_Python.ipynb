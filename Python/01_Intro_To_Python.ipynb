{
 "cells": [
  {
   "cell_type": "markdown",
   "id": "5c615aed-fe49-4002-9fa2-4da7a3a35d75",
   "metadata": {},
   "source": [
    "### Simple Statements"
   ]
  },
  {
   "cell_type": "code",
   "execution_count": 1,
   "id": "4ccf73c9-b1d9-421d-a331-7b46702ec943",
   "metadata": {},
   "outputs": [
    {
     "name": "stdout",
     "output_type": "stream",
     "text": [
      "Hello, World\n"
     ]
    }
   ],
   "source": [
    "print('Hello, World')"
   ]
  },
  {
   "cell_type": "code",
   "execution_count": 2,
   "id": "cd7ac460-4356-40a3-9402-ccb8348a007c",
   "metadata": {},
   "outputs": [
    {
     "name": "stdout",
     "output_type": "stream",
     "text": [
      "Hello, my name is Saurav\n"
     ]
    }
   ],
   "source": [
    "print('Hello, my name is Saurav')"
   ]
  },
  {
   "cell_type": "code",
   "execution_count": 3,
   "id": "6afb9b3d-c3a1-401d-91ba-e592074d3dab",
   "metadata": {},
   "outputs": [
    {
     "name": "stdout",
     "output_type": "stream",
     "text": [
      "This is Saurav's Computer\n"
     ]
    }
   ],
   "source": [
    "print('This is Saurav\\'s Computer')"
   ]
  },
  {
   "cell_type": "markdown",
   "id": "8e09a1d7-6b58-415a-ba4a-091a437d6426",
   "metadata": {},
   "source": [
    "### Math In Python"
   ]
  },
  {
   "cell_type": "code",
   "execution_count": 4,
   "id": "b7bd829f-1d82-4e27-9a9a-eed9333a89fa",
   "metadata": {},
   "outputs": [
    {
     "data": {
      "text/plain": [
       "42"
      ]
     },
     "execution_count": 4,
     "metadata": {},
     "output_type": "execute_result"
    }
   ],
   "source": [
    "40 + 2"
   ]
  },
  {
   "cell_type": "code",
   "execution_count": 5,
   "id": "80d29822-8252-4cd4-a849-18aa2b4bbf35",
   "metadata": {},
   "outputs": [
    {
     "data": {
      "text/plain": [
       "42"
      ]
     },
     "execution_count": 5,
     "metadata": {},
     "output_type": "execute_result"
    }
   ],
   "source": [
    "43 - 1"
   ]
  },
  {
   "cell_type": "code",
   "execution_count": 6,
   "id": "24b3a76f-e50e-498f-a07e-a0b79682afb3",
   "metadata": {},
   "outputs": [
    {
     "data": {
      "text/plain": [
       "42"
      ]
     },
     "execution_count": 6,
     "metadata": {},
     "output_type": "execute_result"
    }
   ],
   "source": [
    "6 * 7"
   ]
  },
  {
   "cell_type": "code",
   "execution_count": 7,
   "id": "f52fd5b9-88f6-47f7-a6bf-4869624c2740",
   "metadata": {},
   "outputs": [
    {
     "data": {
      "text/plain": [
       "42.0"
      ]
     },
     "execution_count": 7,
     "metadata": {},
     "output_type": "execute_result"
    }
   ],
   "source": [
    "84 / 2"
   ]
  },
  {
   "cell_type": "code",
   "execution_count": 8,
   "id": "71dba294-b157-4d45-a442-cea4070b40be",
   "metadata": {},
   "outputs": [
    {
     "data": {
      "text/plain": [
       "42"
      ]
     },
     "execution_count": 8,
     "metadata": {},
     "output_type": "execute_result"
    }
   ],
   "source": [
    "84 // 2"
   ]
  },
  {
   "cell_type": "code",
   "execution_count": 9,
   "id": "66121001-1bd2-478e-883f-647ede6dd2e5",
   "metadata": {},
   "outputs": [
    {
     "data": {
      "text/plain": [
       "3.0300000000000002"
      ]
     },
     "execution_count": 9,
     "metadata": {},
     "output_type": "execute_result"
    }
   ],
   "source": [
    "1.01 + 2.02"
   ]
  },
  {
   "cell_type": "code",
   "execution_count": 10,
   "id": "eafdf8eb-0ca7-452a-9488-c198d0798997",
   "metadata": {},
   "outputs": [
    {
     "data": {
      "text/plain": [
       "4"
      ]
     },
     "execution_count": 10,
     "metadata": {},
     "output_type": "execute_result"
    }
   ],
   "source": [
    "2 ** 2"
   ]
  },
  {
   "cell_type": "code",
   "execution_count": 11,
   "id": "81dbde16-3fad-4ded-ae40-3e8bbfbd0290",
   "metadata": {},
   "outputs": [
    {
     "data": {
      "text/plain": [
       "1"
      ]
     },
     "execution_count": 11,
     "metadata": {},
     "output_type": "execute_result"
    }
   ],
   "source": [
    "3 % 2"
   ]
  },
  {
   "cell_type": "code",
   "execution_count": 12,
   "id": "43a77c43-4fcf-4cff-b2af-3c09b37d320c",
   "metadata": {},
   "outputs": [
    {
     "data": {
      "text/plain": [
       "25"
      ]
     },
     "execution_count": 12,
     "metadata": {},
     "output_type": "execute_result"
    }
   ],
   "source": [
    "(3 + 2) * 5"
   ]
  },
  {
   "cell_type": "code",
   "execution_count": 13,
   "id": "b04137c2-7494-48fd-996a-ebcfb54796da",
   "metadata": {},
   "outputs": [
    {
     "data": {
      "text/plain": [
       "13"
      ]
     },
     "execution_count": 13,
     "metadata": {},
     "output_type": "execute_result"
    }
   ],
   "source": [
    "3 + 2 * 5"
   ]
  },
  {
   "cell_type": "markdown",
   "id": "138fab81-e844-41fb-a2fd-c591f474734c",
   "metadata": {},
   "source": [
    "### Types In Python"
   ]
  },
  {
   "cell_type": "code",
   "execution_count": 14,
   "id": "29777fdf-4ccc-4a4f-a511-2922e1544ad2",
   "metadata": {},
   "outputs": [
    {
     "data": {
      "text/plain": [
       "int"
      ]
     },
     "execution_count": 14,
     "metadata": {},
     "output_type": "execute_result"
    }
   ],
   "source": [
    "type(1)"
   ]
  },
  {
   "cell_type": "code",
   "execution_count": 15,
   "id": "db66de35-0300-404e-bf17-a1b56094b9a8",
   "metadata": {},
   "outputs": [
    {
     "data": {
      "text/plain": [
       "float"
      ]
     },
     "execution_count": 15,
     "metadata": {},
     "output_type": "execute_result"
    }
   ],
   "source": [
    "type(1.0)"
   ]
  },
  {
   "cell_type": "code",
   "execution_count": 16,
   "id": "ba681da2-2414-4078-adc8-4b538729c4e7",
   "metadata": {},
   "outputs": [
    {
     "data": {
      "text/plain": [
       "str"
      ]
     },
     "execution_count": 16,
     "metadata": {},
     "output_type": "execute_result"
    }
   ],
   "source": [
    "type('saurav')"
   ]
  },
  {
   "cell_type": "markdown",
   "id": "546c5154-8b03-4002-bb62-5c271609e959",
   "metadata": {},
   "source": [
    "### Variables"
   ]
  },
  {
   "cell_type": "code",
   "execution_count": 17,
   "id": "617df0d8-e5e2-40ae-a439-698b2728def2",
   "metadata": {},
   "outputs": [],
   "source": [
    "a = 22"
   ]
  },
  {
   "cell_type": "code",
   "execution_count": 18,
   "id": "b84553e4-343a-48fd-8725-0b549a89269b",
   "metadata": {},
   "outputs": [],
   "source": [
    "name = 'saurav'"
   ]
  },
  {
   "cell_type": "code",
   "execution_count": 19,
   "id": "a6a3bbd7-5a9e-4f63-8896-da4141d5ff8b",
   "metadata": {},
   "outputs": [
    {
     "name": "stdout",
     "output_type": "stream",
     "text": [
      "saurav\n"
     ]
    }
   ],
   "source": [
    "print(name)"
   ]
  },
  {
   "cell_type": "markdown",
   "id": "3a344a65-c096-4708-beca-e5c2cda4fd4e",
   "metadata": {},
   "source": [
    "### Expressions"
   ]
  },
  {
   "cell_type": "code",
   "execution_count": 20,
   "id": "555a4354-e225-4cb1-a78a-a6be94a2a7da",
   "metadata": {},
   "outputs": [],
   "source": [
    "age = 25"
   ]
  },
  {
   "cell_type": "code",
   "execution_count": 21,
   "id": "debcf77e-377f-4aa7-9720-c95ac840f0d6",
   "metadata": {},
   "outputs": [],
   "source": [
    "age_10_yr = age + 10"
   ]
  },
  {
   "cell_type": "code",
   "execution_count": 22,
   "id": "b63fa874-2e51-4f81-af38-7897bb6e93d0",
   "metadata": {},
   "outputs": [
    {
     "name": "stdout",
     "output_type": "stream",
     "text": [
      "35\n"
     ]
    }
   ],
   "source": [
    "print(age_10_yr)"
   ]
  },
  {
   "cell_type": "markdown",
   "id": "2c277529-c9c7-40cd-bbcd-231a7a99f648",
   "metadata": {},
   "source": [
    "### Strings"
   ]
  },
  {
   "cell_type": "code",
   "execution_count": 23,
   "id": "4bdb6b4c-8dbb-45e7-ba27-c5ec553109ce",
   "metadata": {},
   "outputs": [],
   "source": [
    "text = 'I am using python.'"
   ]
  },
  {
   "cell_type": "code",
   "execution_count": 24,
   "id": "9b631c45-b19e-4741-b60b-ad76b17df579",
   "metadata": {},
   "outputs": [
    {
     "data": {
      "text/plain": [
       "'I am using python. I love it'"
      ]
     },
     "execution_count": 24,
     "metadata": {},
     "output_type": "execute_result"
    }
   ],
   "source": [
    "text + ' I love it'"
   ]
  },
  {
   "cell_type": "code",
   "execution_count": 25,
   "id": "d40c73fa-e938-4d1f-8fdf-d6481d2066a6",
   "metadata": {},
   "outputs": [
    {
     "data": {
      "text/plain": [
       "'I am using python.I am using python.I am using python.'"
      ]
     },
     "execution_count": 25,
     "metadata": {},
     "output_type": "execute_result"
    }
   ],
   "source": [
    "text * 3"
   ]
  },
  {
   "cell_type": "code",
   "execution_count": 26,
   "id": "3638d10e-e89a-4487-a26b-f90c9f19f236",
   "metadata": {},
   "outputs": [
    {
     "data": {
      "text/plain": [
       "18"
      ]
     },
     "execution_count": 26,
     "metadata": {},
     "output_type": "execute_result"
    }
   ],
   "source": [
    "len(text)"
   ]
  },
  {
   "cell_type": "code",
   "execution_count": 27,
   "id": "e786afc2-59c4-442d-9a0b-cd71543860eb",
   "metadata": {},
   "outputs": [
    {
     "data": {
      "text/plain": [
       "'I'"
      ]
     },
     "execution_count": 27,
     "metadata": {},
     "output_type": "execute_result"
    }
   ],
   "source": [
    "text[0]"
   ]
  },
  {
   "cell_type": "markdown",
   "id": "774f6d21-bbff-480f-b801-762664febc40",
   "metadata": {},
   "source": [
    "### Comments"
   ]
  },
  {
   "cell_type": "code",
   "execution_count": 28,
   "id": "462ce347-a2fc-460e-b51d-7314600e9679",
   "metadata": {},
   "outputs": [],
   "source": [
    "# You can leave comments in code"
   ]
  },
  {
   "cell_type": "code",
   "execution_count": 29,
   "id": "22f77b63-8ee5-4174-b487-7c4075b23ac5",
   "metadata": {},
   "outputs": [
    {
     "data": {
      "text/plain": [
       "'\\n    This is an example of a multi line comment. \\n    You can have multiple lines of comments together.\\n'"
      ]
     },
     "execution_count": 29,
     "metadata": {},
     "output_type": "execute_result"
    }
   ],
   "source": [
    "\"\"\"\n",
    "    This is an example of a multi line comment. \n",
    "    You can have multiple lines of comments together.\n",
    "\"\"\""
   ]
  },
  {
   "cell_type": "markdown",
   "id": "9c88ab34-0e41-4ca0-8212-52c1148993b6",
   "metadata": {},
   "source": [
    "### Booleans"
   ]
  },
  {
   "cell_type": "code",
   "execution_count": 30,
   "id": "d6508532-3d7c-4049-bce0-6d3ede11794b",
   "metadata": {},
   "outputs": [
    {
     "data": {
      "text/plain": [
       "False"
      ]
     },
     "execution_count": 30,
     "metadata": {},
     "output_type": "execute_result"
    }
   ],
   "source": [
    "1 > 2"
   ]
  },
  {
   "cell_type": "code",
   "execution_count": 31,
   "id": "d8e274f4-73f3-401c-b49a-353b388545c2",
   "metadata": {},
   "outputs": [
    {
     "data": {
      "text/plain": [
       "False"
      ]
     },
     "execution_count": 31,
     "metadata": {},
     "output_type": "execute_result"
    }
   ],
   "source": [
    "2 < 1"
   ]
  },
  {
   "cell_type": "code",
   "execution_count": 32,
   "id": "6d8f7c3f-7582-4f32-83a6-050de5d5bd06",
   "metadata": {},
   "outputs": [
    {
     "data": {
      "text/plain": [
       "True"
      ]
     },
     "execution_count": 32,
     "metadata": {},
     "output_type": "execute_result"
    }
   ],
   "source": [
    "2 <= 2"
   ]
  },
  {
   "cell_type": "code",
   "execution_count": 33,
   "id": "05324e04-8328-4242-a525-bb741a02da8b",
   "metadata": {},
   "outputs": [
    {
     "data": {
      "text/plain": [
       "True"
      ]
     },
     "execution_count": 33,
     "metadata": {},
     "output_type": "execute_result"
    }
   ],
   "source": [
    "2 != 1"
   ]
  },
  {
   "cell_type": "code",
   "execution_count": 34,
   "id": "43c884eb-abbe-46da-84d9-317628de9d81",
   "metadata": {},
   "outputs": [
    {
     "data": {
      "text/plain": [
       "False"
      ]
     },
     "execution_count": 34,
     "metadata": {},
     "output_type": "execute_result"
    }
   ],
   "source": [
    "not True"
   ]
  },
  {
   "cell_type": "markdown",
   "id": "cc4655ac-c783-474b-b69a-801644fdd6c2",
   "metadata": {},
   "source": [
    "### Logical Operations"
   ]
  },
  {
   "cell_type": "code",
   "execution_count": 35,
   "id": "cb8b1139-264f-46cb-b0a1-7cd36f5a7233",
   "metadata": {},
   "outputs": [
    {
     "data": {
      "text/plain": [
       "True"
      ]
     },
     "execution_count": 35,
     "metadata": {},
     "output_type": "execute_result"
    }
   ],
   "source": [
    "True and True"
   ]
  },
  {
   "cell_type": "code",
   "execution_count": 36,
   "id": "cf37aac4-4e8d-45b3-bbbe-1b5fef176c1e",
   "metadata": {},
   "outputs": [
    {
     "data": {
      "text/plain": [
       "False"
      ]
     },
     "execution_count": 36,
     "metadata": {},
     "output_type": "execute_result"
    }
   ],
   "source": [
    "True and False"
   ]
  },
  {
   "cell_type": "code",
   "execution_count": 37,
   "id": "9805cb09-f0d5-4966-958f-6d80045fe295",
   "metadata": {},
   "outputs": [
    {
     "data": {
      "text/plain": [
       "True"
      ]
     },
     "execution_count": 37,
     "metadata": {},
     "output_type": "execute_result"
    }
   ],
   "source": [
    "True or False"
   ]
  },
  {
   "cell_type": "code",
   "execution_count": 38,
   "id": "5ba793e2-59ea-4e67-8d05-fb2171e74240",
   "metadata": {},
   "outputs": [
    {
     "data": {
      "text/plain": [
       "False"
      ]
     },
     "execution_count": 38,
     "metadata": {},
     "output_type": "execute_result"
    }
   ],
   "source": [
    "False or False"
   ]
  },
  {
   "cell_type": "markdown",
   "id": "8ff807a4-2822-4e61-ab62-b6906040d090",
   "metadata": {},
   "source": [
    "### Type Casting"
   ]
  },
  {
   "cell_type": "code",
   "execution_count": 39,
   "id": "defe8ebd-64e5-4342-8aca-e05cd50f3e5b",
   "metadata": {},
   "outputs": [
    {
     "data": {
      "text/plain": [
       "1"
      ]
     },
     "execution_count": 39,
     "metadata": {},
     "output_type": "execute_result"
    }
   ],
   "source": [
    "int('1')"
   ]
  },
  {
   "cell_type": "code",
   "execution_count": 40,
   "id": "be10ea8c-e110-478f-a669-b3be62941575",
   "metadata": {},
   "outputs": [
    {
     "data": {
      "text/plain": [
       "1.0"
      ]
     },
     "execution_count": 40,
     "metadata": {},
     "output_type": "execute_result"
    }
   ],
   "source": [
    "float(1)"
   ]
  },
  {
   "cell_type": "code",
   "execution_count": 41,
   "id": "b8bdf7b7-ecd8-4044-bc0a-2c12c384108c",
   "metadata": {},
   "outputs": [
    {
     "data": {
      "text/plain": [
       "True"
      ]
     },
     "execution_count": 41,
     "metadata": {},
     "output_type": "execute_result"
    }
   ],
   "source": [
    "bool(1)"
   ]
  },
  {
   "cell_type": "code",
   "execution_count": 42,
   "id": "063cdefc-ae19-4a07-9b19-e84469905ea7",
   "metadata": {},
   "outputs": [
    {
     "data": {
      "text/plain": [
       "False"
      ]
     },
     "execution_count": 42,
     "metadata": {},
     "output_type": "execute_result"
    }
   ],
   "source": [
    "bool(0)"
   ]
  },
  {
   "cell_type": "code",
   "execution_count": 43,
   "id": "c88004cc-8b08-4da6-aee1-5c115c1c0d16",
   "metadata": {},
   "outputs": [
    {
     "data": {
      "text/plain": [
       "'1'"
      ]
     },
     "execution_count": 43,
     "metadata": {},
     "output_type": "execute_result"
    }
   ],
   "source": [
    "str(1)"
   ]
  },
  {
   "cell_type": "code",
   "execution_count": 44,
   "id": "f5c68bba-f3bd-404f-8ae1-1d50646b919a",
   "metadata": {},
   "outputs": [
    {
     "data": {
      "text/plain": [
       "'the number is 1'"
      ]
     },
     "execution_count": 44,
     "metadata": {},
     "output_type": "execute_result"
    }
   ],
   "source": [
    "'the number is ' + str(1)"
   ]
  },
  {
   "cell_type": "markdown",
   "id": "49a229b9-56c2-4122-881e-798a201dec23",
   "metadata": {},
   "source": [
    "### String Formatting"
   ]
  },
  {
   "cell_type": "code",
   "execution_count": 45,
   "id": "92a0d456-0936-460b-9c42-e5173572c86b",
   "metadata": {},
   "outputs": [
    {
     "data": {
      "text/plain": [
       "'I live in Kolkata.'"
      ]
     },
     "execution_count": 45,
     "metadata": {},
     "output_type": "execute_result"
    }
   ],
   "source": [
    "'I live in {}.'.format('Kolkata')"
   ]
  },
  {
   "cell_type": "code",
   "execution_count": 46,
   "id": "47bc0f2f-6786-4510-a08c-5a393eed9e81",
   "metadata": {},
   "outputs": [],
   "source": [
    "city = 'Kolkata'"
   ]
  },
  {
   "cell_type": "code",
   "execution_count": 47,
   "id": "5152ff72-ea0b-4861-b0a0-19650d6f75ec",
   "metadata": {},
   "outputs": [
    {
     "data": {
      "text/plain": [
       "'I live in Kolkata.'"
      ]
     },
     "execution_count": 47,
     "metadata": {},
     "output_type": "execute_result"
    }
   ],
   "source": [
    "'I live in {}.'.format(city)"
   ]
  },
  {
   "cell_type": "code",
   "execution_count": 48,
   "id": "840a4b4f-c30f-44cb-9338-5644a6ad0624",
   "metadata": {},
   "outputs": [
    {
     "data": {
      "text/plain": [
       "'I live in Kolkata.'"
      ]
     },
     "execution_count": 48,
     "metadata": {},
     "output_type": "execute_result"
    }
   ],
   "source": [
    "'I live in ' + city + '.'"
   ]
  },
  {
   "cell_type": "markdown",
   "id": "6386e95a-fe5d-4414-9874-714ee92df86b",
   "metadata": {},
   "source": [
    "### Taking Inputs"
   ]
  },
  {
   "cell_type": "code",
   "execution_count": 50,
   "id": "113317c5-52e7-4002-bc91-f779ac72a0c4",
   "metadata": {},
   "outputs": [],
   "source": [
    "# use the code editor for this"
   ]
  },
  {
   "cell_type": "markdown",
   "id": "d8b8704a-726a-4f23-a295-da07a3f5533e",
   "metadata": {},
   "source": [
    "### If / Else Statements"
   ]
  },
  {
   "cell_type": "code",
   "execution_count": 51,
   "id": "de796ace-b89c-4062-bc79-1fdc98c12340",
   "metadata": {},
   "outputs": [],
   "source": [
    "age = 20"
   ]
  },
  {
   "cell_type": "code",
   "execution_count": 52,
   "id": "539b488e-55ae-4495-801b-26ea854a4188",
   "metadata": {},
   "outputs": [
    {
     "name": "stdout",
     "output_type": "stream",
     "text": [
      "You are an adult\n"
     ]
    }
   ],
   "source": [
    "if age >= 18:\n",
    "    print('You are an adult')\n",
    "else:\n",
    "    print('You are not an adult')"
   ]
  },
  {
   "cell_type": "code",
   "execution_count": 53,
   "id": "47c559b2-1a5d-41c5-8510-f9193d41b1fb",
   "metadata": {},
   "outputs": [
    {
     "name": "stdout",
     "output_type": "stream",
     "text": [
      "I love that\n"
     ]
    }
   ],
   "source": [
    "food = 'pizza'\n",
    "if food == 'burger':\n",
    "    print('I like that')\n",
    "elif food == 'pizza':\n",
    "    print('I love that')\n",
    "else:\n",
    "    print('I don\\'t like that')"
   ]
  },
  {
   "cell_type": "code",
   "execution_count": 2,
   "id": "aa7af253-f9f0-4265-88f6-128da15cc82e",
   "metadata": {},
   "outputs": [
    {
     "name": "stdout",
     "output_type": "stream",
     "text": [
      "I love it\n"
     ]
    }
   ],
   "source": [
    "food = 'pizza'\n",
    "topping = 'cheese'\n",
    "if food == 'pizza':\n",
    "    if topping == 'cheese':\n",
    "        print('I love it')\n",
    "    else:\n",
    "        print('I dont love the topping')\n",
    "else:\n",
    "    print('I dont love the food')"
   ]
  },
  {
   "cell_type": "code",
   "execution_count": 54,
   "id": "fb26a5f6-31e4-4cb7-89c5-da702bbc93b7",
   "metadata": {},
   "outputs": [],
   "source": [
    "cities = 'Kolkata, Bangalore, Mumbai, Chennai'"
   ]
  },
  {
   "cell_type": "code",
   "execution_count": 55,
   "id": "48098fc8-1382-4b89-8c0e-3fb80142cefc",
   "metadata": {},
   "outputs": [
    {
     "name": "stdout",
     "output_type": "stream",
     "text": [
      "Yes\n"
     ]
    }
   ],
   "source": [
    "if 'Kolkata' in cities:\n",
    "    print('Yes')"
   ]
  },
  {
   "cell_type": "markdown",
   "id": "a66e67f8-b6d1-46f0-83de-03c0f80c8833",
   "metadata": {},
   "source": [
    "### For Loops"
   ]
  },
  {
   "cell_type": "code",
   "execution_count": 56,
   "id": "9476fa4b-d05b-43c5-8fb4-6e0ab3587338",
   "metadata": {},
   "outputs": [
    {
     "name": "stdout",
     "output_type": "stream",
     "text": [
      "0\n",
      "1\n",
      "2\n",
      "3\n",
      "4\n"
     ]
    }
   ],
   "source": [
    "for i in range(5):\n",
    "    print(i)"
   ]
  },
  {
   "cell_type": "code",
   "execution_count": 57,
   "id": "42311740-0714-4ad0-9bab-0448016c46ce",
   "metadata": {},
   "outputs": [
    {
     "name": "stdout",
     "output_type": "stream",
     "text": [
      "1\n",
      "2\n",
      "3\n",
      "4\n",
      "5\n"
     ]
    }
   ],
   "source": [
    "for i in range(1,6):\n",
    "    print(i)"
   ]
  },
  {
   "cell_type": "code",
   "execution_count": 58,
   "id": "7a745154-a6c5-4b99-897a-c2f9c152056e",
   "metadata": {},
   "outputs": [],
   "source": [
    "text = 'I am learning Python'"
   ]
  },
  {
   "cell_type": "code",
   "execution_count": 59,
   "id": "5c7e486d-db17-4fcb-b4c5-b1e7f9b4acc1",
   "metadata": {},
   "outputs": [
    {
     "name": "stdout",
     "output_type": "stream",
     "text": [
      "I\n",
      " \n",
      "a\n",
      "m\n",
      " \n",
      "l\n",
      "e\n",
      "a\n",
      "r\n",
      "n\n",
      "i\n",
      "n\n",
      "g\n",
      " \n",
      "P\n",
      "y\n",
      "t\n",
      "h\n",
      "o\n",
      "n\n"
     ]
    }
   ],
   "source": [
    "for c in text:\n",
    "    print(c)"
   ]
  },
  {
   "cell_type": "markdown",
   "id": "b25c94d4-8c03-4c26-a1a2-2fed19235fcb",
   "metadata": {},
   "source": [
    "### While Loop"
   ]
  },
  {
   "cell_type": "code",
   "execution_count": 60,
   "id": "286a7813-e642-419c-87f2-92439e92f306",
   "metadata": {},
   "outputs": [
    {
     "name": "stdout",
     "output_type": "stream",
     "text": [
      "0\n",
      "1\n",
      "2\n",
      "3\n",
      "4\n"
     ]
    }
   ],
   "source": [
    "i = 0\n",
    "while i < 5:\n",
    "    print(i)\n",
    "    i = i +1"
   ]
  },
  {
   "cell_type": "code",
   "execution_count": 62,
   "id": "4d5459bd-99c0-40a0-a4aa-0ab212ef73b2",
   "metadata": {},
   "outputs": [
    {
     "name": "stdout",
     "output_type": "stream",
     "text": [
      "I\n",
      " \n",
      "a\n",
      "m\n",
      " \n",
      "l\n",
      "e\n",
      "a\n",
      "r\n",
      "n\n",
      "i\n",
      "n\n",
      "g\n",
      " \n",
      "P\n",
      "y\n",
      "t\n",
      "h\n",
      "o\n",
      "n\n"
     ]
    }
   ],
   "source": [
    "text = 'I am learning Python'\n",
    "j = 0\n",
    "while j < len(text):\n",
    "    print(text[j])\n",
    "    j = j + 1"
   ]
  },
  {
   "cell_type": "markdown",
   "id": "f835b21e-d765-4751-b2c4-ab122afeb3ee",
   "metadata": {},
   "source": [
    "### Break & Continue"
   ]
  },
  {
   "cell_type": "code",
   "execution_count": 3,
   "id": "ac2143e9-bd25-465a-a6b2-9d9a7737249e",
   "metadata": {},
   "outputs": [
    {
     "name": "stdout",
     "output_type": "stream",
     "text": [
      "I\n",
      " \n",
      "m\n",
      " \n",
      "l\n",
      "e\n",
      "r\n",
      "n\n",
      "i\n",
      "n\n",
      "g\n",
      " \n",
      "P\n",
      "y\n",
      "t\n",
      "h\n"
     ]
    }
   ],
   "source": [
    "text = 'I am learning Python'\n",
    "j = 0\n",
    "while j < len(text):\n",
    "    if text[j] == 'a':\n",
    "        j = j + 1\n",
    "        continue\n",
    "    if text[j] == 'o':\n",
    "        break\n",
    "    \n",
    "    print(text[j])\n",
    "    j = j + 1"
   ]
  },
  {
   "cell_type": "code",
   "execution_count": null,
   "id": "15ef0c60-170e-4cde-b1c0-0cd4534e44b9",
   "metadata": {},
   "outputs": [],
   "source": []
  }
 ],
 "metadata": {
  "kernelspec": {
   "display_name": "Python 3 (ipykernel)",
   "language": "python",
   "name": "python3"
  },
  "language_info": {
   "codemirror_mode": {
    "name": "ipython",
    "version": 3
   },
   "file_extension": ".py",
   "mimetype": "text/x-python",
   "name": "python",
   "nbconvert_exporter": "python",
   "pygments_lexer": "ipython3",
   "version": "3.8.16"
  }
 },
 "nbformat": 4,
 "nbformat_minor": 5
}
