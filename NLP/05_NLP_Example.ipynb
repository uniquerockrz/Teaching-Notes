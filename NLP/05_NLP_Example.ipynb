{
 "cells": [
  {
   "cell_type": "code",
   "execution_count": 13,
   "id": "1089c53e-85d1-4112-b6dd-c6c1ca6fea9b",
   "metadata": {},
   "outputs": [],
   "source": [
    "from sentence_transformers import SentenceTransformer, util\n",
    "from transformers import pipeline"
   ]
  },
  {
   "cell_type": "markdown",
   "id": "3e8fa575-c395-4dde-bb4a-5edd50201917",
   "metadata": {},
   "source": [
    "### Vectorizing Sentences"
   ]
  },
  {
   "cell_type": "code",
   "execution_count": 2,
   "id": "ac2af13a-35a4-4864-b265-e0ca86d9e45f",
   "metadata": {},
   "outputs": [],
   "source": [
    "model = SentenceTransformer('all-MiniLM-L6-v2')"
   ]
  },
  {
   "cell_type": "code",
   "execution_count": 4,
   "id": "961664f6-3a17-4a58-88c1-cf0d21bafe9f",
   "metadata": {},
   "outputs": [
    {
     "data": {
      "text/plain": [
       "array([ 3.45676602e-03, -1.91000011e-02,  5.86551502e-02, -9.63218044e-03,\n",
       "        6.08638711e-02,  3.79803404e-03,  6.73312396e-02,  3.24859507e-02,\n",
       "        6.68662861e-02,  6.60145730e-02, -2.31421590e-02, -3.50490510e-02,\n",
       "       -4.55491766e-02,  8.81254449e-02,  1.72850043e-02,  7.66821429e-02,\n",
       "       -7.37398043e-02,  4.43506762e-02, -3.22165005e-02, -3.21099907e-02,\n",
       "       -5.51065840e-02,  1.08279273e-01,  1.68212689e-02, -7.93265700e-02,\n",
       "        1.74275693e-02,  4.37984653e-02, -3.27889621e-02, -3.71682569e-02,\n",
       "        2.25870535e-02, -3.24320011e-02, -3.80629525e-02,  4.58278209e-02,\n",
       "        3.80485356e-02,  7.31964111e-02, -6.04659989e-02,  2.20493041e-02,\n",
       "        2.88322605e-02,  1.60849672e-02,  5.09422049e-02,  4.82737795e-02,\n",
       "       -3.20035703e-02, -2.74517909e-02, -1.71955694e-02,  2.07176544e-02,\n",
       "        2.45474167e-02,  2.29512174e-02, -3.04011628e-02,  4.36681248e-02,\n",
       "        4.85298559e-02,  6.14521420e-03, -1.44977132e-02, -1.65237151e-02,\n",
       "        1.83046907e-02,  7.15813637e-02,  2.62339110e-03,  3.06520760e-02,\n",
       "        1.45533448e-02,  2.69975304e-03, -1.10513847e-02, -8.68538246e-02,\n",
       "        8.52177106e-03,  4.53649163e-02, -4.76113670e-02, -5.40177990e-03,\n",
       "       -3.94272472e-04, -1.91020742e-02, -1.74004752e-02,  6.97042495e-02,\n",
       "       -3.20279412e-02,  9.03779715e-02, -4.66284715e-02,  6.83168173e-02,\n",
       "        2.74343835e-03,  8.69712383e-02,  2.53119003e-02,  4.06048037e-02,\n",
       "        6.86701480e-03, -6.12866729e-02,  5.01751229e-02, -5.95602244e-02,\n",
       "        4.73360308e-02, -3.33127240e-03,  2.82930918e-02,  4.20514756e-04,\n",
       "        2.15266850e-02, -7.88954347e-02,  6.42650109e-03, -1.99115220e-02,\n",
       "       -1.75603982e-02, -5.03435433e-02, -4.45784107e-02, -7.12478533e-02,\n",
       "        1.72344912e-02, -4.92331907e-02, -8.35305974e-02,  3.81923281e-02,\n",
       "       -1.38501339e-02, -7.20181689e-02, -4.40402254e-02,  1.21390864e-01,\n",
       "        4.88016084e-02,  1.48025276e-02,  2.31968164e-02, -4.00732122e-02,\n",
       "       -1.26965821e-01, -2.12861667e-03, -6.04944341e-02,  5.01806056e-03,\n",
       "        6.06919266e-02, -5.67157604e-02, -5.27889933e-03,  3.72115001e-02,\n",
       "       -2.66248751e-02,  3.58413234e-02,  8.29953477e-02, -4.32527252e-02,\n",
       "        5.67273842e-03,  1.31240049e-02,  1.15869485e-01,  4.27176580e-02,\n",
       "       -4.62249927e-02,  7.06903338e-02, -5.81625961e-02,  7.22742826e-02,\n",
       "       -5.24119064e-02, -6.66883737e-02,  9.13579240e-02, -4.42641545e-33,\n",
       "        6.66011497e-02, -2.82398076e-03, -1.39169367e-02,  1.02706524e-02,\n",
       "       -8.22876487e-03, -2.51332647e-03, -3.71096842e-03,  1.56855211e-02,\n",
       "       -9.50272158e-02, -2.72627100e-02,  5.71713364e-03, -2.01014169e-02,\n",
       "       -2.13161577e-02,  3.03607099e-02,  1.20529579e-02, -1.92824495e-03,\n",
       "       -1.07009374e-01,  5.98327592e-02, -2.20904928e-02,  2.66149361e-02,\n",
       "       -2.58802380e-02,  1.50832022e-02,  4.63125855e-02,  2.39222739e-02,\n",
       "       -5.03427461e-02, -2.01816531e-03, -2.32272483e-02, -1.38619617e-01,\n",
       "        1.58462021e-02,  1.82498656e-02,  1.56830214e-02,  3.46986987e-02,\n",
       "       -1.29613802e-01,  9.07487888e-03, -2.66675148e-02, -5.79891838e-02,\n",
       "        5.43776480e-03, -6.46903291e-02, -9.74142738e-03, -3.25313546e-02,\n",
       "       -4.08284329e-02,  4.76480275e-02, -4.17267438e-03,  2.91471113e-03,\n",
       "        5.73187210e-02,  8.47861320e-02, -8.77660736e-02, -6.61176676e-03,\n",
       "        3.43022309e-02, -4.31150794e-02,  6.30107671e-02, -1.70353912e-02,\n",
       "       -2.20994791e-03, -5.03148464e-03,  1.16812766e-01, -2.82826554e-02,\n",
       "        2.32412368e-02, -5.85088134e-02,  6.53733462e-02,  5.37793934e-02,\n",
       "       -8.88722576e-03,  2.25146972e-02, -1.44548584e-02,  1.68712507e-03,\n",
       "       -4.93482985e-02, -6.86671771e-03, -2.55026226e-03, -2.01104507e-02,\n",
       "        9.69111249e-02, -7.45999441e-02, -3.96810472e-02, -4.79361741e-03,\n",
       "       -1.38082625e-02,  2.51167081e-02,  2.91080922e-02, -2.16866508e-02,\n",
       "        8.23547319e-02, -5.51567860e-02,  1.47296619e-02,  5.22710495e-02,\n",
       "       -9.77167953e-03, -8.82338360e-02, -1.47312116e-02, -1.04028389e-01,\n",
       "        2.83788294e-02, -7.21221641e-02, -2.20188908e-02, -8.07072818e-02,\n",
       "        7.02332407e-02,  3.14165652e-02,  3.63349007e-03,  8.66417028e-03,\n",
       "       -1.64342821e-02, -7.67675752e-04, -4.53471392e-02,  3.38783276e-33,\n",
       "       -1.57511625e-02,  1.21692773e-02, -5.49419709e-02,  4.74504046e-02,\n",
       "       -5.38587980e-02, -5.06456159e-02, -4.03203554e-02,  1.31593889e-03,\n",
       "        5.05508520e-02,  8.67753327e-02,  4.73394804e-02, -9.73922014e-02,\n",
       "       -1.97227579e-02,  1.98257137e-02,  7.98681155e-02, -8.06954950e-02,\n",
       "        5.16433902e-02,  1.05997473e-01, -2.21074373e-02,  1.07172832e-01,\n",
       "        9.43011232e-03,  4.31637242e-02, -1.19397074e-01,  9.51140895e-02,\n",
       "        3.73078138e-02,  1.54048539e-04, -1.29413453e-03, -1.37176551e-02,\n",
       "       -5.14277890e-02, -2.13893317e-02,  6.99380878e-03,  2.72638444e-02,\n",
       "       -8.49113241e-02, -6.22942112e-02, -5.82055002e-02, -5.16625009e-02,\n",
       "       -2.98064947e-02,  1.37047973e-02, -9.20747593e-03,  3.20558436e-02,\n",
       "        6.82634711e-02,  8.47297013e-02, -1.76592767e-02,  1.68171152e-02,\n",
       "       -2.48729642e-02, -4.63266671e-02, -5.54591678e-02, -1.36967106e-02,\n",
       "        4.76560974e-03,  6.24093041e-02, -5.20076044e-02, -3.44709344e-02,\n",
       "       -6.15894757e-02, -1.02014288e-01, -6.89152442e-03,  4.05597407e-03,\n",
       "        9.92238000e-02, -6.42152354e-02, -9.63110104e-02, -3.29336114e-02,\n",
       "       -1.22035317e-01,  1.16003051e-01,  3.58045995e-02,  5.07477596e-02,\n",
       "        9.24772620e-02, -7.74176195e-02, -2.29021702e-02, -4.80844006e-02,\n",
       "       -7.06303939e-02, -6.40420243e-02,  3.86504456e-03,  6.05464019e-02,\n",
       "       -3.23924646e-02,  4.86549176e-02, -7.38137588e-03, -3.89472991e-02,\n",
       "        3.62828188e-02,  6.37470884e-03, -5.17501757e-02, -4.10980731e-02,\n",
       "        1.29662594e-02,  1.25765512e-02,  1.84491184e-02,  4.51489724e-02,\n",
       "       -1.69620588e-02,  5.53480461e-02,  1.27809579e-02,  5.32142408e-02,\n",
       "        4.18397002e-02,  1.51205680e-03,  1.28039438e-02,  4.76445295e-02,\n",
       "        5.76288532e-03, -1.94816887e-02,  6.85653985e-02, -1.52802020e-08,\n",
       "       -1.14400685e-01,  2.12670062e-02,  3.40501196e-03, -9.98419430e-03,\n",
       "       -1.23204524e-02, -7.81425089e-03,  1.99629320e-03, -6.89344853e-02,\n",
       "       -2.87526799e-03, -8.01876709e-02,  1.18721150e-01,  6.41606450e-02,\n",
       "       -1.02656083e-02,  2.26555746e-02,  9.99249816e-02, -6.65792078e-02,\n",
       "        1.11502863e-01, -6.90238876e-03, -2.31887982e-03,  5.32344496e-03,\n",
       "        1.15801729e-02,  6.40824363e-02, -6.30152524e-02,  7.65293837e-02,\n",
       "       -2.29925681e-02, -1.26097212e-02, -4.65561263e-02,  1.58126075e-02,\n",
       "        3.89384106e-02, -4.75292057e-02,  3.58062983e-02,  1.19318955e-01,\n",
       "       -4.25661951e-02,  3.96796875e-02,  4.97487523e-02,  1.25349946e-02,\n",
       "        5.52929565e-02, -1.06849328e-01, -2.93083303e-02, -4.29596864e-02,\n",
       "        5.51436679e-04,  9.66370031e-02,  1.68393832e-04, -5.43377921e-02,\n",
       "        2.94612572e-02, -1.16192671e-02,  2.48478223e-02, -1.13837518e-01,\n",
       "        1.89184919e-02, -3.62485833e-02,  1.04102516e-03, -5.96089959e-02,\n",
       "        5.85980788e-02,  7.65286386e-02,  1.04110718e-01,  1.51975220e-02,\n",
       "       -3.61522548e-02, -3.90618038e-03, -5.10935448e-02,  1.33267511e-02,\n",
       "        4.02498581e-02,  4.20599841e-02,  2.65866797e-02, -1.31931938e-02],\n",
       "      dtype=float32)"
      ]
     },
     "execution_count": 4,
     "metadata": {},
     "output_type": "execute_result"
    }
   ],
   "source": [
    "model.encode('I love doing NLP')"
   ]
  },
  {
   "cell_type": "code",
   "execution_count": 5,
   "id": "4efa6db4-a514-4ede-aee3-624afee7cee9",
   "metadata": {},
   "outputs": [
    {
     "data": {
      "text/plain": [
       "384"
      ]
     },
     "execution_count": 5,
     "metadata": {},
     "output_type": "execute_result"
    }
   ],
   "source": [
    "len(model.encode('I love doing NLP'))"
   ]
  },
  {
   "cell_type": "markdown",
   "id": "1ba4736f-7250-4dcf-ae14-a459f11e0310",
   "metadata": {},
   "source": [
    "### Similarities"
   ]
  },
  {
   "cell_type": "code",
   "execution_count": 7,
   "id": "4c13bb16-0e79-4374-b153-6caf48757ac1",
   "metadata": {},
   "outputs": [],
   "source": [
    "cosine_scores = util.cos_sim(model.encode('I love doing NLP'), model.encode('I love doing NLP'))"
   ]
  },
  {
   "cell_type": "code",
   "execution_count": 8,
   "id": "71a29a11-7e07-41fa-961b-b95077109df0",
   "metadata": {},
   "outputs": [
    {
     "data": {
      "text/plain": [
       "tensor([[1.0000]])"
      ]
     },
     "execution_count": 8,
     "metadata": {},
     "output_type": "execute_result"
    }
   ],
   "source": [
    "cosine_scores"
   ]
  },
  {
   "cell_type": "code",
   "execution_count": 11,
   "id": "c2904351-5d16-4de8-8e87-d83798d479ac",
   "metadata": {},
   "outputs": [],
   "source": [
    "cosine_scores = util.cos_sim(model.encode('The cat sits outside'), model.encode('The cat is layind down'))"
   ]
  },
  {
   "cell_type": "code",
   "execution_count": 12,
   "id": "012e0aaf-defc-4e11-aa79-e5ed80d3c145",
   "metadata": {},
   "outputs": [
    {
     "data": {
      "text/plain": [
       "tensor([[0.6641]])"
      ]
     },
     "execution_count": 12,
     "metadata": {},
     "output_type": "execute_result"
    }
   ],
   "source": [
    "cosine_scores"
   ]
  },
  {
   "cell_type": "markdown",
   "id": "b08ac1a5-5117-45b0-af21-91cbcb2383af",
   "metadata": {},
   "source": [
    "### Sentiment Analysis"
   ]
  },
  {
   "cell_type": "code",
   "execution_count": 14,
   "id": "9f7157b2-e068-4958-abb9-cdf8c952eca6",
   "metadata": {},
   "outputs": [
    {
     "name": "stderr",
     "output_type": "stream",
     "text": [
      "No model was supplied, defaulted to distilbert-base-uncased-finetuned-sst-2-english and revision af0f99b (https://huggingface.co/distilbert-base-uncased-finetuned-sst-2-english).\n",
      "Using a pipeline without specifying a model name and revision in production is not recommended.\n",
      "Downloading (…)lve/main/config.json: 100%|██████████| 629/629 [00:00<00:00, 2.29MB/s]\n",
      "Downloading model.safetensors: 100%|██████████| 268M/268M [00:17<00:00, 15.0MB/s] \n",
      "Downloading (…)okenizer_config.json: 100%|██████████| 48.0/48.0 [00:00<00:00, 242kB/s]\n",
      "Downloading (…)solve/main/vocab.txt: 100%|██████████| 232k/232k [00:00<00:00, 522kB/s]\n"
     ]
    },
    {
     "name": "stdout",
     "output_type": "stream",
     "text": [
      "[{'label': 'POSITIVE', 'score': 0.9995759129524231}, {'label': 'NEGATIVE', 'score': 0.9903519749641418}]\n"
     ]
    }
   ],
   "source": [
    "text_classification_pipeline = pipeline(\"text-classification\")\n",
    "\n",
    "inputs = [\"I love how amazingly simple ML has become!\",\n",
    "          \"I hate doing mundane and thankless tasks. ☹️\"]\n",
    "\n",
    "results = text_classification_pipeline(inputs)\n",
    "print(results)"
   ]
  },
  {
   "cell_type": "markdown",
   "id": "59023546-18ee-407c-9481-c225e473acfe",
   "metadata": {},
   "source": [
    "### Specific Model"
   ]
  },
  {
   "cell_type": "code",
   "execution_count": 15,
   "id": "8423bea0-ff2e-45e8-8b3c-86fff28c363e",
   "metadata": {},
   "outputs": [
    {
     "name": "stderr",
     "output_type": "stream",
     "text": [
      "Downloading (…)lve/main/config.json: 100%|██████████| 758/758 [00:00<00:00, 2.45MB/s]\n",
      "Downloading pytorch_model.bin: 100%|██████████| 438M/438M [00:29<00:00, 15.0MB/s] \n",
      "Downloading (…)okenizer_config.json: 100%|██████████| 252/252 [00:00<00:00, 1.03MB/s]\n",
      "Downloading (…)solve/main/vocab.txt: 100%|██████████| 232k/232k [00:00<00:00, 560kB/s]\n",
      "Downloading (…)cial_tokens_map.json: 100%|██████████| 112/112 [00:00<00:00, 387kB/s]\n"
     ]
    },
    {
     "data": {
      "text/plain": [
       "[{'label': 'positive', 'score': 0.898361325263977},\n",
       " {'label': 'neutral', 'score': 0.8062635064125061}]"
      ]
     },
     "execution_count": 15,
     "metadata": {},
     "output_type": "execute_result"
    }
   ],
   "source": [
    "pipe = pipeline(task=\"text-classification\", model=\"ProsusAI/finbert\")\n",
    "pipe([\"Stocks rallied and the British pound gained.\",\"Stocks making the biggest moves midday: Nvidia, Palantir and more\"])"
   ]
  },
  {
   "cell_type": "markdown",
   "id": "3e5279c5-9b19-4ed5-8aef-eb9e39dfb030",
   "metadata": {},
   "source": [
    "### Question Pairs"
   ]
  },
  {
   "cell_type": "code",
   "execution_count": 16,
   "id": "d536a32b-93d9-421b-b3ce-79b6ca2047f2",
   "metadata": {},
   "outputs": [
    {
     "name": "stderr",
     "output_type": "stream",
     "text": [
      "Downloading (…)lve/main/config.json: 100%|██████████| 475/475 [00:00<00:00, 2.30MB/s]\n",
      "Downloading pytorch_model.bin: 100%|██████████| 438M/438M [00:30<00:00, 14.3MB/s] \n",
      "Downloading (…)okenizer_config.json: 100%|██████████| 48.0/48.0 [00:00<00:00, 185kB/s]\n",
      "Downloading (…)solve/main/vocab.txt: 100%|██████████| 232k/232k [00:00<00:00, 561kB/s]\n",
      "Downloading (…)cial_tokens_map.json: 100%|██████████| 112/112 [00:00<00:00, 431kB/s]\n"
     ]
    },
    {
     "data": {
      "text/plain": [
       "[{'label': 'LABEL_0', 'score': 0.9988721013069153}]"
      ]
     },
     "execution_count": 16,
     "metadata": {},
     "output_type": "execute_result"
    }
   ],
   "source": [
    "pipe = pipeline(\"text-classification\", model =\"textattack/bert-base-uncased-QQP\")\n",
    "pipe(\"Which city is the capital of France?, Where is the capital of France?\")"
   ]
  },
  {
   "cell_type": "markdown",
   "id": "3cac2618-690a-4e3e-82de-fae77f59b247",
   "metadata": {},
   "source": [
    "### Zero Shot Classification"
   ]
  },
  {
   "cell_type": "code",
   "execution_count": 17,
   "id": "87d72ddb-fce5-449d-8f18-eff18500b780",
   "metadata": {},
   "outputs": [
    {
     "name": "stderr",
     "output_type": "stream",
     "text": [
      "Downloading (…)lve/main/config.json: 100%|██████████| 1.15k/1.15k [00:00<00:00, 1.92MB/s]\n",
      "Downloading model.safetensors: 100%|██████████| 1.63G/1.63G [01:48<00:00, 15.1MB/s]\n",
      "Downloading (…)okenizer_config.json: 100%|██████████| 26.0/26.0 [00:00<00:00, 55.0kB/s]\n",
      "Downloading (…)olve/main/vocab.json: 100%|██████████| 899k/899k [00:00<00:00, 1.00MB/s]\n",
      "Downloading (…)olve/main/merges.txt: 100%|██████████| 456k/456k [00:00<00:00, 3.42MB/s]\n",
      "Downloading (…)/main/tokenizer.json: 100%|██████████| 1.36M/1.36M [00:00<00:00, 1.46MB/s]\n"
     ]
    },
    {
     "data": {
      "text/plain": [
       "{'sequence': 'I have a problem with my iphone that needs to be resolved asap!!',\n",
       " 'labels': ['urgent', 'phone', 'computer', 'not urgent', 'tablet'],\n",
       " 'scores': [0.998576283454895,\n",
       "  0.9949977993965149,\n",
       "  0.13497847318649292,\n",
       "  0.0006789048784412444,\n",
       "  0.00041479969513602555]}"
      ]
     },
     "execution_count": 17,
     "metadata": {},
     "output_type": "execute_result"
    }
   ],
   "source": [
    "classifier = pipeline(task=\"zero-shot-classification\",model=\"facebook/bart-large-mnli\")\n",
    "text_to_classify= \"I have a problem with my iphone that needs to be resolved asap!!\"\n",
    "candidate_labels=[\"urgent\", \"not urgent\", \"phone\", \"tablet\", \"computer\"]\n",
    "classifier(text_to_classify, candidate_labels, multi_label=True)"
   ]
  },
  {
   "cell_type": "markdown",
   "id": "81af8961-6f78-4575-af70-080197561d96",
   "metadata": {},
   "source": [
    "### Named Entity Recognition"
   ]
  },
  {
   "cell_type": "code",
   "execution_count": 18,
   "id": "e98a9636-93e7-44dd-96e3-6fcc8ce06c74",
   "metadata": {},
   "outputs": [
    {
     "name": "stderr",
     "output_type": "stream",
     "text": [
      "No model was supplied, defaulted to dbmdz/bert-large-cased-finetuned-conll03-english and revision f2482bf (https://huggingface.co/dbmdz/bert-large-cased-finetuned-conll03-english).\n",
      "Using a pipeline without specifying a model name and revision in production is not recommended.\n",
      "Downloading (…)lve/main/config.json: 100%|██████████| 998/998 [00:00<00:00, 3.12MB/s]\n",
      "Downloading model.safetensors: 100%|██████████| 1.33G/1.33G [01:27<00:00, 15.2MB/s]\n",
      "Some weights of the model checkpoint at dbmdz/bert-large-cased-finetuned-conll03-english were not used when initializing BertForTokenClassification: ['bert.pooler.dense.weight', 'bert.pooler.dense.bias']\n",
      "- This IS expected if you are initializing BertForTokenClassification from the checkpoint of a model trained on another task or with another architecture (e.g. initializing a BertForSequenceClassification model from a BertForPreTraining model).\n",
      "- This IS NOT expected if you are initializing BertForTokenClassification from the checkpoint of a model that you expect to be exactly identical (initializing a BertForSequenceClassification model from a BertForSequenceClassification model).\n",
      "Downloading (…)okenizer_config.json: 100%|██████████| 60.0/60.0 [00:00<00:00, 74.1kB/s]\n",
      "Downloading (…)solve/main/vocab.txt: 100%|██████████| 213k/213k [00:00<00:00, 15.4MB/s]\n"
     ]
    },
    {
     "data": {
      "text/plain": [
       "[{'entity': 'I-PER',\n",
       "  'score': 0.9974554,\n",
       "  'index': 3,\n",
       "  'word': 'John',\n",
       "  'start': 5,\n",
       "  'end': 9},\n",
       " {'entity': 'I-LOC',\n",
       "  'score': 0.9992238,\n",
       "  'index': 8,\n",
       "  'word': 'New',\n",
       "  'start': 24,\n",
       "  'end': 27},\n",
       " {'entity': 'I-LOC',\n",
       "  'score': 0.99931407,\n",
       "  'index': 9,\n",
       "  'word': 'York',\n",
       "  'start': 28,\n",
       "  'end': 32},\n",
       " {'entity': 'I-LOC',\n",
       "  'score': 0.99942446,\n",
       "  'index': 10,\n",
       "  'word': 'City',\n",
       "  'start': 33,\n",
       "  'end': 37}]"
      ]
     },
     "execution_count": 18,
     "metadata": {},
     "output_type": "execute_result"
    }
   ],
   "source": [
    "pipe = pipeline(task=\"token-classification\")\n",
    "pipe(\"I am John and I live in New York City.\")"
   ]
  },
  {
   "cell_type": "markdown",
   "id": "ebd6a0ee-5670-4166-bf05-24a9979125e4",
   "metadata": {},
   "source": [
    "### POS Tags"
   ]
  },
  {
   "cell_type": "code",
   "execution_count": 19,
   "id": "8bdc030a-7a5a-4851-98be-0fe302f6e5f7",
   "metadata": {},
   "outputs": [
    {
     "name": "stderr",
     "output_type": "stream",
     "text": [
      "Downloading (…)lve/main/config.json: 100%|██████████| 1.06k/1.06k [00:00<00:00, 3.29MB/s]\n",
      "Downloading pytorch_model.bin: 100%|██████████| 438M/438M [00:29<00:00, 14.7MB/s] \n",
      "Some weights of the model checkpoint at vblagoje/bert-english-uncased-finetuned-pos were not used when initializing BertForTokenClassification: ['bert.pooler.dense.weight', 'bert.pooler.dense.bias']\n",
      "- This IS expected if you are initializing BertForTokenClassification from the checkpoint of a model trained on another task or with another architecture (e.g. initializing a BertForSequenceClassification model from a BertForPreTraining model).\n",
      "- This IS NOT expected if you are initializing BertForTokenClassification from the checkpoint of a model that you expect to be exactly identical (initializing a BertForSequenceClassification model from a BertForSequenceClassification model).\n",
      "Downloading (…)okenizer_config.json: 100%|██████████| 48.0/48.0 [00:00<00:00, 220kB/s]\n",
      "Downloading (…)solve/main/vocab.txt: 100%|██████████| 232k/232k [00:00<00:00, 7.40MB/s]\n",
      "Downloading (…)cial_tokens_map.json: 100%|██████████| 112/112 [00:00<00:00, 427kB/s]\n"
     ]
    },
    {
     "data": {
      "text/plain": [
       "[{'entity': 'PRON',\n",
       "  'score': 0.99950683,\n",
       "  'index': 1,\n",
       "  'word': 'i',\n",
       "  'start': 0,\n",
       "  'end': 1},\n",
       " {'entity': 'AUX',\n",
       "  'score': 0.99707437,\n",
       "  'index': 2,\n",
       "  'word': 'am',\n",
       "  'start': 2,\n",
       "  'end': 4},\n",
       " {'entity': 'PROPN',\n",
       "  'score': 0.9988508,\n",
       "  'index': 3,\n",
       "  'word': 'george',\n",
       "  'start': 5,\n",
       "  'end': 11},\n",
       " {'entity': 'CCONJ',\n",
       "  'score': 0.99917895,\n",
       "  'index': 4,\n",
       "  'word': 'and',\n",
       "  'start': 12,\n",
       "  'end': 15},\n",
       " {'entity': 'PRON',\n",
       "  'score': 0.99950755,\n",
       "  'index': 5,\n",
       "  'word': 'i',\n",
       "  'start': 16,\n",
       "  'end': 17},\n",
       " {'entity': 'VERB',\n",
       "  'score': 0.99875176,\n",
       "  'index': 6,\n",
       "  'word': 'live',\n",
       "  'start': 18,\n",
       "  'end': 22},\n",
       " {'entity': 'ADP',\n",
       "  'score': 0.99939656,\n",
       "  'index': 7,\n",
       "  'word': 'in',\n",
       "  'start': 23,\n",
       "  'end': 25},\n",
       " {'entity': 'PROPN',\n",
       "  'score': 0.99888057,\n",
       "  'index': 8,\n",
       "  'word': 'phoenix',\n",
       "  'start': 26,\n",
       "  'end': 33},\n",
       " {'entity': 'PUNCT',\n",
       "  'score': 0.9996618,\n",
       "  'index': 9,\n",
       "  'word': '.',\n",
       "  'start': 33,\n",
       "  'end': 34}]"
      ]
     },
     "execution_count": 19,
     "metadata": {},
     "output_type": "execute_result"
    }
   ],
   "source": [
    "pipe = pipeline(task=\"token-classification\", model=\"vblagoje/bert-english-uncased-finetuned-pos\")\n",
    "pipe(\"I am George and I live in Phoenix.\")"
   ]
  },
  {
   "cell_type": "markdown",
   "id": "637eb2c3-a048-4454-a676-50e4855c4cbc",
   "metadata": {},
   "source": [
    "### Translation"
   ]
  },
  {
   "cell_type": "code",
   "execution_count": 20,
   "id": "edc89da7-a5d9-49a6-bffc-23b9c3c65777",
   "metadata": {},
   "outputs": [
    {
     "name": "stderr",
     "output_type": "stream",
     "text": [
      "No model was supplied, defaulted to t5-base and revision 686f1db (https://huggingface.co/t5-base).\n",
      "Using a pipeline without specifying a model name and revision in production is not recommended.\n",
      "Downloading (…)lve/main/config.json: 100%|██████████| 1.21k/1.21k [00:00<00:00, 6.16MB/s]\n",
      "Downloading model.safetensors: 100%|██████████| 892M/892M [00:58<00:00, 15.3MB/s] \n",
      "Downloading (…)neration_config.json: 100%|██████████| 147/147 [00:00<00:00, 216kB/s]\n",
      "Downloading (…)ve/main/spiece.model: 100%|██████████| 792k/792k [00:00<00:00, 19.6MB/s]\n",
      "Downloading (…)/main/tokenizer.json: 100%|██████████| 1.39M/1.39M [00:00<00:00, 7.78MB/s]\n",
      "/Users/srvmdk/Work/SKF/Teaching-Notes/.venv/lib/python3.11/site-packages/transformers/models/t5/tokenization_t5_fast.py:158: FutureWarning: This tokenizer was incorrectly instantiated with a model max length of 512 which will be corrected in Transformers v5.\n",
      "For now, this behavior is kept to avoid breaking backwards compatibility when padding/encoding with `truncation is True`.\n",
      "- Be aware that you SHOULD NOT rely on t5-base automatically truncating your input to 512 when padding/encoding.\n",
      "- If you want to encode/pad to sequences longer than 512 you can either instantiate this tokenizer with `model_max_length` or pass `max_length` when encoding/padding.\n",
      "- To avoid this warning, please instantiate this tokenizer with `model_max_length` set to your preferred value.\n",
      "  warnings.warn(\n"
     ]
    },
    {
     "data": {
      "text/plain": [
       "[{'translation_text': 'Comment êtes-vous?'}]"
      ]
     },
     "execution_count": 20,
     "metadata": {},
     "output_type": "execute_result"
    }
   ],
   "source": [
    "pipe = pipeline(task=\"translation_en_to_fr\")\n",
    "pipe(\"How are you?\")"
   ]
  },
  {
   "cell_type": "markdown",
   "id": "1e1b23bd-286a-4afb-8d57-882c58c9d982",
   "metadata": {},
   "source": [
    "### Summarization"
   ]
  },
  {
   "cell_type": "code",
   "execution_count": 21,
   "id": "88bd7756-c260-45c6-af51-f5deeb659cfd",
   "metadata": {},
   "outputs": [
    {
     "name": "stderr",
     "output_type": "stream",
     "text": [
      "No model was supplied, defaulted to sshleifer/distilbart-cnn-12-6 and revision a4f8f3e (https://huggingface.co/sshleifer/distilbart-cnn-12-6).\n",
      "Using a pipeline without specifying a model name and revision in production is not recommended.\n"
     ]
    },
    {
     "name": "stdout",
     "output_type": "stream",
     "text": [
      "348\n"
     ]
    },
    {
     "name": "stderr",
     "output_type": "stream",
     "text": [
      "Downloading (…)lve/main/config.json: 100%|██████████| 1.80k/1.80k [00:00<00:00, 4.23MB/s]\n",
      "Downloading pytorch_model.bin: 100%|██████████| 1.22G/1.22G [01:19<00:00, 15.5MB/s]\n",
      "Downloading (…)okenizer_config.json: 100%|██████████| 26.0/26.0 [00:00<00:00, 157kB/s]\n",
      "Downloading (…)olve/main/vocab.json: 100%|██████████| 899k/899k [00:00<00:00, 981kB/s]\n",
      "Downloading (…)olve/main/merges.txt: 100%|██████████| 456k/456k [00:00<00:00, 7.58MB/s]\n"
     ]
    },
    {
     "data": {
      "text/plain": [
       "[{'summary_text': ' The unanimous Declaration of the thirteen united States of America . The Declaration of Independence declared that all men are created equal, that they are endowed by their Creator with certain unalienable Rights, that among these are Life, Liberty and the pursuit of Happiness . The U.S. Constitution was established in 17th Amendment of 18th Amendment to First Amendment to the Constitution .'}]"
      ]
     },
     "execution_count": 21,
     "metadata": {},
     "output_type": "execute_result"
    }
   ],
   "source": [
    "document = \"\"\"\n",
    "The unanimous Declaration of the thirteen united States of America, When in the Course of human events, it becomes necessary for one people to dissolve the political bands which have connected them with another, and to assume among the powers of the earth, the separate and equal station to which the Laws of Nature and of Nature's God entitle them, a decent respect to the opinions of mankind requires that they should declare the causes which impel them to the separation.\n",
    "\n",
    "We hold these truths to be self-evident, that all men are created equal, that they are endowed by their Creator with certain unalienable Rights, that among these are Life, Liberty and the pursuit of Happiness.--That to secure these rights, Governments are instituted among Men, deriving their just powers from the consent of the governed, --That whenever any Form of Government becomes destructive of these ends, it is the Right of the People to alter or to abolish it, and to institute new Government, laying its foundation on such principles and organizing its powers in such form, as to them shall seem most likely to effect their Safety and Happiness. Prudence, indeed, will dictate that Governments long established should not be changed for light and transient causes; and accordingly all experience hath shewn, that mankind are more disposed to suffer, while evils are sufferable, than to right themselves by abolishing the forms to which they are accustomed. But when a long train of abuses and usurpations, pursuing invariably the same Object evinces a design to reduce them under absolute Despotism, it is their right, it is their duty, to throw off such Government, and to provide new Guards for their future security.--Such has been the patient sufferance of these Colonies; and such is now the necessity which constrains them to alter their former Systems of Government. The history of the present King of Great Britain is a history of repeated injuries and usurpations, all having in direct object the establishment of an absolute Tyranny over these States. To prove this, let Facts be submitted to a candid world.\n",
    "\"\"\"\n",
    "print(len(document.split())) #print the length of the document\n",
    "pipe = pipeline(task=\"summarization\")\n",
    "pipe(document)"
   ]
  },
  {
   "cell_type": "markdown",
   "id": "bcb6d0e9-3222-427f-9ea5-5b99eb8f231a",
   "metadata": {},
   "source": [
    "### Question Answering"
   ]
  },
  {
   "cell_type": "code",
   "execution_count": 22,
   "id": "847a28d2-4300-4b04-946a-aee5774c023a",
   "metadata": {},
   "outputs": [
    {
     "name": "stderr",
     "output_type": "stream",
     "text": [
      "No model was supplied, defaulted to distilbert-base-cased-distilled-squad and revision 626af31 (https://huggingface.co/distilbert-base-cased-distilled-squad).\n",
      "Using a pipeline without specifying a model name and revision in production is not recommended.\n",
      "Downloading (…)lve/main/config.json: 100%|██████████| 473/473 [00:00<00:00, 1.26MB/s]\n",
      "Downloading model.safetensors: 100%|██████████| 261M/261M [00:17<00:00, 15.2MB/s] \n",
      "Downloading (…)okenizer_config.json: 100%|██████████| 29.0/29.0 [00:00<00:00, 87.6kB/s]\n",
      "Downloading (…)solve/main/vocab.txt: 100%|██████████| 213k/213k [00:00<00:00, 77.1MB/s]\n",
      "Downloading (…)/main/tokenizer.json: 100%|██████████| 436k/436k [00:00<00:00, 17.0MB/s]\n"
     ]
    },
    {
     "data": {
      "text/plain": [
       "{'score': 0.9538118243217468, 'start': 31, 'end': 39, 'answer': 'İstanbul'}"
      ]
     },
     "execution_count": 22,
     "metadata": {},
     "output_type": "execute_result"
    }
   ],
   "source": [
    "qa_model = pipeline(\"question-answering\")\n",
    "question = \"Where do I live?\"\n",
    "context = \"My name is Merve and I live in İstanbul.\"\n",
    "qa_model(question = question, context = context)"
   ]
  },
  {
   "cell_type": "code",
   "execution_count": null,
   "id": "6b41f832-6c92-4cd4-91d2-031f730abbf6",
   "metadata": {},
   "outputs": [],
   "source": []
  }
 ],
 "metadata": {
  "kernelspec": {
   "display_name": "Python 3 (ipykernel)",
   "language": "python",
   "name": "python3"
  },
  "language_info": {
   "codemirror_mode": {
    "name": "ipython",
    "version": 3
   },
   "file_extension": ".py",
   "mimetype": "text/x-python",
   "name": "python",
   "nbconvert_exporter": "python",
   "pygments_lexer": "ipython3",
   "version": "3.11.5"
  }
 },
 "nbformat": 4,
 "nbformat_minor": 5
}
