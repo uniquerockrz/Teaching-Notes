{
 "cells": [
  {
   "cell_type": "code",
   "execution_count": 1,
   "id": "166a87a3-e83c-44f8-b8b4-dfb3fd05e23c",
   "metadata": {},
   "outputs": [
    {
     "name": "stderr",
     "output_type": "stream",
     "text": [
      "/Users/srvmdk/Work/SKF/Teaching-Notes/.venv/lib/python3.11/site-packages/tqdm/auto.py:21: TqdmWarning: IProgress not found. Please update jupyter and ipywidgets. See https://ipywidgets.readthedocs.io/en/stable/user_install.html\n",
      "  from .autonotebook import tqdm as notebook_tqdm\n"
     ]
    }
   ],
   "source": [
    "import pandas as pd\n",
    "import numpy as np\n",
    "from datasets import load_dataset\n",
    "from sklearn.preprocessing import OneHotEncoder\n",
    "from sklearn.feature_extraction.text import TfidfVectorizer\n",
    "from sklearn.ensemble import RandomForestClassifier\n",
    "from sklearn.naive_bayes import MultinomialNB"
   ]
  },
  {
   "cell_type": "markdown",
   "id": "63f6bee4-2532-4975-a74f-fa71615a4c3e",
   "metadata": {},
   "source": [
    "### Load the dataset, you need to login to your huggingface account for this"
   ]
  },
  {
   "cell_type": "code",
   "execution_count": 3,
   "id": "60ec273d-53c8-4ee8-8e10-414c6d4d0f63",
   "metadata": {},
   "outputs": [],
   "source": [
    "dataset = load_dataset('datadrivenscience/movie-genre-prediction')"
   ]
  },
  {
   "cell_type": "code",
   "execution_count": 4,
   "id": "91a5f752-d1f0-4d52-9365-4f377e1de524",
   "metadata": {},
   "outputs": [
    {
     "data": {
      "text/plain": [
       "DatasetDict({\n",
       "    train: Dataset({\n",
       "        features: ['id', 'movie_name', 'synopsis', 'genre'],\n",
       "        num_rows: 54000\n",
       "    })\n",
       "    test: Dataset({\n",
       "        features: ['id', 'movie_name', 'synopsis', 'genre'],\n",
       "        num_rows: 36000\n",
       "    })\n",
       "})"
      ]
     },
     "execution_count": 4,
     "metadata": {},
     "output_type": "execute_result"
    }
   ],
   "source": [
    "dataset"
   ]
  },
  {
   "cell_type": "code",
   "execution_count": 5,
   "id": "1fe6422e-b1f2-49e3-b3a1-bdfd7b97ef94",
   "metadata": {},
   "outputs": [
    {
     "data": {
      "text/plain": [
       "Dataset({\n",
       "    features: ['id', 'movie_name', 'synopsis', 'genre'],\n",
       "    num_rows: 54000\n",
       "})"
      ]
     },
     "execution_count": 5,
     "metadata": {},
     "output_type": "execute_result"
    }
   ],
   "source": [
    "dataset['train']"
   ]
  },
  {
   "cell_type": "markdown",
   "id": "0cf0d10a-16dd-4977-a311-796904e4a801",
   "metadata": {},
   "source": [
    "### Convert To Dataframe"
   ]
  },
  {
   "cell_type": "code",
   "execution_count": 6,
   "id": "0dddf926-5d15-4c52-85b6-816d94167099",
   "metadata": {},
   "outputs": [],
   "source": [
    "df_train_all = pd.DataFrame(dataset['train'])"
   ]
  },
  {
   "cell_type": "code",
   "execution_count": 7,
   "id": "3439b808-3c81-4a1b-9db9-9531296887de",
   "metadata": {},
   "outputs": [
    {
     "data": {
      "text/html": [
       "<div>\n",
       "<style scoped>\n",
       "    .dataframe tbody tr th:only-of-type {\n",
       "        vertical-align: middle;\n",
       "    }\n",
       "\n",
       "    .dataframe tbody tr th {\n",
       "        vertical-align: top;\n",
       "    }\n",
       "\n",
       "    .dataframe thead th {\n",
       "        text-align: right;\n",
       "    }\n",
       "</style>\n",
       "<table border=\"1\" class=\"dataframe\">\n",
       "  <thead>\n",
       "    <tr style=\"text-align: right;\">\n",
       "      <th></th>\n",
       "      <th>id</th>\n",
       "      <th>movie_name</th>\n",
       "      <th>synopsis</th>\n",
       "      <th>genre</th>\n",
       "    </tr>\n",
       "  </thead>\n",
       "  <tbody>\n",
       "    <tr>\n",
       "      <th>0</th>\n",
       "      <td>44978</td>\n",
       "      <td>Super Me</td>\n",
       "      <td>A young scriptwriter starts bringing valuable ...</td>\n",
       "      <td>fantasy</td>\n",
       "    </tr>\n",
       "    <tr>\n",
       "      <th>1</th>\n",
       "      <td>50185</td>\n",
       "      <td>Entity Project</td>\n",
       "      <td>A director and her friends renting a haunted h...</td>\n",
       "      <td>horror</td>\n",
       "    </tr>\n",
       "    <tr>\n",
       "      <th>2</th>\n",
       "      <td>34131</td>\n",
       "      <td>Behavioral Family Therapy for Serious Psychiat...</td>\n",
       "      <td>This is an educational video for families and ...</td>\n",
       "      <td>family</td>\n",
       "    </tr>\n",
       "    <tr>\n",
       "      <th>3</th>\n",
       "      <td>78522</td>\n",
       "      <td>Blood Glacier</td>\n",
       "      <td>Scientists working in the Austrian Alps discov...</td>\n",
       "      <td>scifi</td>\n",
       "    </tr>\n",
       "    <tr>\n",
       "      <th>4</th>\n",
       "      <td>2206</td>\n",
       "      <td>Apat na anino</td>\n",
       "      <td>Buy Day - Four Men Widely - Apart in Life - By...</td>\n",
       "      <td>action</td>\n",
       "    </tr>\n",
       "    <tr>\n",
       "      <th>5</th>\n",
       "      <td>46636</td>\n",
       "      <td>Le démon dans l'île</td>\n",
       "      <td>On an island, things start going crazy as the ...</td>\n",
       "      <td>horror</td>\n",
       "    </tr>\n",
       "    <tr>\n",
       "      <th>6</th>\n",
       "      <td>53777</td>\n",
       "      <td>Candid</td>\n",
       "      <td>A video voyeur stalks women in the city with a...</td>\n",
       "      <td>horror</td>\n",
       "    </tr>\n",
       "    <tr>\n",
       "      <th>7</th>\n",
       "      <td>24872</td>\n",
       "      <td>Hired</td>\n",
       "      <td>Twin brothers separated at birth and worlds ap...</td>\n",
       "      <td>crime</td>\n",
       "    </tr>\n",
       "    <tr>\n",
       "      <th>8</th>\n",
       "      <td>17224</td>\n",
       "      <td>Miruthan</td>\n",
       "      <td>A traffic police officer teams up with his fri...</td>\n",
       "      <td>adventure</td>\n",
       "    </tr>\n",
       "    <tr>\n",
       "      <th>9</th>\n",
       "      <td>54900</td>\n",
       "      <td>Until You See Me</td>\n",
       "      <td>A legendary tale unravels.</td>\n",
       "      <td>mystery</td>\n",
       "    </tr>\n",
       "  </tbody>\n",
       "</table>\n",
       "</div>"
      ],
      "text/plain": [
       "      id                                         movie_name  \\\n",
       "0  44978                                           Super Me   \n",
       "1  50185                                     Entity Project   \n",
       "2  34131  Behavioral Family Therapy for Serious Psychiat...   \n",
       "3  78522                                      Blood Glacier   \n",
       "4   2206                                      Apat na anino   \n",
       "5  46636                                Le démon dans l'île   \n",
       "6  53777                                             Candid   \n",
       "7  24872                                              Hired   \n",
       "8  17224                                           Miruthan   \n",
       "9  54900                                   Until You See Me   \n",
       "\n",
       "                                            synopsis      genre  \n",
       "0  A young scriptwriter starts bringing valuable ...    fantasy  \n",
       "1  A director and her friends renting a haunted h...     horror  \n",
       "2  This is an educational video for families and ...     family  \n",
       "3  Scientists working in the Austrian Alps discov...      scifi  \n",
       "4  Buy Day - Four Men Widely - Apart in Life - By...     action  \n",
       "5  On an island, things start going crazy as the ...     horror  \n",
       "6  A video voyeur stalks women in the city with a...     horror  \n",
       "7  Twin brothers separated at birth and worlds ap...      crime  \n",
       "8  A traffic police officer teams up with his fri...  adventure  \n",
       "9                         A legendary tale unravels.    mystery  "
      ]
     },
     "execution_count": 7,
     "metadata": {},
     "output_type": "execute_result"
    }
   ],
   "source": [
    "df_train_all.head(10)"
   ]
  },
  {
   "cell_type": "code",
   "execution_count": 8,
   "id": "c7b10cf6-fec4-4470-8920-e5b5f9189eb1",
   "metadata": {},
   "outputs": [
    {
     "data": {
      "text/plain": [
       "54000"
      ]
     },
     "execution_count": 8,
     "metadata": {},
     "output_type": "execute_result"
    }
   ],
   "source": [
    "len(df_train_all)"
   ]
  },
  {
   "cell_type": "code",
   "execution_count": 9,
   "id": "2c765110-6d4d-440a-8803-de6a6532ca13",
   "metadata": {},
   "outputs": [],
   "source": [
    "df_test_all = pd.DataFrame(dataset['test'])"
   ]
  },
  {
   "cell_type": "code",
   "execution_count": 10,
   "id": "ef1341d5-1aef-4070-b4d6-05f8bdf620aa",
   "metadata": {},
   "outputs": [
    {
     "data": {
      "text/html": [
       "<div>\n",
       "<style scoped>\n",
       "    .dataframe tbody tr th:only-of-type {\n",
       "        vertical-align: middle;\n",
       "    }\n",
       "\n",
       "    .dataframe tbody tr th {\n",
       "        vertical-align: top;\n",
       "    }\n",
       "\n",
       "    .dataframe thead th {\n",
       "        text-align: right;\n",
       "    }\n",
       "</style>\n",
       "<table border=\"1\" class=\"dataframe\">\n",
       "  <thead>\n",
       "    <tr style=\"text-align: right;\">\n",
       "      <th></th>\n",
       "      <th>id</th>\n",
       "      <th>movie_name</th>\n",
       "      <th>synopsis</th>\n",
       "      <th>genre</th>\n",
       "    </tr>\n",
       "  </thead>\n",
       "  <tbody>\n",
       "    <tr>\n",
       "      <th>0</th>\n",
       "      <td>16863</td>\n",
       "      <td>A Death Sentence</td>\n",
       "      <td>12 y.o. Ida's dad'll die without a DKK1,500,00...</td>\n",
       "      <td>action</td>\n",
       "    </tr>\n",
       "    <tr>\n",
       "      <th>1</th>\n",
       "      <td>48456</td>\n",
       "      <td>Intermedio</td>\n",
       "      <td>A group of four teenage friends become trapped...</td>\n",
       "      <td>action</td>\n",
       "    </tr>\n",
       "    <tr>\n",
       "      <th>2</th>\n",
       "      <td>41383</td>\n",
       "      <td>30 Chua Phai Tet</td>\n",
       "      <td>A guy left his home for 12 years till he came ...</td>\n",
       "      <td>action</td>\n",
       "    </tr>\n",
       "    <tr>\n",
       "      <th>3</th>\n",
       "      <td>84007</td>\n",
       "      <td>Paranoiac</td>\n",
       "      <td>A man long believed dead returns to the family...</td>\n",
       "      <td>action</td>\n",
       "    </tr>\n",
       "    <tr>\n",
       "      <th>4</th>\n",
       "      <td>40269</td>\n",
       "      <td>Ordinary Happiness</td>\n",
       "      <td>After a deadly accident, Paolo comes back on E...</td>\n",
       "      <td>action</td>\n",
       "    </tr>\n",
       "    <tr>\n",
       "      <th>5</th>\n",
       "      <td>16524</td>\n",
       "      <td>The Syndicate</td>\n",
       "      <td>An alcoholic, his wife, a down and out America...</td>\n",
       "      <td>action</td>\n",
       "    </tr>\n",
       "    <tr>\n",
       "      <th>6</th>\n",
       "      <td>21245</td>\n",
       "      <td>12 Depths</td>\n",
       "      <td>\"Struck by amnesia and framed for murder, a ma...</td>\n",
       "      <td>action</td>\n",
       "    </tr>\n",
       "    <tr>\n",
       "      <th>7</th>\n",
       "      <td>84681</td>\n",
       "      <td>The Feud</td>\n",
       "      <td>A mysterious man returns to his home in Iowa f...</td>\n",
       "      <td>action</td>\n",
       "    </tr>\n",
       "    <tr>\n",
       "      <th>8</th>\n",
       "      <td>73352</td>\n",
       "      <td>Cabin Fever: Patient Zero</td>\n",
       "      <td>When a group of friends enjoying a bachelor cr...</td>\n",
       "      <td>action</td>\n",
       "    </tr>\n",
       "    <tr>\n",
       "      <th>9</th>\n",
       "      <td>37966</td>\n",
       "      <td>Peregrina</td>\n",
       "      <td>After a near death experience, a young woman b...</td>\n",
       "      <td>action</td>\n",
       "    </tr>\n",
       "  </tbody>\n",
       "</table>\n",
       "</div>"
      ],
      "text/plain": [
       "      id                 movie_name  \\\n",
       "0  16863           A Death Sentence   \n",
       "1  48456                 Intermedio   \n",
       "2  41383           30 Chua Phai Tet   \n",
       "3  84007                  Paranoiac   \n",
       "4  40269         Ordinary Happiness   \n",
       "5  16524              The Syndicate   \n",
       "6  21245                  12 Depths   \n",
       "7  84681                   The Feud   \n",
       "8  73352  Cabin Fever: Patient Zero   \n",
       "9  37966                  Peregrina   \n",
       "\n",
       "                                            synopsis   genre  \n",
       "0  12 y.o. Ida's dad'll die without a DKK1,500,00...  action  \n",
       "1  A group of four teenage friends become trapped...  action  \n",
       "2  A guy left his home for 12 years till he came ...  action  \n",
       "3  A man long believed dead returns to the family...  action  \n",
       "4  After a deadly accident, Paolo comes back on E...  action  \n",
       "5  An alcoholic, his wife, a down and out America...  action  \n",
       "6  \"Struck by amnesia and framed for murder, a ma...  action  \n",
       "7  A mysterious man returns to his home in Iowa f...  action  \n",
       "8  When a group of friends enjoying a bachelor cr...  action  \n",
       "9  After a near death experience, a young woman b...  action  "
      ]
     },
     "execution_count": 10,
     "metadata": {},
     "output_type": "execute_result"
    }
   ],
   "source": [
    "df_test_all.head(10)"
   ]
  },
  {
   "cell_type": "code",
   "execution_count": 11,
   "id": "78bb95f0-47e4-474a-8d6e-86070b83604f",
   "metadata": {},
   "outputs": [
    {
     "data": {
      "text/plain": [
       "36000"
      ]
     },
     "execution_count": 11,
     "metadata": {},
     "output_type": "execute_result"
    }
   ],
   "source": [
    "len(df_test_all)"
   ]
  },
  {
   "cell_type": "markdown",
   "id": "c942b636-833a-4e40-aded-d643864b7c98",
   "metadata": {},
   "source": [
    "### Create The Samples"
   ]
  },
  {
   "cell_type": "code",
   "execution_count": 12,
   "id": "f080ee3b-98a0-41ba-98a9-55c293dffbd3",
   "metadata": {},
   "outputs": [],
   "source": [
    "df_train = df_train_all.sample(n=1000)"
   ]
  },
  {
   "cell_type": "code",
   "execution_count": 13,
   "id": "00e7c667-b7d4-41af-82d6-a061dc89a985",
   "metadata": {},
   "outputs": [
    {
     "data": {
      "text/html": [
       "<div>\n",
       "<style scoped>\n",
       "    .dataframe tbody tr th:only-of-type {\n",
       "        vertical-align: middle;\n",
       "    }\n",
       "\n",
       "    .dataframe tbody tr th {\n",
       "        vertical-align: top;\n",
       "    }\n",
       "\n",
       "    .dataframe thead th {\n",
       "        text-align: right;\n",
       "    }\n",
       "</style>\n",
       "<table border=\"1\" class=\"dataframe\">\n",
       "  <thead>\n",
       "    <tr style=\"text-align: right;\">\n",
       "      <th></th>\n",
       "      <th>id</th>\n",
       "      <th>movie_name</th>\n",
       "      <th>synopsis</th>\n",
       "      <th>genre</th>\n",
       "    </tr>\n",
       "  </thead>\n",
       "  <tbody>\n",
       "    <tr>\n",
       "      <th>13264</th>\n",
       "      <td>64982</td>\n",
       "      <td>Jeena Marna Tere Sang</td>\n",
       "      <td>Amar is the son of a millionaire. He decides t...</td>\n",
       "      <td>romance</td>\n",
       "    </tr>\n",
       "    <tr>\n",
       "      <th>10982</th>\n",
       "      <td>53192</td>\n",
       "      <td>Orochi</td>\n",
       "      <td>The story of Orochi revolves around the life o...</td>\n",
       "      <td>horror</td>\n",
       "    </tr>\n",
       "    <tr>\n",
       "      <th>46978</th>\n",
       "      <td>54388</td>\n",
       "      <td>Alien Code</td>\n",
       "      <td>After deciphering a message found in a satelli...</td>\n",
       "      <td>mystery</td>\n",
       "    </tr>\n",
       "    <tr>\n",
       "      <th>8427</th>\n",
       "      <td>53892</td>\n",
       "      <td>Ga-ga: Glory to the Heroes</td>\n",
       "      <td>In the 21st century, prisoners aboard penitent...</td>\n",
       "      <td>horror</td>\n",
       "    </tr>\n",
       "    <tr>\n",
       "      <th>2285</th>\n",
       "      <td>1071</td>\n",
       "      <td>Rasigan</td>\n",
       "      <td>Vijay and Anitha secretly love each other but ...</td>\n",
       "      <td>action</td>\n",
       "    </tr>\n",
       "  </tbody>\n",
       "</table>\n",
       "</div>"
      ],
      "text/plain": [
       "          id                  movie_name  \\\n",
       "13264  64982       Jeena Marna Tere Sang   \n",
       "10982  53192                      Orochi   \n",
       "46978  54388                  Alien Code   \n",
       "8427   53892  Ga-ga: Glory to the Heroes   \n",
       "2285    1071                     Rasigan   \n",
       "\n",
       "                                                synopsis    genre  \n",
       "13264  Amar is the son of a millionaire. He decides t...  romance  \n",
       "10982  The story of Orochi revolves around the life o...   horror  \n",
       "46978  After deciphering a message found in a satelli...  mystery  \n",
       "8427   In the 21st century, prisoners aboard penitent...   horror  \n",
       "2285   Vijay and Anitha secretly love each other but ...   action  "
      ]
     },
     "execution_count": 13,
     "metadata": {},
     "output_type": "execute_result"
    }
   ],
   "source": [
    "df_train.head()"
   ]
  },
  {
   "cell_type": "code",
   "execution_count": 14,
   "id": "3b898b86-26d0-46b3-9310-a45b2c6b4a9f",
   "metadata": {},
   "outputs": [],
   "source": [
    "df_rest = df_train_all.drop(labels=df_train.index)"
   ]
  },
  {
   "cell_type": "code",
   "execution_count": 15,
   "id": "7cb31984-a0bd-46a9-a56e-d819cc28919c",
   "metadata": {},
   "outputs": [],
   "source": [
    "df_validate = df_rest.sample(n=500)"
   ]
  },
  {
   "cell_type": "code",
   "execution_count": 16,
   "id": "2173fbfe-b257-466d-a537-2cbc3dae719f",
   "metadata": {},
   "outputs": [
    {
     "data": {
      "text/html": [
       "<div>\n",
       "<style scoped>\n",
       "    .dataframe tbody tr th:only-of-type {\n",
       "        vertical-align: middle;\n",
       "    }\n",
       "\n",
       "    .dataframe tbody tr th {\n",
       "        vertical-align: top;\n",
       "    }\n",
       "\n",
       "    .dataframe thead th {\n",
       "        text-align: right;\n",
       "    }\n",
       "</style>\n",
       "<table border=\"1\" class=\"dataframe\">\n",
       "  <thead>\n",
       "    <tr style=\"text-align: right;\">\n",
       "      <th></th>\n",
       "      <th>id</th>\n",
       "      <th>movie_name</th>\n",
       "      <th>synopsis</th>\n",
       "      <th>genre</th>\n",
       "    </tr>\n",
       "  </thead>\n",
       "  <tbody>\n",
       "    <tr>\n",
       "      <th>52253</th>\n",
       "      <td>43524</td>\n",
       "      <td>Blood Brothers</td>\n",
       "      <td>Two vampire friends, Nick and Tree, unite to p...</td>\n",
       "      <td>fantasy</td>\n",
       "    </tr>\n",
       "    <tr>\n",
       "      <th>32773</th>\n",
       "      <td>56278</td>\n",
       "      <td>Spirit Cabinet</td>\n",
       "      <td>Every ghost story is a mystery. Eight people s...</td>\n",
       "      <td>mystery</td>\n",
       "    </tr>\n",
       "    <tr>\n",
       "      <th>3836</th>\n",
       "      <td>15584</td>\n",
       "      <td>Mission Kill</td>\n",
       "      <td>An ex-Green Beret visits one of his army buddi...</td>\n",
       "      <td>adventure</td>\n",
       "    </tr>\n",
       "    <tr>\n",
       "      <th>12014</th>\n",
       "      <td>41468</td>\n",
       "      <td>Fantomas Unleashed</td>\n",
       "      <td>When Professor Marchand, a famous scientist, m...</td>\n",
       "      <td>fantasy</td>\n",
       "    </tr>\n",
       "    <tr>\n",
       "      <th>7951</th>\n",
       "      <td>89988</td>\n",
       "      <td>Tragic Hero</td>\n",
       "      <td>After being released from prison, Tang Kat Yun...</td>\n",
       "      <td>thriller</td>\n",
       "    </tr>\n",
       "  </tbody>\n",
       "</table>\n",
       "</div>"
      ],
      "text/plain": [
       "          id          movie_name  \\\n",
       "52253  43524      Blood Brothers   \n",
       "32773  56278      Spirit Cabinet   \n",
       "3836   15584        Mission Kill   \n",
       "12014  41468  Fantomas Unleashed   \n",
       "7951   89988         Tragic Hero   \n",
       "\n",
       "                                                synopsis      genre  \n",
       "52253  Two vampire friends, Nick and Tree, unite to p...    fantasy  \n",
       "32773  Every ghost story is a mystery. Eight people s...    mystery  \n",
       "3836   An ex-Green Beret visits one of his army buddi...  adventure  \n",
       "12014  When Professor Marchand, a famous scientist, m...    fantasy  \n",
       "7951   After being released from prison, Tang Kat Yun...   thriller  "
      ]
     },
     "execution_count": 16,
     "metadata": {},
     "output_type": "execute_result"
    }
   ],
   "source": [
    "df_validate.head()"
   ]
  },
  {
   "cell_type": "code",
   "execution_count": 17,
   "id": "7adaf0fd-2b43-44c3-ad5c-46ea7516b313",
   "metadata": {},
   "outputs": [],
   "source": [
    "df_test = df_test_all.sample(n=200)"
   ]
  },
  {
   "cell_type": "code",
   "execution_count": 18,
   "id": "496affc6-9f69-4b42-9f48-5aafa56c0794",
   "metadata": {},
   "outputs": [
    {
     "data": {
      "text/html": [
       "<div>\n",
       "<style scoped>\n",
       "    .dataframe tbody tr th:only-of-type {\n",
       "        vertical-align: middle;\n",
       "    }\n",
       "\n",
       "    .dataframe tbody tr th {\n",
       "        vertical-align: top;\n",
       "    }\n",
       "\n",
       "    .dataframe thead th {\n",
       "        text-align: right;\n",
       "    }\n",
       "</style>\n",
       "<table border=\"1\" class=\"dataframe\">\n",
       "  <thead>\n",
       "    <tr style=\"text-align: right;\">\n",
       "      <th></th>\n",
       "      <th>id</th>\n",
       "      <th>movie_name</th>\n",
       "      <th>synopsis</th>\n",
       "      <th>genre</th>\n",
       "    </tr>\n",
       "  </thead>\n",
       "  <tbody>\n",
       "    <tr>\n",
       "      <th>34709</th>\n",
       "      <td>41381</td>\n",
       "      <td>Sea Prince and the Fire Child</td>\n",
       "      <td>A prince of the sea and a child of fire engage...</td>\n",
       "      <td>action</td>\n",
       "    </tr>\n",
       "    <tr>\n",
       "      <th>32962</th>\n",
       "      <td>69766</td>\n",
       "      <td>Red Roses, Call for a Girl</td>\n",
       "      <td>UNSUSPECTING YOUNG GIRLS ARE SOLD TO WHITE SLA...</td>\n",
       "      <td>action</td>\n",
       "    </tr>\n",
       "    <tr>\n",
       "      <th>21790</th>\n",
       "      <td>69054</td>\n",
       "      <td>Hillbilly Blitzkrieg</td>\n",
       "      <td>Nazi spies mistake Snuffy Smith's moonshine fo...</td>\n",
       "      <td>action</td>\n",
       "    </tr>\n",
       "    <tr>\n",
       "      <th>16780</th>\n",
       "      <td>44352</td>\n",
       "      <td>63</td>\n",
       "      <td>A sixty-three year old high school substitute ...</td>\n",
       "      <td>action</td>\n",
       "    </tr>\n",
       "    <tr>\n",
       "      <th>11137</th>\n",
       "      <td>9114</td>\n",
       "      <td>The Reckless Way</td>\n",
       "      <td>A woman finds work as a model and takes advant...</td>\n",
       "      <td>action</td>\n",
       "    </tr>\n",
       "  </tbody>\n",
       "</table>\n",
       "</div>"
      ],
      "text/plain": [
       "          id                     movie_name  \\\n",
       "34709  41381  Sea Prince and the Fire Child   \n",
       "32962  69766     Red Roses, Call for a Girl   \n",
       "21790  69054           Hillbilly Blitzkrieg   \n",
       "16780  44352                             63   \n",
       "11137   9114               The Reckless Way   \n",
       "\n",
       "                                                synopsis   genre  \n",
       "34709  A prince of the sea and a child of fire engage...  action  \n",
       "32962  UNSUSPECTING YOUNG GIRLS ARE SOLD TO WHITE SLA...  action  \n",
       "21790  Nazi spies mistake Snuffy Smith's moonshine fo...  action  \n",
       "16780  A sixty-three year old high school substitute ...  action  \n",
       "11137  A woman finds work as a model and takes advant...  action  "
      ]
     },
     "execution_count": 18,
     "metadata": {},
     "output_type": "execute_result"
    }
   ],
   "source": [
    "df_test.head()"
   ]
  },
  {
   "cell_type": "markdown",
   "id": "25df2ddd-05a5-4bee-bfce-77aec2bbecd0",
   "metadata": {},
   "source": [
    "### One Hot Encode The Genre"
   ]
  },
  {
   "cell_type": "code",
   "execution_count": 22,
   "id": "97da780b-4655-45cd-8e2b-c5d1d0ed0a26",
   "metadata": {},
   "outputs": [],
   "source": [
    "ohe = OneHotEncoder(sparse_output=False)"
   ]
  },
  {
   "cell_type": "code",
   "execution_count": 23,
   "id": "3a914c24-0b5d-4609-8c09-84102989d5d4",
   "metadata": {},
   "outputs": [],
   "source": [
    "genre_encoded_train = ohe.fit_transform(df_train[['genre']])\n",
    "genre_encoded_validate = ohe.fit_transform(df_validate[['genre']])\n",
    "genre_encoded_test = ohe.fit_transform(df_test[['genre']])"
   ]
  },
  {
   "cell_type": "code",
   "execution_count": 24,
   "id": "2ad41fc9-b35d-4fe0-876f-c8603b20f0f8",
   "metadata": {},
   "outputs": [
    {
     "data": {
      "text/plain": [
       "(1000, 10)"
      ]
     },
     "execution_count": 24,
     "metadata": {},
     "output_type": "execute_result"
    }
   ],
   "source": [
    "genre_encoded_train.shape"
   ]
  },
  {
   "cell_type": "code",
   "execution_count": 25,
   "id": "b955c84f-747b-4121-8bbe-1d7bcd2345a8",
   "metadata": {},
   "outputs": [
    {
     "data": {
      "text/plain": [
       "array([0., 0., 0., 0., 0., 0., 0., 1., 0., 0.])"
      ]
     },
     "execution_count": 25,
     "metadata": {},
     "output_type": "execute_result"
    }
   ],
   "source": [
    "genre_encoded_train[0]"
   ]
  },
  {
   "cell_type": "code",
   "execution_count": 26,
   "id": "8febe075-1134-4f42-ac97-ae14fc3c088b",
   "metadata": {},
   "outputs": [],
   "source": [
    "Y_train = genre_encoded_train.argmax(axis=1)\n",
    "Y_validate = genre_encoded_validate.argmax(axis=1)\n",
    "Y_test = genre_encoded_test.argmax(axis=1)"
   ]
  },
  {
   "cell_type": "code",
   "execution_count": 27,
   "id": "595a73d0-f79b-44a6-a2cc-974c62f3eddc",
   "metadata": {},
   "outputs": [
    {
     "data": {
      "text/plain": [
       "1000"
      ]
     },
     "execution_count": 27,
     "metadata": {},
     "output_type": "execute_result"
    }
   ],
   "source": [
    "len(Y_train)"
   ]
  },
  {
   "cell_type": "markdown",
   "id": "b7eee5d4-0b4a-4617-ac13-6c2cd5038dd3",
   "metadata": {},
   "source": [
    "### Add Movie Name And Synopsis To One Column"
   ]
  },
  {
   "cell_type": "code",
   "execution_count": 28,
   "id": "749113f8-3065-4195-9170-5e772a92231a",
   "metadata": {},
   "outputs": [],
   "source": [
    "df_train['text'] = df_train['movie_name'] + ' ' + df_train['synopsis']\n",
    "df_validate['text'] = df_validate['movie_name'] + ' ' + df_validate['synopsis']\n",
    "df_test['text'] = df_test['movie_name'] + ' ' + df_test['synopsis']"
   ]
  },
  {
   "cell_type": "code",
   "execution_count": 29,
   "id": "14d6c0ee-d218-48bf-822f-ad4a3c232c84",
   "metadata": {},
   "outputs": [
    {
     "data": {
      "text/html": [
       "<div>\n",
       "<style scoped>\n",
       "    .dataframe tbody tr th:only-of-type {\n",
       "        vertical-align: middle;\n",
       "    }\n",
       "\n",
       "    .dataframe tbody tr th {\n",
       "        vertical-align: top;\n",
       "    }\n",
       "\n",
       "    .dataframe thead th {\n",
       "        text-align: right;\n",
       "    }\n",
       "</style>\n",
       "<table border=\"1\" class=\"dataframe\">\n",
       "  <thead>\n",
       "    <tr style=\"text-align: right;\">\n",
       "      <th></th>\n",
       "      <th>id</th>\n",
       "      <th>movie_name</th>\n",
       "      <th>synopsis</th>\n",
       "      <th>genre</th>\n",
       "      <th>text</th>\n",
       "    </tr>\n",
       "  </thead>\n",
       "  <tbody>\n",
       "    <tr>\n",
       "      <th>13264</th>\n",
       "      <td>64982</td>\n",
       "      <td>Jeena Marna Tere Sang</td>\n",
       "      <td>Amar is the son of a millionaire. He decides t...</td>\n",
       "      <td>romance</td>\n",
       "      <td>Jeena Marna Tere Sang Amar is the son of a mil...</td>\n",
       "    </tr>\n",
       "    <tr>\n",
       "      <th>10982</th>\n",
       "      <td>53192</td>\n",
       "      <td>Orochi</td>\n",
       "      <td>The story of Orochi revolves around the life o...</td>\n",
       "      <td>horror</td>\n",
       "      <td>Orochi The story of Orochi revolves around the...</td>\n",
       "    </tr>\n",
       "    <tr>\n",
       "      <th>46978</th>\n",
       "      <td>54388</td>\n",
       "      <td>Alien Code</td>\n",
       "      <td>After deciphering a message found in a satelli...</td>\n",
       "      <td>mystery</td>\n",
       "      <td>Alien Code After deciphering a message found i...</td>\n",
       "    </tr>\n",
       "    <tr>\n",
       "      <th>8427</th>\n",
       "      <td>53892</td>\n",
       "      <td>Ga-ga: Glory to the Heroes</td>\n",
       "      <td>In the 21st century, prisoners aboard penitent...</td>\n",
       "      <td>horror</td>\n",
       "      <td>Ga-ga: Glory to the Heroes In the 21st century...</td>\n",
       "    </tr>\n",
       "    <tr>\n",
       "      <th>2285</th>\n",
       "      <td>1071</td>\n",
       "      <td>Rasigan</td>\n",
       "      <td>Vijay and Anitha secretly love each other but ...</td>\n",
       "      <td>action</td>\n",
       "      <td>Rasigan Vijay and Anitha secretly love each ot...</td>\n",
       "    </tr>\n",
       "    <tr>\n",
       "      <th>33286</th>\n",
       "      <td>75692</td>\n",
       "      <td>Meta Runner Season 1 (Full Movie Cut)</td>\n",
       "      <td>In celebration of Season 2 being released soon...</td>\n",
       "      <td>scifi</td>\n",
       "      <td>Meta Runner Season 1 (Full Movie Cut) In celeb...</td>\n",
       "    </tr>\n",
       "    <tr>\n",
       "      <th>44082</th>\n",
       "      <td>66085</td>\n",
       "      <td>The Witness Chair</td>\n",
       "      <td>A woman watches as false murder-trial evidence...</td>\n",
       "      <td>romance</td>\n",
       "      <td>The Witness Chair A woman watches as false mur...</td>\n",
       "    </tr>\n",
       "    <tr>\n",
       "      <th>28609</th>\n",
       "      <td>28432</td>\n",
       "      <td>Funny Pets 2</td>\n",
       "      <td>Pets sit and discuss what it's like being a pe...</td>\n",
       "      <td>family</td>\n",
       "      <td>Funny Pets 2 Pets sit and discuss what it's li...</td>\n",
       "    </tr>\n",
       "    <tr>\n",
       "      <th>34997</th>\n",
       "      <td>37669</td>\n",
       "      <td>Satanic Verses: A New Era</td>\n",
       "      <td>Action Thriller of Biblical Fiction that shows...</td>\n",
       "      <td>fantasy</td>\n",
       "      <td>Satanic Verses: A New Era Action Thriller of B...</td>\n",
       "    </tr>\n",
       "    <tr>\n",
       "      <th>21200</th>\n",
       "      <td>80614</td>\n",
       "      <td>The Chronic Argonauts</td>\n",
       "      <td>Adaptation of the graphic novel, \"The Chronic ...</td>\n",
       "      <td>scifi</td>\n",
       "      <td>The Chronic Argonauts Adaptation of the graphi...</td>\n",
       "    </tr>\n",
       "  </tbody>\n",
       "</table>\n",
       "</div>"
      ],
      "text/plain": [
       "          id                             movie_name  \\\n",
       "13264  64982                  Jeena Marna Tere Sang   \n",
       "10982  53192                                 Orochi   \n",
       "46978  54388                             Alien Code   \n",
       "8427   53892             Ga-ga: Glory to the Heroes   \n",
       "2285    1071                                Rasigan   \n",
       "33286  75692  Meta Runner Season 1 (Full Movie Cut)   \n",
       "44082  66085                      The Witness Chair   \n",
       "28609  28432                           Funny Pets 2   \n",
       "34997  37669              Satanic Verses: A New Era   \n",
       "21200  80614                  The Chronic Argonauts   \n",
       "\n",
       "                                                synopsis    genre  \\\n",
       "13264  Amar is the son of a millionaire. He decides t...  romance   \n",
       "10982  The story of Orochi revolves around the life o...   horror   \n",
       "46978  After deciphering a message found in a satelli...  mystery   \n",
       "8427   In the 21st century, prisoners aboard penitent...   horror   \n",
       "2285   Vijay and Anitha secretly love each other but ...   action   \n",
       "33286  In celebration of Season 2 being released soon...    scifi   \n",
       "44082  A woman watches as false murder-trial evidence...  romance   \n",
       "28609  Pets sit and discuss what it's like being a pe...   family   \n",
       "34997  Action Thriller of Biblical Fiction that shows...  fantasy   \n",
       "21200  Adaptation of the graphic novel, \"The Chronic ...    scifi   \n",
       "\n",
       "                                                    text  \n",
       "13264  Jeena Marna Tere Sang Amar is the son of a mil...  \n",
       "10982  Orochi The story of Orochi revolves around the...  \n",
       "46978  Alien Code After deciphering a message found i...  \n",
       "8427   Ga-ga: Glory to the Heroes In the 21st century...  \n",
       "2285   Rasigan Vijay and Anitha secretly love each ot...  \n",
       "33286  Meta Runner Season 1 (Full Movie Cut) In celeb...  \n",
       "44082  The Witness Chair A woman watches as false mur...  \n",
       "28609  Funny Pets 2 Pets sit and discuss what it's li...  \n",
       "34997  Satanic Verses: A New Era Action Thriller of B...  \n",
       "21200  The Chronic Argonauts Adaptation of the graphi...  "
      ]
     },
     "execution_count": 29,
     "metadata": {},
     "output_type": "execute_result"
    }
   ],
   "source": [
    "df_train.head(10)"
   ]
  },
  {
   "cell_type": "markdown",
   "id": "bb705c32-a76a-4b88-977d-642cc9647188",
   "metadata": {},
   "source": [
    "### Using TFIDF"
   ]
  },
  {
   "cell_type": "code",
   "execution_count": 31,
   "id": "8b445b7d-001f-4525-8f97-4caa0b7e8fb4",
   "metadata": {},
   "outputs": [],
   "source": [
    "df_train_all['text'] = df_train_all['movie_name'] + ' ' + df_train_all['synopsis']"
   ]
  },
  {
   "cell_type": "code",
   "execution_count": 32,
   "id": "61dcf502-e804-4440-9bea-e2857bac7fac",
   "metadata": {},
   "outputs": [
    {
     "data": {
      "text/html": [
       "<style>#sk-container-id-1 {color: black;}#sk-container-id-1 pre{padding: 0;}#sk-container-id-1 div.sk-toggleable {background-color: white;}#sk-container-id-1 label.sk-toggleable__label {cursor: pointer;display: block;width: 100%;margin-bottom: 0;padding: 0.3em;box-sizing: border-box;text-align: center;}#sk-container-id-1 label.sk-toggleable__label-arrow:before {content: \"▸\";float: left;margin-right: 0.25em;color: #696969;}#sk-container-id-1 label.sk-toggleable__label-arrow:hover:before {color: black;}#sk-container-id-1 div.sk-estimator:hover label.sk-toggleable__label-arrow:before {color: black;}#sk-container-id-1 div.sk-toggleable__content {max-height: 0;max-width: 0;overflow: hidden;text-align: left;background-color: #f0f8ff;}#sk-container-id-1 div.sk-toggleable__content pre {margin: 0.2em;color: black;border-radius: 0.25em;background-color: #f0f8ff;}#sk-container-id-1 input.sk-toggleable__control:checked~div.sk-toggleable__content {max-height: 200px;max-width: 100%;overflow: auto;}#sk-container-id-1 input.sk-toggleable__control:checked~label.sk-toggleable__label-arrow:before {content: \"▾\";}#sk-container-id-1 div.sk-estimator input.sk-toggleable__control:checked~label.sk-toggleable__label {background-color: #d4ebff;}#sk-container-id-1 div.sk-label input.sk-toggleable__control:checked~label.sk-toggleable__label {background-color: #d4ebff;}#sk-container-id-1 input.sk-hidden--visually {border: 0;clip: rect(1px 1px 1px 1px);clip: rect(1px, 1px, 1px, 1px);height: 1px;margin: -1px;overflow: hidden;padding: 0;position: absolute;width: 1px;}#sk-container-id-1 div.sk-estimator {font-family: monospace;background-color: #f0f8ff;border: 1px dotted black;border-radius: 0.25em;box-sizing: border-box;margin-bottom: 0.5em;}#sk-container-id-1 div.sk-estimator:hover {background-color: #d4ebff;}#sk-container-id-1 div.sk-parallel-item::after {content: \"\";width: 100%;border-bottom: 1px solid gray;flex-grow: 1;}#sk-container-id-1 div.sk-label:hover label.sk-toggleable__label {background-color: #d4ebff;}#sk-container-id-1 div.sk-serial::before {content: \"\";position: absolute;border-left: 1px solid gray;box-sizing: border-box;top: 0;bottom: 0;left: 50%;z-index: 0;}#sk-container-id-1 div.sk-serial {display: flex;flex-direction: column;align-items: center;background-color: white;padding-right: 0.2em;padding-left: 0.2em;position: relative;}#sk-container-id-1 div.sk-item {position: relative;z-index: 1;}#sk-container-id-1 div.sk-parallel {display: flex;align-items: stretch;justify-content: center;background-color: white;position: relative;}#sk-container-id-1 div.sk-item::before, #sk-container-id-1 div.sk-parallel-item::before {content: \"\";position: absolute;border-left: 1px solid gray;box-sizing: border-box;top: 0;bottom: 0;left: 50%;z-index: -1;}#sk-container-id-1 div.sk-parallel-item {display: flex;flex-direction: column;z-index: 1;position: relative;background-color: white;}#sk-container-id-1 div.sk-parallel-item:first-child::after {align-self: flex-end;width: 50%;}#sk-container-id-1 div.sk-parallel-item:last-child::after {align-self: flex-start;width: 50%;}#sk-container-id-1 div.sk-parallel-item:only-child::after {width: 0;}#sk-container-id-1 div.sk-dashed-wrapped {border: 1px dashed gray;margin: 0 0.4em 0.5em 0.4em;box-sizing: border-box;padding-bottom: 0.4em;background-color: white;}#sk-container-id-1 div.sk-label label {font-family: monospace;font-weight: bold;display: inline-block;line-height: 1.2em;}#sk-container-id-1 div.sk-label-container {text-align: center;}#sk-container-id-1 div.sk-container {/* jupyter's `normalize.less` sets `[hidden] { display: none; }` but bootstrap.min.css set `[hidden] { display: none !important; }` so we also need the `!important` here to be able to override the default hidden behavior on the sphinx rendered scikit-learn.org. See: https://github.com/scikit-learn/scikit-learn/issues/21755 */display: inline-block !important;position: relative;}#sk-container-id-1 div.sk-text-repr-fallback {display: none;}</style><div id=\"sk-container-id-1\" class=\"sk-top-container\"><div class=\"sk-text-repr-fallback\"><pre>TfidfVectorizer(stop_words=&#x27;english&#x27;)</pre><b>In a Jupyter environment, please rerun this cell to show the HTML representation or trust the notebook. <br />On GitHub, the HTML representation is unable to render, please try loading this page with nbviewer.org.</b></div><div class=\"sk-container\" hidden><div class=\"sk-item\"><div class=\"sk-estimator sk-toggleable\"><input class=\"sk-toggleable__control sk-hidden--visually\" id=\"sk-estimator-id-1\" type=\"checkbox\" checked><label for=\"sk-estimator-id-1\" class=\"sk-toggleable__label sk-toggleable__label-arrow\">TfidfVectorizer</label><div class=\"sk-toggleable__content\"><pre>TfidfVectorizer(stop_words=&#x27;english&#x27;)</pre></div></div></div></div></div>"
      ],
      "text/plain": [
       "TfidfVectorizer(stop_words='english')"
      ]
     },
     "execution_count": 32,
     "metadata": {},
     "output_type": "execute_result"
    }
   ],
   "source": [
    "tfidf_vect = TfidfVectorizer(stop_words='english')\n",
    "tfidf_vect.fit(df_train_all['text'])"
   ]
  },
  {
   "cell_type": "code",
   "execution_count": 33,
   "id": "d6cefa9a-98f8-48de-8d1a-fc4c9348bedd",
   "metadata": {},
   "outputs": [
    {
     "data": {
      "text/plain": [
       "60378"
      ]
     },
     "execution_count": 33,
     "metadata": {},
     "output_type": "execute_result"
    }
   ],
   "source": [
    "len(tfidf_vect.vocabulary_)"
   ]
  },
  {
   "cell_type": "code",
   "execution_count": 34,
   "id": "0f229469-2ad0-488f-8696-87841226cfb8",
   "metadata": {},
   "outputs": [],
   "source": [
    "X_train_tfidf_vec = tfidf_vect.transform(df_train['text'])\n",
    "X_validate_tfidf_vec = tfidf_vect.transform(df_validate['text'])\n",
    "X_test_tfidf_vec = tfidf_vect.transform(df_test['text'])"
   ]
  },
  {
   "cell_type": "code",
   "execution_count": 35,
   "id": "4dd945a6-447a-45bf-b129-d8f79551a819",
   "metadata": {},
   "outputs": [
    {
     "data": {
      "text/plain": [
       "array([[0., 0., 0., ..., 0., 0., 0.],\n",
       "       [0., 0., 0., ..., 0., 0., 0.],\n",
       "       [0., 0., 0., ..., 0., 0., 0.],\n",
       "       [0., 0., 0., ..., 0., 0., 0.],\n",
       "       [0., 0., 0., ..., 0., 0., 0.]])"
      ]
     },
     "execution_count": 35,
     "metadata": {},
     "output_type": "execute_result"
    }
   ],
   "source": [
    "X_train_tfidf_vec[0:5].toarray()"
   ]
  },
  {
   "cell_type": "markdown",
   "id": "df4fd0d4-f48a-4e58-a78d-f231a8673567",
   "metadata": {},
   "source": [
    "### Running A Naive Bayes Model & Finding The Accuracy"
   ]
  },
  {
   "cell_type": "code",
   "execution_count": 39,
   "id": "ce736033-f920-4193-b10c-373e8b9355d1",
   "metadata": {},
   "outputs": [],
   "source": [
    "nb_model = MultinomialNB().fit(X_train_tfidf_vec, Y_train)"
   ]
  },
  {
   "cell_type": "code",
   "execution_count": 42,
   "id": "1d2a74ad-bfca-4cf4-911c-ed50c2fea517",
   "metadata": {},
   "outputs": [
    {
     "name": "stdout",
     "output_type": "stream",
     "text": [
      "Train accuracy:  0.995\n",
      "Validation accuracy:  0.212\n",
      "Test Accuracy:  0.01\n"
     ]
    }
   ],
   "source": [
    "predicted_train = nb_model.predict(X_train_tfidf_vec)\n",
    "print('Train accuracy: ', np.mean(predicted_train == Y_train))\n",
    "predicted_valid = nb_model.predict(X_validate_tfidf_vec)\n",
    "print('Validation accuracy: ', np.mean(predicted_valid == Y_validate))\n",
    "predicted_test = nb_model.predict(X_test_tfidf_vec)\n",
    "print('Test Accuracy: ', np.mean(predicted_test == Y_test))"
   ]
  },
  {
   "cell_type": "markdown",
   "id": "1c0d1238-ad36-4414-b303-bcc2586d887d",
   "metadata": {},
   "source": [
    "### Use Random Forests"
   ]
  },
  {
   "cell_type": "code",
   "execution_count": 45,
   "id": "bcf01a2d-b2e3-4a62-b593-3dac4cc438e0",
   "metadata": {},
   "outputs": [],
   "source": [
    "rf_model = RandomForestClassifier(n_estimators = 100).fit(X_train_tfidf_vec, Y_train)"
   ]
  },
  {
   "cell_type": "code",
   "execution_count": 46,
   "id": "2d25f197-78e9-428c-95eb-af86ff70e801",
   "metadata": {},
   "outputs": [
    {
     "name": "stdout",
     "output_type": "stream",
     "text": [
      "Train accuracy:  0.997\n",
      "Validation accuracy:  0.212\n",
      "Test Accuracy:  0.12\n"
     ]
    }
   ],
   "source": [
    "predicted_train = rf_model.predict(X_train_tfidf_vec)\n",
    "print('Train accuracy: ', np.mean(predicted_train == Y_train))\n",
    "predicted_valid = rf_model.predict(X_validate_tfidf_vec)\n",
    "print('Validation accuracy: ', np.mean(predicted_valid == Y_validate))\n",
    "predicted_test = rf_model.predict(X_test_tfidf_vec)\n",
    "print('Test Accuracy: ', np.mean(predicted_test == Y_test))"
   ]
  },
  {
   "cell_type": "markdown",
   "id": "b64b7c21-1dcd-4afc-a76d-155c47acc5c0",
   "metadata": {},
   "source": [
    "### Increase The Data Set Size, Train & Predict On Whole Dataset"
   ]
  },
  {
   "cell_type": "code",
   "execution_count": 47,
   "id": "bbf2edb6-aeb5-438c-b9c5-dfb74ce351ff",
   "metadata": {},
   "outputs": [],
   "source": [
    "ohe = OneHotEncoder(sparse_output=False)"
   ]
  },
  {
   "cell_type": "code",
   "execution_count": 48,
   "id": "fee287cd-b1dd-42a6-8add-c8c88f7ce7fc",
   "metadata": {},
   "outputs": [],
   "source": [
    "genre_encoded_train_all = ohe.fit_transform(df_train_all[['genre']])\n",
    "genre_encoded_test_all = ohe.fit_transform(df_test_all[['genre']])"
   ]
  },
  {
   "cell_type": "code",
   "execution_count": 49,
   "id": "0381722b-1d32-4f49-8297-fe6cbcfd706d",
   "metadata": {},
   "outputs": [],
   "source": [
    "Y_train = genre_encoded_train_all.argmax(axis=1)\n",
    "Y_test = genre_encoded_test_all.argmax(axis=1)"
   ]
  },
  {
   "cell_type": "code",
   "execution_count": 50,
   "id": "f9559d6f-531e-4fcd-b662-1c78b8878f27",
   "metadata": {},
   "outputs": [
    {
     "data": {
      "text/plain": [
       "54000"
      ]
     },
     "execution_count": 50,
     "metadata": {},
     "output_type": "execute_result"
    }
   ],
   "source": [
    "len(Y_train)"
   ]
  },
  {
   "cell_type": "code",
   "execution_count": 60,
   "id": "5bffa726-48c9-41e4-9d83-c3ee54762658",
   "metadata": {},
   "outputs": [],
   "source": [
    "df_train_all['text'] = df_train_all['movie_name'] + ' ' + df_train_all['synopsis']\n",
    "df_test_all['text'] = df_test_all['movie_name'] + ' ' + df_test_all['synopsis']"
   ]
  },
  {
   "cell_type": "code",
   "execution_count": 61,
   "id": "cf1ce4b0-3fee-480d-a0f5-6dd805c23834",
   "metadata": {},
   "outputs": [
    {
     "data": {
      "text/html": [
       "<style>#sk-container-id-5 {color: black;}#sk-container-id-5 pre{padding: 0;}#sk-container-id-5 div.sk-toggleable {background-color: white;}#sk-container-id-5 label.sk-toggleable__label {cursor: pointer;display: block;width: 100%;margin-bottom: 0;padding: 0.3em;box-sizing: border-box;text-align: center;}#sk-container-id-5 label.sk-toggleable__label-arrow:before {content: \"▸\";float: left;margin-right: 0.25em;color: #696969;}#sk-container-id-5 label.sk-toggleable__label-arrow:hover:before {color: black;}#sk-container-id-5 div.sk-estimator:hover label.sk-toggleable__label-arrow:before {color: black;}#sk-container-id-5 div.sk-toggleable__content {max-height: 0;max-width: 0;overflow: hidden;text-align: left;background-color: #f0f8ff;}#sk-container-id-5 div.sk-toggleable__content pre {margin: 0.2em;color: black;border-radius: 0.25em;background-color: #f0f8ff;}#sk-container-id-5 input.sk-toggleable__control:checked~div.sk-toggleable__content {max-height: 200px;max-width: 100%;overflow: auto;}#sk-container-id-5 input.sk-toggleable__control:checked~label.sk-toggleable__label-arrow:before {content: \"▾\";}#sk-container-id-5 div.sk-estimator input.sk-toggleable__control:checked~label.sk-toggleable__label {background-color: #d4ebff;}#sk-container-id-5 div.sk-label input.sk-toggleable__control:checked~label.sk-toggleable__label {background-color: #d4ebff;}#sk-container-id-5 input.sk-hidden--visually {border: 0;clip: rect(1px 1px 1px 1px);clip: rect(1px, 1px, 1px, 1px);height: 1px;margin: -1px;overflow: hidden;padding: 0;position: absolute;width: 1px;}#sk-container-id-5 div.sk-estimator {font-family: monospace;background-color: #f0f8ff;border: 1px dotted black;border-radius: 0.25em;box-sizing: border-box;margin-bottom: 0.5em;}#sk-container-id-5 div.sk-estimator:hover {background-color: #d4ebff;}#sk-container-id-5 div.sk-parallel-item::after {content: \"\";width: 100%;border-bottom: 1px solid gray;flex-grow: 1;}#sk-container-id-5 div.sk-label:hover label.sk-toggleable__label {background-color: #d4ebff;}#sk-container-id-5 div.sk-serial::before {content: \"\";position: absolute;border-left: 1px solid gray;box-sizing: border-box;top: 0;bottom: 0;left: 50%;z-index: 0;}#sk-container-id-5 div.sk-serial {display: flex;flex-direction: column;align-items: center;background-color: white;padding-right: 0.2em;padding-left: 0.2em;position: relative;}#sk-container-id-5 div.sk-item {position: relative;z-index: 1;}#sk-container-id-5 div.sk-parallel {display: flex;align-items: stretch;justify-content: center;background-color: white;position: relative;}#sk-container-id-5 div.sk-item::before, #sk-container-id-5 div.sk-parallel-item::before {content: \"\";position: absolute;border-left: 1px solid gray;box-sizing: border-box;top: 0;bottom: 0;left: 50%;z-index: -1;}#sk-container-id-5 div.sk-parallel-item {display: flex;flex-direction: column;z-index: 1;position: relative;background-color: white;}#sk-container-id-5 div.sk-parallel-item:first-child::after {align-self: flex-end;width: 50%;}#sk-container-id-5 div.sk-parallel-item:last-child::after {align-self: flex-start;width: 50%;}#sk-container-id-5 div.sk-parallel-item:only-child::after {width: 0;}#sk-container-id-5 div.sk-dashed-wrapped {border: 1px dashed gray;margin: 0 0.4em 0.5em 0.4em;box-sizing: border-box;padding-bottom: 0.4em;background-color: white;}#sk-container-id-5 div.sk-label label {font-family: monospace;font-weight: bold;display: inline-block;line-height: 1.2em;}#sk-container-id-5 div.sk-label-container {text-align: center;}#sk-container-id-5 div.sk-container {/* jupyter's `normalize.less` sets `[hidden] { display: none; }` but bootstrap.min.css set `[hidden] { display: none !important; }` so we also need the `!important` here to be able to override the default hidden behavior on the sphinx rendered scikit-learn.org. See: https://github.com/scikit-learn/scikit-learn/issues/21755 */display: inline-block !important;position: relative;}#sk-container-id-5 div.sk-text-repr-fallback {display: none;}</style><div id=\"sk-container-id-5\" class=\"sk-top-container\"><div class=\"sk-text-repr-fallback\"><pre>TfidfVectorizer(stop_words=&#x27;english&#x27;)</pre><b>In a Jupyter environment, please rerun this cell to show the HTML representation or trust the notebook. <br />On GitHub, the HTML representation is unable to render, please try loading this page with nbviewer.org.</b></div><div class=\"sk-container\" hidden><div class=\"sk-item\"><div class=\"sk-estimator sk-toggleable\"><input class=\"sk-toggleable__control sk-hidden--visually\" id=\"sk-estimator-id-5\" type=\"checkbox\" checked><label for=\"sk-estimator-id-5\" class=\"sk-toggleable__label sk-toggleable__label-arrow\">TfidfVectorizer</label><div class=\"sk-toggleable__content\"><pre>TfidfVectorizer(stop_words=&#x27;english&#x27;)</pre></div></div></div></div></div>"
      ],
      "text/plain": [
       "TfidfVectorizer(stop_words='english')"
      ]
     },
     "execution_count": 61,
     "metadata": {},
     "output_type": "execute_result"
    }
   ],
   "source": [
    "tfidf_vect = TfidfVectorizer(stop_words='english')\n",
    "tfidf_vect.fit(df_train_all['text'])"
   ]
  },
  {
   "cell_type": "code",
   "execution_count": 62,
   "id": "3e01a607-9e62-4796-b8ce-32c4f7be19aa",
   "metadata": {},
   "outputs": [],
   "source": [
    "X_train_all_tfidf_vec = tfidf_vect.transform(df_train_all['text'])\n",
    "X_test_all_tfidf_vec = tfidf_vect.transform(df_test_all['text'])"
   ]
  },
  {
   "cell_type": "code",
   "execution_count": 63,
   "id": "fddce08c-79ef-47ca-8223-68103f8d75ac",
   "metadata": {},
   "outputs": [
    {
     "data": {
      "text/plain": [
       "(54000, 60378)"
      ]
     },
     "execution_count": 63,
     "metadata": {},
     "output_type": "execute_result"
    }
   ],
   "source": [
    "X_train_all_tfidf_vec.shape"
   ]
  },
  {
   "cell_type": "code",
   "execution_count": 64,
   "id": "995342f6-3f7c-43cb-8e3f-7f1bae3f3168",
   "metadata": {},
   "outputs": [
    {
     "name": "stdout",
     "output_type": "stream",
     "text": [
      "CPU times: user 33.9 ms, sys: 5.66 ms, total: 39.6 ms\n",
      "Wall time: 37.3 ms\n"
     ]
    }
   ],
   "source": [
    "%%time\n",
    "nb_model = MultinomialNB().fit(X_train_all_tfidf_vec, Y_train)"
   ]
  },
  {
   "cell_type": "code",
   "execution_count": 65,
   "id": "666a7062-a73f-45dd-9ded-9d70b2d33a6d",
   "metadata": {},
   "outputs": [
    {
     "name": "stdout",
     "output_type": "stream",
     "text": [
      "Train accuracy:  0.6105185185185186\n",
      "Test Accuracy:  0.08141666666666666\n"
     ]
    }
   ],
   "source": [
    "predicted_train = nb_model.predict(X_train_all_tfidf_vec)\n",
    "print('Train accuracy: ', np.mean(predicted_train == Y_train))\n",
    "predicted_test = nb_model.predict(X_test_all_tfidf_vec)\n",
    "print('Test Accuracy: ', np.mean(predicted_test == Y_test))"
   ]
  },
  {
   "cell_type": "code",
   "execution_count": 68,
   "id": "bf0304c8-4ff7-4c94-8cb8-f112d3b4f912",
   "metadata": {},
   "outputs": [
    {
     "name": "stderr",
     "output_type": "stream",
     "text": [
      "[Parallel(n_jobs=-1)]: Using backend ThreadingBackend with 8 concurrent workers.\n",
      "[Parallel(n_jobs=-1)]: Done  34 tasks      | elapsed:  1.2min\n",
      "[Parallel(n_jobs=-1)]: Done 184 tasks      | elapsed:  5.6min\n",
      "[Parallel(n_jobs=-1)]: Done 434 tasks      | elapsed: 13.6min\n",
      "[Parallel(n_jobs=-1)]: Done 784 tasks      | elapsed: 24.4min\n"
     ]
    },
    {
     "name": "stdout",
     "output_type": "stream",
     "text": [
      "CPU times: user 3h 34min 51s, sys: 1min 3s, total: 3h 35min 54s\n",
      "Wall time: 30min 53s\n"
     ]
    },
    {
     "name": "stderr",
     "output_type": "stream",
     "text": [
      "[Parallel(n_jobs=-1)]: Done 1000 out of 1000 | elapsed: 30.9min finished\n"
     ]
    }
   ],
   "source": [
    "%%time\n",
    "rf_model = RandomForestClassifier(n_estimators = 1000, n_jobs=-1, verbose=1).fit(X_train_all_tfidf_vec, Y_train)"
   ]
  },
  {
   "cell_type": "code",
   "execution_count": 69,
   "id": "c749881b-21b9-4e91-a98a-56990f0720f6",
   "metadata": {},
   "outputs": [
    {
     "name": "stdout",
     "output_type": "stream",
     "text": [
      "Train accuracy:  0.6105185185185186\n",
      "Test Accuracy:  0.08141666666666666\n"
     ]
    }
   ],
   "source": [
    "predicted_train = nb_model.predict(X_train_all_tfidf_vec)\n",
    "print('Train accuracy: ', np.mean(predicted_train == Y_train))\n",
    "predicted_test = nb_model.predict(X_test_all_tfidf_vec)\n",
    "print('Test Accuracy: ', np.mean(predicted_test == Y_test))"
   ]
  },
  {
   "cell_type": "code",
   "execution_count": null,
   "id": "b7604c98-b1de-40d1-9920-3d1160140570",
   "metadata": {},
   "outputs": [],
   "source": []
  }
 ],
 "metadata": {
  "kernelspec": {
   "display_name": "Python 3 (ipykernel)",
   "language": "python",
   "name": "python3"
  },
  "language_info": {
   "codemirror_mode": {
    "name": "ipython",
    "version": 3
   },
   "file_extension": ".py",
   "mimetype": "text/x-python",
   "name": "python",
   "nbconvert_exporter": "python",
   "pygments_lexer": "ipython3",
   "version": "3.11.4"
  }
 },
 "nbformat": 4,
 "nbformat_minor": 5
}
